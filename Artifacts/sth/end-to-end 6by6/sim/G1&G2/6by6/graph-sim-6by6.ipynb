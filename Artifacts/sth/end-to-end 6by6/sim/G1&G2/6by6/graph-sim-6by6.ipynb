{
 "cells": [
  {
   "cell_type": "markdown",
   "id": "d7fb5a91",
   "metadata": {},
   "source": [
    "Process for CVQC"
   ]
  },
  {
   "cell_type": "code",
   "execution_count": 1,
   "id": "85fb3a3d",
   "metadata": {
    "execution": {
     "iopub.execute_input": "2023-07-10T11:41:18.887561Z",
     "iopub.status.busy": "2023-07-10T11:41:18.887284Z",
     "iopub.status.idle": "2023-07-10T11:41:19.809795Z",
     "shell.execute_reply": "2023-07-10T11:41:19.809222Z"
    }
   },
   "outputs": [],
   "source": [
    "import csv\n",
    "import time\n",
    "import random\n",
    "import numpy as np\n",
    "import networkx as nx\n",
    "import strawberryfields as sf\n",
    "import matplotlib.pyplot as plt\n",
    "from scipy.optimize import fsolve\n",
    "from strawberryfields import ops\n",
    "from itertools import combinations\n",
    "from strawberryfields.apps import data, qchem, plot\n",
    "from strawberryfields.utils import random_interferometer\n",
    "from strawberryfields.apps.similarity import feature_vector_orbits_sampling"
   ]
  },
  {
   "cell_type": "markdown",
   "id": "2ba78470",
   "metadata": {},
   "source": [
    "Step1: Mapping"
   ]
  },
  {
   "cell_type": "code",
   "execution_count": 2,
   "id": "61e53b11",
   "metadata": {
    "execution": {
     "iopub.execute_input": "2023-07-10T11:41:19.812962Z",
     "iopub.status.busy": "2023-07-10T11:41:19.812163Z",
     "iopub.status.idle": "2023-07-10T11:41:19.816687Z",
     "shell.execute_reply": "2023-07-10T11:41:19.816272Z"
    }
   },
   "outputs": [],
   "source": [
    "# function that take a raw matrix and k (number of columns) and n (the nth number you want to compare) value in, return the best k columns\n",
    "def find_best_k_combination(matrix, k, n):\n",
    "    # get all possible combination\n",
    "    num_columns = matrix.shape[1]\n",
    "    column_combinations = combinations(range(num_columns), k)\n",
    "        \n",
    "#     column_combinations = get_column_combinations(matrix, k)\n",
    "    \n",
    "    strength = []\n",
    "    Combination = []\n",
    "\n",
    "    for combination in column_combinations:\n",
    "        Combination.append(combination)\n",
    "        selected_columns = matrix[:, combination]\n",
    "        # calculate the row abs square sum\n",
    "        row_sums = np.sum(np.abs(selected_columns) ** 2, axis=1)\n",
    "        # make it decrease\n",
    "        sorted_indices = np.argsort(row_sums)[::-1]\n",
    "        sorted_row_sums = row_sums[sorted_indices]\n",
    "        val = sorted_row_sums[n-1]\n",
    "        strength.append(val)\n",
    "\n",
    "    largest_value = np.max(strength)\n",
    "    largest_index = np.argmax(strength)\n",
    "\n",
    "    # find the best combination\n",
    "    best_combination = Combination[largest_index]\n",
    "    best_selected_columns = matrix[:, best_combination]\n",
    "\n",
    "    return best_selected_columns"
   ]
  },
  {
   "cell_type": "code",
   "execution_count": 3,
   "id": "eacea0bc",
   "metadata": {
    "execution": {
     "iopub.execute_input": "2023-07-10T11:41:19.818770Z",
     "iopub.status.busy": "2023-07-10T11:41:19.818422Z",
     "iopub.status.idle": "2023-07-10T11:41:19.826376Z",
     "shell.execute_reply": "2023-07-10T11:41:19.825923Z"
    }
   },
   "outputs": [],
   "source": [
    "# final function, recieve the original matrix and a list of len, also n (the nth number you want to compare), return the permuted matrix\n",
    "# U = row_per_matrix*U'*col_per_matrix\n",
    "def mapping(U, len_list, n):\n",
    "    \n",
    "    M, N = U.shape\n",
    "    total_len = sum(len_list)\n",
    "    assert N == total_len\n",
    "    \n",
    "    # copy U\n",
    "    U_t = U.copy()\n",
    "#     print(U)\n",
    "    \n",
    "    # new column permutation\n",
    "    for i, length in enumerate(len_list):\n",
    "        if i<len(len_list)-1:\n",
    "            U_new = U_t[:,:length].copy()\n",
    "#             print(\"i:\", i)\n",
    "            # calculate the row abs square sum\n",
    "            row_sums = np.sum(np.abs(U_new) ** 2, axis=1)\n",
    "            U_new_update = U_new.copy()\n",
    "            # iterate remain column\n",
    "            for j in range(np.sum(len_list[i+1:])):\n",
    "#                 print(\"j:\", j)\n",
    "                for k in range(length):\n",
    "#                     print(\"k:\", k)\n",
    "                    U_new_update_k = U_new_update[:,k].copy()\n",
    "                    U_new_update[:,k] = U_t[:,length+j].copy()\n",
    "                    # calculate the row abs square sum\n",
    "                    row_sums_update = np.sum(np.abs(U_new_update) ** 2, axis=1)\n",
    "                \n",
    "                    if np.sort(row_sums_update)[::-1][n-1] > np.sort(row_sums)[::-1][n-1]:\n",
    "#                     row_sums_update[n-1] > row_sums[n-1]:\n",
    "                        U_new = U_new_update.copy()\n",
    "                        U_t[:,length+j] = U_new_update_k.copy()\n",
    "                        U_t[:,:length] = U_new.copy()\n",
    "                        row_sums = row_sums_update\n",
    "                    else:\n",
    "                        U_new_update = U_new.copy()\n",
    "\n",
    "            \n",
    "            # add U_new to U_per\n",
    "            if i==0:\n",
    "                U_per = U_new.copy()\n",
    "            elif i==len(len_list)-2:\n",
    "                U_per = np.hstack((U_per, U_t)).copy()\n",
    "            else:\n",
    "                U_per = np.hstack((U_per, U_new)).copy()\n",
    "\n",
    "            \n",
    "            # drop U_new from U_t\n",
    "            U_t = U_t[:,length:].copy()\n",
    "        \n",
    "                    \n",
    "\n",
    "#     for i, length in enumerate(len_list):\n",
    "#         U_new = find_best_k_combination(U_t, length, n)\n",
    "        \n",
    "#         # Find column indices in the larger matrix corresponding to the smaller matrix\n",
    "#         selected_columns = []\n",
    "#         for col in range(U_new.shape[1]):\n",
    "#             for j in range(U_t.shape[1]):\n",
    "#                 if np.array_equal(U_new[:, col], U_t[:, j]):\n",
    "#                     selected_columns.append(j)\n",
    "#                     break\n",
    "\n",
    "#         # drop U_new from U_t\n",
    "#         U_t = np.delete(U_t, selected_columns, axis=1)\n",
    "        \n",
    "#         # add U_new to U_per\n",
    "#         if i==0:\n",
    "#             U_per = U_new\n",
    "#         else:\n",
    "#             U_per = np.hstack((U_per, U_new))\n",
    "      \n",
    "      \n",
    "    # find the permutation from U_per to U\n",
    "    col_permutation = []\n",
    "    for col in range(U_per.shape[1]):\n",
    "        for i in range(U.shape[1]):\n",
    "            if np.array_equal(U_per[:, col], U[:, i]):\n",
    "                col_permutation.append(i)\n",
    "                break\n",
    "                \n",
    "    # find the columns permutation matrix\n",
    "    col_per_matrix = np.zeros((N, N))\n",
    "    for i in range(N):\n",
    "        col_per_matrix[col_permutation[i], i] = 1\n",
    "        \n",
    "\n",
    "\n",
    "    # calculate the sum of first len for U_per\n",
    "    selected_columns = U_per[:, :len_list[0]] \n",
    "    # calculate the row abs square sum\n",
    "    row_sums = np.sum(np.abs(selected_columns) ** 2, axis=1)\n",
    "    \n",
    "    # decide the row rotation\n",
    "    sorted_indices = np.argsort(row_sums)\n",
    "    U_per_new = U_per[sorted_indices]\n",
    "    \n",
    "    # Find row permutation\n",
    "    row_permutation = []\n",
    "    for row in range(U_per_new.shape[0]):\n",
    "        for i in range(U_per.shape[0]):\n",
    "            if np.array_equal(U_per_new[row, :], U_per[i, :]):\n",
    "                row_permutation.append(i)\n",
    "                break\n",
    "                \n",
    "    # find the rows permutation matrix\n",
    "    row_per_matrix = np.zeros((M, M))\n",
    "    for i in range(M):\n",
    "        row_per_matrix[i, row_permutation[i]] = 1\n",
    "        \n",
    "    \n",
    "    U_final = U_per_new\n",
    "    \n",
    "    # U_final = U_per, out put U_final and the permutation\n",
    "    return U_final, col_per_matrix.T, row_per_matrix.T"
   ]
  },
  {
   "cell_type": "code",
   "execution_count": null,
   "id": "552d9a09",
   "metadata": {},
   "outputs": [],
   "source": []
  },
  {
   "cell_type": "markdown",
   "id": "548f1c1d",
   "metadata": {},
   "source": [
    "Step2: Matrix Decomposition"
   ]
  },
  {
   "cell_type": "code",
   "execution_count": 4,
   "id": "a82af31b",
   "metadata": {
    "execution": {
     "iopub.execute_input": "2023-07-10T11:41:19.828409Z",
     "iopub.status.busy": "2023-07-10T11:41:19.828077Z",
     "iopub.status.idle": "2023-07-10T11:41:19.833187Z",
     "shell.execute_reply": "2023-07-10T11:41:19.832740Z"
    }
   },
   "outputs": [],
   "source": [
    "# Define the left eliminate equations\n",
    "def left_equations(variables,parameters):\n",
    "    theta, phi = variables\n",
    "    a_r, a_i, b_r, b_i = parameters\n",
    "    eq1 = a_r * np.cos(phi) * np.cos(theta) + a_i * np.sin(phi) * np.cos(theta) - b_r * np.sin(theta)\n",
    "    eq2 = a_i * np.cos(phi) * np.cos(theta) - a_r * np.sin(phi) * np.cos(theta) - b_i * np.sin(theta)\n",
    "    return [eq1, eq2]\n",
    "\n",
    "# function of left elimination\n",
    "def left_elimination(a,b):\n",
    "    a_r = np.real(a)\n",
    "    a_i = np.imag(a)\n",
    "    b_r = np.real(b)\n",
    "    b_i = np.imag(b)\n",
    "    \n",
    "    # Solve the system of equations\n",
    "    initial_guess = [0, 0]  # Initial guess for the variables\n",
    "    parameters = [a_r, a_i, b_r, b_i]\n",
    "    raw_solution = fsolve(left_equations, initial_guess, args=(parameters,))\n",
    "    \n",
    "    \n",
    "    if np.abs(a_r) < 1e-8 and np.abs(b_i) < 1e-8:\n",
    "            raw_solution = [np.arctan(a_i/b_r), np.pi/2]\n",
    "        \n",
    "    if np.abs(a_i) < 1e-8 and np.abs(b_r) < 1e-8:\n",
    "            raw_solution = [np.arctan(-a_r/b_i), np.pi/2]\n",
    "            \n",
    "            \n",
    "    if np.abs(b_r) < 1e-8 and np.abs(b_i) < 1e-8:\n",
    "            raw_solution = [np.pi/2, 0]\n",
    "    \n",
    "    \n",
    "    normalized_solution = [angle % (2 * np.pi) for angle in raw_solution]\n",
    "    solution = []\n",
    "    for angle in normalized_solution:\n",
    "        if angle < np.pi:\n",
    "            solution.append(angle)\n",
    "        else:\n",
    "            solution.append(angle-2*np.pi)\n",
    "\n",
    "    # Print the solution\n",
    "#     print(\"Solution:\", solution)\n",
    "    return solution"
   ]
  },
  {
   "cell_type": "code",
   "execution_count": 5,
   "id": "5493f4e2",
   "metadata": {
    "execution": {
     "iopub.execute_input": "2023-07-10T11:41:19.835099Z",
     "iopub.status.busy": "2023-07-10T11:41:19.834777Z",
     "iopub.status.idle": "2023-07-10T11:41:19.839802Z",
     "shell.execute_reply": "2023-07-10T11:41:19.839385Z"
    }
   },
   "outputs": [],
   "source": [
    "# Define the right eliminate equations\n",
    "def right_equations(variables,parameters):\n",
    "    theta, phi = variables\n",
    "    a_r, a_i, b_r, b_i = parameters\n",
    "    eq1 = a_r * np.cos(phi) * np.sin(theta) + a_i * np.sin(phi) * np.sin(theta) + b_r * np.cos(theta)\n",
    "    eq2 = a_i * np.cos(phi) * np.sin(theta) - a_r * np.sin(phi) * np.sin(theta) + b_i * np.cos(theta)\n",
    "    return [eq1, eq2]\n",
    "\n",
    "# function of right elimination\n",
    "def right_elimination(a,b):\n",
    "    a_r = np.real(a)\n",
    "    a_i = np.imag(a)\n",
    "    b_r = np.real(b)\n",
    "    b_i = np.imag(b)\n",
    "    \n",
    "    # Solve the system of equations\n",
    "    initial_guess = [0, 0]  # Initial guess for the variables\n",
    "    parameters = [a_r, a_i, b_r, b_i]\n",
    "    raw_solution = fsolve(right_equations, initial_guess, args=(parameters,))\n",
    "    \n",
    "    if np.abs(a_r) < 1e-8 and np.abs(b_i) < 1e-8:\n",
    "        raw_solution = [np.arctan(-b_r/a_i), np.pi/2]\n",
    "        \n",
    "    if np.abs(a_i) < 1e-8 and np.abs(b_r) < 1e-8:\n",
    "        raw_solution = [np.arctan(b_i/a_r), np.pi/2]\n",
    "        \n",
    "    if np.abs(a_r) < 1e-8 and np.abs(a_i) < 1e-8:\n",
    "        raw_solution = [np.pi/2, 0]\n",
    "    \n",
    "    normalized_solution = [angle % (2 * np.pi) for angle in raw_solution]\n",
    "    solution = []\n",
    "    for angle in normalized_solution:\n",
    "        if angle < np.pi:\n",
    "            solution.append(angle)\n",
    "        else:\n",
    "            solution.append(angle-2*np.pi)\n",
    "\n",
    "    # Print the solution\n",
    "#     print(\"Solution:\", solution)\n",
    "    return solution"
   ]
  },
  {
   "cell_type": "code",
   "execution_count": 6,
   "id": "68c8290b",
   "metadata": {
    "execution": {
     "iopub.execute_input": "2023-07-10T11:41:19.841800Z",
     "iopub.status.busy": "2023-07-10T11:41:19.841486Z",
     "iopub.status.idle": "2023-07-10T11:41:19.844525Z",
     "shell.execute_reply": "2023-07-10T11:41:19.844087Z"
    }
   },
   "outputs": [],
   "source": [
    "# give rotation matrix with idx_1 < idx_2\n",
    "def rotation(theta, phi, n, idx_1, idx_2):\n",
    "    I = np.eye(n, dtype=complex)\n",
    "    I[idx_1,idx_1] = np.cos(theta)*(np.cos(phi)-np.sin(phi)*1j)\n",
    "    I[idx_1,idx_2] = np.sin(theta)*(np.cos(phi)-np.sin(phi)*1j)\n",
    "    I[idx_2,idx_1] = -np.sin(theta)\n",
    "    I[idx_2,idx_2] = np.cos(theta)\n",
    "    \n",
    "    return I"
   ]
  },
  {
   "cell_type": "code",
   "execution_count": 7,
   "id": "d024604b",
   "metadata": {
    "execution": {
     "iopub.execute_input": "2023-07-10T11:41:19.846462Z",
     "iopub.status.busy": "2023-07-10T11:41:19.846146Z",
     "iopub.status.idle": "2023-07-10T11:41:19.849345Z",
     "shell.execute_reply": "2023-07-10T11:41:19.848904Z"
    }
   },
   "outputs": [],
   "source": [
    "# matrix permutation\n",
    "def permutation(U):\n",
    "    \n",
    "    rows, columns = U.shape\n",
    "    assert(rows==columns)\n",
    "    \n",
    "    # create the permutation matrix\n",
    "    Permutation = np.zeros([rows,columns])\n",
    "    \n",
    "    diag_U = np.eye(rows, dtype=complex)\n",
    "    \n",
    "    indices = np.nonzero(U)\n",
    "    row_info = indices[0]\n",
    "    col_info = indices[1]\n",
    "    \n",
    "    for i in range(rows):\n",
    "        col = col_info[i]\n",
    "        row = row_info[i]\n",
    "        diag_U[col,:] = U[row,:]\n",
    "        Permutation[col,row] = 1\n",
    "        \n",
    "    return diag_U, Permutation.T"
   ]
  },
  {
   "cell_type": "code",
   "execution_count": 8,
   "id": "d0854916",
   "metadata": {
    "execution": {
     "iopub.execute_input": "2023-07-10T11:41:19.851005Z",
     "iopub.status.busy": "2023-07-10T11:41:19.850788Z",
     "iopub.status.idle": "2023-07-10T11:41:19.853678Z",
     "shell.execute_reply": "2023-07-10T11:41:19.853257Z"
    }
   },
   "outputs": [],
   "source": [
    "def phase(x):\n",
    "    x_r = np.real(x)\n",
    "    x_i = np.imag(x)\n",
    "    \n",
    "    raw_phi = np.arccos(x_r)\n",
    "    if x_i > 0:\n",
    "        t_phi = raw_phi\n",
    "    else:\n",
    "        t_phi = -raw_phi\n",
    "        \n",
    "    normalized_solution = t_phi % (2 * np.pi)\n",
    "    if normalized_solution > np.pi:\n",
    "        normalized_solution = normalized_solution-2*np.pi\n",
    "\n",
    "    return normalized_solution"
   ]
  },
  {
   "cell_type": "code",
   "execution_count": 9,
   "id": "cff424f7",
   "metadata": {
    "execution": {
     "iopub.execute_input": "2023-07-10T11:41:19.855581Z",
     "iopub.status.busy": "2023-07-10T11:41:19.855266Z",
     "iopub.status.idle": "2023-07-10T11:41:19.861643Z",
     "shell.execute_reply": "2023-07-10T11:41:19.861182Z"
    }
   },
   "outputs": [],
   "source": [
    "# the all_list tell the decomposition order\n",
    "# [[1,2], [2,3], [3,4]] means first use 2 eliminate 1, then use 3 eliminate 2, then use 4 eliminate 3\n",
    "def U_decompose_plus(U, all_list):\n",
    "    \n",
    "    # pick up a machine precision\n",
    "    threshold = 1e-8\n",
    "    \n",
    "    # get the shape of unitary\n",
    "    rows, columns = U.shape\n",
    "    assert(rows==columns)\n",
    "    \n",
    "    # create the rotation record matrix, the first row for theta, the second row for phi \n",
    "    # third row for low index, forth row for high index\n",
    "    Theta = []\n",
    "    Phi = []\n",
    "    Low_idx = []\n",
    "    High_idx = []\n",
    "    \n",
    "    # create the diagonal record matrix\n",
    "    Diag = []\n",
    "    \n",
    "\n",
    "    for i in range(rows-1, 0, -1):\n",
    "        list_i = all_list[i-1]\n",
    "        row = U[i, :]\n",
    "        \n",
    "        for j in range(i):\n",
    "            pair = list_i[j]\n",
    "            \n",
    "            \n",
    "            # a is the number to be eliminated, b is the number to eliminate the previous one\n",
    "            a = row[pair[0]]\n",
    "            b = row[pair[1]]\n",
    "            \n",
    "            \n",
    "#             if i % 3 != 0:\n",
    "#                 if j == i-1:\n",
    "#                     a = row[pair[1]]\n",
    "#                     b = row[pair[0]]\n",
    "                \n",
    "                \n",
    "            # choose the elimination method by position\n",
    "            if pair[0] < pair[1]: \n",
    "                theta, phi = left_elimination(a,b)\n",
    "\n",
    "                # write down the parameter\n",
    "                Theta.append(theta)\n",
    "                Phi.append(phi)\n",
    "                Low_idx.append(pair[0])\n",
    "                High_idx.append(pair[1])\n",
    "\n",
    "                # create the rotation\n",
    "                r = rotation(theta, phi, rows, pair[0], pair[1])\n",
    "        \n",
    "\n",
    "                # update Unitary\n",
    "                U = np.dot(U, r)\n",
    "                U= np.where(np.abs(U) < threshold, 0, U)\n",
    "\n",
    "            else:\n",
    "                theta, phi = right_elimination(b,a)\n",
    "\n",
    "                # write down the parameter\n",
    "                Theta.append(theta)\n",
    "                Phi.append(phi)\n",
    "                Low_idx.append(pair[1])\n",
    "                High_idx.append(pair[0])\n",
    "\n",
    "                # create the rotation\n",
    "                r = rotation(theta, phi, rows, pair[1], pair[0])\n",
    "\n",
    "                # update Unitary\n",
    "                U = np.dot(U, r)\n",
    "                U= np.where(np.abs(U) < threshold, 0, U)\n",
    "\n",
    "            row = U[i, :]\n",
    "            \n",
    "#             if (np.count_nonzero(row) == 1):\n",
    "            if j == i-1:\n",
    "                entry = U[i, pair[1]]\n",
    "                U[:, pair[1]] = 0\n",
    "                U[i, :] = 0\n",
    "                U[i, pair[1]] = entry\n",
    "                flag = 0\n",
    "    \n",
    "    # do the permutation, and record\n",
    "    U, Permutation = permutation(U)\n",
    "    \n",
    "    # find the phase shift\n",
    "    for i in range(rows):\n",
    "        x = U[i,i]/np.abs(U[i,i])\n",
    "        phi_x = phase(x)\n",
    "        Diag.append(phi_x)\n",
    "        U[i,i] = U[i,i]*(np.cos(phi_x)-np.sin(phi_x)*1j)\n",
    "    \n",
    "    \n",
    "    return U, Theta, Phi, Low_idx, High_idx, Diag, Permutation"
   ]
  },
  {
   "cell_type": "code",
   "execution_count": null,
   "id": "dd1d7929",
   "metadata": {},
   "outputs": [],
   "source": []
  },
  {
   "cell_type": "markdown",
   "id": "2c797e2d",
   "metadata": {},
   "source": [
    "Step3: Drift Method"
   ]
  },
  {
   "cell_type": "code",
   "execution_count": 10,
   "id": "87465142",
   "metadata": {
    "execution": {
     "iopub.execute_input": "2023-07-10T11:41:19.863596Z",
     "iopub.status.busy": "2023-07-10T11:41:19.863343Z",
     "iopub.status.idle": "2023-07-10T11:41:19.865842Z",
     "shell.execute_reply": "2023-07-10T11:41:19.865434Z"
    }
   },
   "outputs": [],
   "source": [
    "# Step1 probability\n",
    "def calculate_probability_sequence(angles, threshold, N):\n",
    "    abs_angles = np.abs(angles)\n",
    "    angles1 = abs_angles/(threshold)\n",
    "    angles2 = angles1**N\n",
    "    total_magnitude = np.sum(angles2)\n",
    "    probabilities = angles2 / total_magnitude\n",
    "    return probabilities"
   ]
  },
  {
   "cell_type": "code",
   "execution_count": 11,
   "id": "867c0332",
   "metadata": {
    "execution": {
     "iopub.execute_input": "2023-07-10T11:41:19.867686Z",
     "iopub.status.busy": "2023-07-10T11:41:19.867371Z",
     "iopub.status.idle": "2023-07-10T11:41:19.870955Z",
     "shell.execute_reply": "2023-07-10T11:41:19.870552Z"
    }
   },
   "outputs": [],
   "source": [
    "# sequence is the origianl angel sequence, probability is calculate using calculate_probability_sequence(angles), percentage is the proportion you want to preserve\n",
    "def pick_entries_with_indices(sequence, probabilities, proportion):\n",
    "    \n",
    "    N = len(sequence)\n",
    "    num_entries = np.floor(N*proportion).astype(int)\n",
    "    \n",
    "    idx_sequence = np.arange(N).astype(int)\n",
    "    \n",
    "    if np.count_nonzero(sequence) < num_entries:\n",
    "        num_entries = np.count_nonzero(sequence)\n",
    "    \n",
    "    picked_indices = np.random.choice(idx_sequence, size=num_entries, replace=False, p=probabilities)\n",
    "    picked_entries = [sequence[index] for index in picked_indices]\n",
    "\n",
    "    # Sort the picked entries and indices based on the indices\n",
    "    picked_entries, picked_indices = zip(*sorted(zip(picked_entries, picked_indices), key=lambda x: x[1]))\n",
    "    \n",
    "    modified_sequence = [entry if index in picked_indices else 0 for index, entry in enumerate(sequence)]\n",
    "\n",
    "    return modified_sequence"
   ]
  },
  {
   "cell_type": "code",
   "execution_count": null,
   "id": "06e8217c",
   "metadata": {},
   "outputs": [],
   "source": []
  },
  {
   "cell_type": "markdown",
   "id": "22b271e9",
   "metadata": {},
   "source": [
    "Step4: Matric Reconstruction"
   ]
  },
  {
   "cell_type": "code",
   "execution_count": 12,
   "id": "b30f9083",
   "metadata": {
    "execution": {
     "iopub.execute_input": "2023-07-10T11:41:19.872875Z",
     "iopub.status.busy": "2023-07-10T11:41:19.872559Z",
     "iopub.status.idle": "2023-07-10T11:41:19.875206Z",
     "shell.execute_reply": "2023-07-10T11:41:19.874771Z"
    }
   },
   "outputs": [],
   "source": [
    "def make_entries_zero(Array, threshold):\n",
    "    array = Array.copy()\n",
    "    for i in range(len(array)):\n",
    "        if np.abs(array[i]) < threshold:\n",
    "            array[i] = 0\n",
    "    return array"
   ]
  },
  {
   "cell_type": "code",
   "execution_count": 13,
   "id": "6029d275",
   "metadata": {
    "execution": {
     "iopub.execute_input": "2023-07-10T11:41:19.876934Z",
     "iopub.status.busy": "2023-07-10T11:41:19.876616Z",
     "iopub.status.idle": "2023-07-10T11:41:19.879665Z",
     "shell.execute_reply": "2023-07-10T11:41:19.879225Z"
    }
   },
   "outputs": [],
   "source": [
    "# give rotation matrix with idx_1 < idx_2\n",
    "def reconstruct_rotation(theta, phi, n, idx_1, idx_2):\n",
    "    I = np.eye(n, dtype=complex)\n",
    "    I[idx_1,idx_1] = np.cos(theta)*(np.cos(phi)+np.sin(phi)*1j)\n",
    "    I[idx_1,idx_2] = -np.sin(theta)\n",
    "    I[idx_2,idx_1] = np.sin(theta)*(np.cos(phi)+np.sin(phi)*1j)\n",
    "    I[idx_2,idx_2] = np.cos(theta)\n",
    "    \n",
    "    return I"
   ]
  },
  {
   "cell_type": "code",
   "execution_count": 14,
   "id": "f95103d3",
   "metadata": {
    "execution": {
     "iopub.execute_input": "2023-07-10T11:41:19.881628Z",
     "iopub.status.busy": "2023-07-10T11:41:19.881292Z",
     "iopub.status.idle": "2023-07-10T11:41:19.885145Z",
     "shell.execute_reply": "2023-07-10T11:41:19.884686Z"
    }
   },
   "outputs": [],
   "source": [
    "def matrix_reconstruct(Theta, Phi, Low_idx, High_idx, Diag, Permutation, N):\n",
    "    \n",
    "    M = len(Theta)\n",
    "    \n",
    "    per_theta = (len([x for x in Theta if np.abs(x) == 0]) / len(Theta)) * 100\n",
    "#     print(\"theta reduce\")\n",
    "#     print(per_theta)\n",
    "    \n",
    "    per_phi = (len([x for x in Phi if np.abs(x) == 0]) / len(Phi)) * 100\n",
    "#     print(\"phi reduce\")\n",
    "#     print(per_phi)\n",
    "\n",
    "#     new_theta = Theta\n",
    "#     new_phi = Phi\n",
    "    \n",
    "    V = np.eye(N, dtype=complex)\n",
    "    \n",
    "    # rotation\n",
    "    for i in range(M):\n",
    "        r = reconstruct_rotation(Theta[i], Phi[i], N, Low_idx[i], High_idx[i])\n",
    "        V = np.dot(r, V)\n",
    "        \n",
    "    # phase shift\n",
    "    for i in range(N):\n",
    "        V[i,:] = V[i,:]*(np.cos(Diag[i])+np.sin(Diag[i])*1j)\n",
    "        \n",
    "    # permutation\n",
    "    V = np.dot(Permutation, V)\n",
    "    \n",
    "    return V"
   ]
  },
  {
   "cell_type": "code",
   "execution_count": null,
   "id": "08e40086",
   "metadata": {},
   "outputs": [],
   "source": []
  },
  {
   "cell_type": "markdown",
   "id": "9062bfeb",
   "metadata": {},
   "source": [
    "Accuracy"
   ]
  },
  {
   "cell_type": "code",
   "execution_count": 15,
   "id": "23772846",
   "metadata": {
    "execution": {
     "iopub.execute_input": "2023-07-10T11:41:19.887068Z",
     "iopub.status.busy": "2023-07-10T11:41:19.886756Z",
     "iopub.status.idle": "2023-07-10T11:41:19.889221Z",
     "shell.execute_reply": "2023-07-10T11:41:19.888828Z"
    }
   },
   "outputs": [],
   "source": [
    "# function to calculate the approximation accuracy\n",
    "def accuracy(U,U_app):\n",
    "    I = np.dot(U,np.conjugate(U_app).transpose())\n",
    "    N, N = I.shape\n",
    "    acc = np.trace(I)/N\n",
    "    return acc"
   ]
  },
  {
   "cell_type": "code",
   "execution_count": 16,
   "id": "b7a49292",
   "metadata": {
    "execution": {
     "iopub.execute_input": "2023-07-10T11:41:19.890923Z",
     "iopub.status.busy": "2023-07-10T11:41:19.890611Z",
     "iopub.status.idle": "2023-07-10T11:41:19.892928Z",
     "shell.execute_reply": "2023-07-10T11:41:19.892529Z"
    }
   },
   "outputs": [],
   "source": [
    "def distance_between_vectors(v1, v2):\n",
    "    distance = np.linalg.norm(v1 - v2)\n",
    "    return distance"
   ]
  },
  {
   "cell_type": "markdown",
   "id": "b5d5de89",
   "metadata": {},
   "source": [
    "Reduce counting"
   ]
  },
  {
   "cell_type": "code",
   "execution_count": 17,
   "id": "bf9b6b62",
   "metadata": {
    "execution": {
     "iopub.execute_input": "2023-07-10T11:41:19.894788Z",
     "iopub.status.busy": "2023-07-10T11:41:19.894536Z",
     "iopub.status.idle": "2023-07-10T11:41:19.896981Z",
     "shell.execute_reply": "2023-07-10T11:41:19.896575Z"
    }
   },
   "outputs": [],
   "source": [
    "def count_numbers_less_than(numbers, threshold):\n",
    "    count = 0\n",
    "    for number in numbers:\n",
    "        if np.abs(number) < threshold:\n",
    "            count += 1\n",
    "    return count"
   ]
  },
  {
   "cell_type": "code",
   "execution_count": null,
   "id": "40bdbd1c",
   "metadata": {},
   "outputs": [],
   "source": []
  },
  {
   "cell_type": "markdown",
   "id": "9c13abb6",
   "metadata": {},
   "source": [
    "Step5: Sampling Vibrational Molecule"
   ]
  },
  {
   "cell_type": "code",
   "execution_count": 18,
   "id": "d5783991",
   "metadata": {
    "execution": {
     "iopub.execute_input": "2023-07-10T11:41:19.898964Z",
     "iopub.status.busy": "2023-07-10T11:41:19.898651Z",
     "iopub.status.idle": "2023-07-10T11:41:19.907038Z",
     "shell.execute_reply": "2023-07-10T11:41:19.906624Z"
    }
   },
   "outputs": [],
   "source": [
    "# define the sampleing function\n",
    "# M is the total sampling numbers\n",
    "# r, U2, alpha is the transition matrix, since Temperature is zero array\n",
    "# dec_list: a list give the decomposition order  \n",
    "# mapping: \"on\" or \"off\", coreesponding to 1 or 0\n",
    "# len_list: a list for mapping\n",
    "# n: a compare number for mapping\n",
    "# all_modes: (q[0], ..., q[N-1])\n",
    "# proportion: 0~1 for U2\n",
    "# loss is the photon number loss\n",
    "# qdrift_kind: 0: defualt, 1:cut\n",
    "def vibration_sampling_plus(M, S, S_model, U, dec_list, maps, len_list, n, proportion, threshold, N, loss):\n",
    "    \n",
    "    N, N = U.shape\n",
    "    \n",
    "    S_max = np.max(S)\n",
    "    S = S/(S_max+S_model)\n",
    "    S = np.arctanh(S)\n",
    "\n",
    "    \n",
    "    # mapping\n",
    "    if maps:\n",
    "        U_map, col_per_matrix, row_per_matrix = mapping(U, len_list, n)\n",
    "    else:\n",
    "        U_map = U\n",
    "        col_per_matrix = np.eye(N)\n",
    "        row_per_matrix = np.eye(N)\n",
    "    \n",
    "    # get the decomposition information of U\n",
    "    _, Theta, Phi, Low_idx, High_idx, Diag, Permutation = U_decompose_plus(U_map, dec_list)\n",
    "    \n",
    "    # modify Theta\n",
    "    Theta_prob = calculate_probability_sequence(Theta, threshold, N)\n",
    "    \n",
    "    \n",
    "    k = 0\n",
    "    sample = []\n",
    "    acc = []\n",
    "    while k < M:\n",
    "#         if k % 1 == 0:\n",
    "#             print(k)\n",
    "        \n",
    "        # get the new Theta from the probability distribution\n",
    "        new_Theta = pick_entries_with_indices(Theta, Theta_prob, proportion)\n",
    "        new_Phi = Phi\n",
    "        \n",
    "        # reconstruction of U using new angel\n",
    "        U_map_app = matrix_reconstruct(new_Theta, new_Phi, Low_idx, High_idx, Diag, Permutation, N)\n",
    "        # approximation accuracy\n",
    "        acc_t = accuracy(U_map,U_map_app)\n",
    "        acc.append(acc_t)\n",
    "        \n",
    "\n",
    "#         print(\"here\")\n",
    "        # construct the circuit\n",
    "        prog = sf.Program(N)\n",
    "        eng = sf.Engine('gaussian')\n",
    "        with prog.context as q:\n",
    "            \n",
    "            # r squeezing\n",
    "            for i, s in enumerate(S):\n",
    "                ops.Sgate(s) | q[i]\n",
    "            \n",
    "            # mapping's column transformation\n",
    "            ops.Interferometer(col_per_matrix) | (q[0], q[1], q[2], q[3], q[4], q[5], q[6], q[7], q[8], q[9], q[10], q[11], q[12], q[13], q[14], q[15], q[16], q[17], q[18], q[19], q[20], q[21], q[22], q[23])\n",
    "            \n",
    "            \n",
    "            # interferometer U\n",
    "            for i in range(len(new_Theta)):\n",
    "                ops.Rgate(new_Phi[i])       | q[Low_idx[i]]\n",
    "                ops.BSgate(new_Theta[i], 0) | (q[Low_idx[i]], q[High_idx[i]])\n",
    "                if np.abs(new_Theta[i]) > 0:\n",
    "                    ops.LossChannel(loss) | q[Low_idx[i]]\n",
    "                    ops.LossChannel(loss) | q[High_idx[i]]\n",
    "                \n",
    "            for i in range(N):\n",
    "                ops.Rgate(Diag[i])       | q[i]\n",
    "                \n",
    "                \n",
    "            # mapping's row transformation\n",
    "            ops.Interferometer(row_per_matrix) | (q[0], q[1], q[2], q[3], q[4], q[5], q[6], q[7], q[8], q[9], q[10], q[11], q[12], q[13], q[14], q[15], q[16], q[17], q[18], q[19], q[20], q[21], q[22], q[23])\n",
    "            \n",
    "            \n",
    "            # measurement\n",
    "            ops.MeasureFock() | q\n",
    "            \n",
    "\n",
    "        \n",
    "        results = eng.run(prog, shots=1)\n",
    "        sample_t = results.samples\n",
    "        sample.append(sample_t[0])\n",
    "#         print(\"here\")\n",
    "        \n",
    "        k = k+1\n",
    "    \n",
    "    # manipulate the samples\n",
    "    zero = np.zeros(N)\n",
    "    for i in range(len(sample)):\n",
    "        sample[i] = np.concatenate((sample[i], zero))\n",
    "    sample_list = []\n",
    "    for a in sample:\n",
    "        b = list(a)\n",
    "        c = [int(num) for num in b]\n",
    "        sample_list.append(c)\n",
    "\n",
    "    acc_mean = np.mean(acc)\n",
    "#     print(\"mean accuracy for U:\", acc_mean)\n",
    "        \n",
    "    return sample_list"
   ]
  },
  {
   "cell_type": "code",
   "execution_count": null,
   "id": "5eb05634",
   "metadata": {},
   "outputs": [],
   "source": []
  },
  {
   "cell_type": "code",
   "execution_count": null,
   "id": "5da89711",
   "metadata": {},
   "outputs": [],
   "source": []
  },
  {
   "cell_type": "markdown",
   "id": "bed94841",
   "metadata": {},
   "source": [
    "dec_list1: 1D"
   ]
  },
  {
   "cell_type": "code",
   "execution_count": 19,
   "id": "d639998d",
   "metadata": {
    "execution": {
     "iopub.execute_input": "2023-07-10T11:41:19.909059Z",
     "iopub.status.busy": "2023-07-10T11:41:19.908727Z",
     "iopub.status.idle": "2023-07-10T11:41:19.912045Z",
     "shell.execute_reply": "2023-07-10T11:41:19.911613Z"
    }
   },
   "outputs": [],
   "source": [
    "list_order = [[0,1], [1,2], [2,3], [3,4], [4,5], [5,6], [6,7], [7,8], [8,9], [9,10], [10,11], [11,12], [12,13], [13,14], [14,15], [15,16], [16,17], [17,18], [18,19], [19,20], [20,21], [21,22], [22,23]]\n",
    "dec_list1 = [list_order, list_order, list_order, list_order, list_order, list_order, list_order, list_order, list_order, list_order, list_order, list_order, list_order, list_order, list_order, list_order, list_order, list_order, list_order, list_order, list_order, list_order, list_order]"
   ]
  },
  {
   "cell_type": "markdown",
   "id": "603a06b1",
   "metadata": {},
   "source": [
    "len_list1: 1D"
   ]
  },
  {
   "cell_type": "code",
   "execution_count": 20,
   "id": "6882725d",
   "metadata": {
    "execution": {
     "iopub.execute_input": "2023-07-10T11:41:19.913883Z",
     "iopub.status.busy": "2023-07-10T11:41:19.913630Z",
     "iopub.status.idle": "2023-07-10T11:41:19.915752Z",
     "shell.execute_reply": "2023-07-10T11:41:19.915360Z"
    }
   },
   "outputs": [],
   "source": [
    "len_list1 = [24]"
   ]
  },
  {
   "cell_type": "markdown",
   "id": "fcee5562",
   "metadata": {},
   "source": [
    "dec_list2: 2D"
   ]
  },
  {
   "cell_type": "code",
   "execution_count": 21,
   "id": "d23b1416",
   "metadata": {
    "execution": {
     "iopub.execute_input": "2023-07-10T11:41:19.917713Z",
     "iopub.status.busy": "2023-07-10T11:41:19.917403Z",
     "iopub.status.idle": "2023-07-10T11:41:19.929753Z",
     "shell.execute_reply": "2023-07-10T11:41:19.929354Z"
    }
   },
   "outputs": [],
   "source": [
    "list_order23 = [[0,1], [9,1], [10,1], [1,2], [11,2], [2,3], [12,3], [3,4], [15,14], [14,4], [13,4], [4,5], [16,5], [17,5], [5,6], [18,6], [19,6], [6,7], [20,7], [21,7], [7,8], [22,8], [8,23]]\n",
    "list_order22 = [[0,1], [9,1], [10,1], [1,2], [11,2], [2,3], [12,3], [3,4], [15,14], [14,4], [13,4], [4,5], [16,5], [17,5], [5,6], [18,6], [19,6], [6,7], [20,7], [21,7], [7,8], [8,22]]\n",
    "list_order21 = [[0,1], [9,1], [10,1], [1,2], [11,2], [2,3], [12,3], [3,4], [15,14], [14,4], [13,4], [4,5], [16,5], [17,5], [5,6], [18,6], [19,6], [6,7], [20,7], [21,7], [7,8]]\n",
    "list_order20 = [[0,1], [9,1], [10,1], [1,2], [11,2], [2,3], [12,3], [3,4], [15,14], [14,4], [13,4], [4,5], [16,5], [17,5], [5,6], [18,6], [19,6], [6,7], [20,7], [7,21]]\n",
    "list_order19 = [[0,1], [9,1], [10,1], [1,2], [11,2], [2,3], [12,3], [3,4], [15,14], [14,4], [13,4], [4,5], [16,5], [17,5], [5,6], [18,6], [19,6], [6,7], [7,20]]\n",
    "list_order18 = [[0,1], [9,1], [10,1], [1,2], [11,2], [2,3], [12,3], [3,4], [15,14], [14,4], [13,4], [4,5], [16,5], [17,5], [5,6], [18,6], [19,6], [6,7]]\n",
    "list_order17 = [[0,1], [9,1], [10,1], [1,2], [11,2], [2,3], [12,3], [3,4], [15,14], [14,4], [13,4], [4,5], [16,5], [17,5], [5,6], [18,6], [6,19]]\n",
    "list_order16 = [[0,1], [9,1], [10,1], [1,2], [11,2], [2,3], [12,3], [3,4], [15,14], [14,4], [13,4], [4,5], [16,5], [17,5], [5,6], [6,18]]\n",
    "list_order15 = [[0,1], [9,1], [10,1], [1,2], [11,2], [2,3], [12,3], [3,4], [15,14], [14,4], [13,4], [4,5], [16,5], [17,5], [5,6]]\n",
    "list_order14 = [[0,1], [9,1], [10,1], [1,2], [11,2], [2,3], [12,3], [3,4], [15,14], [14,4], [13,4], [4,5], [16,5], [5,17]]\n",
    "list_order13 = [[0,1], [9,1], [10,1], [1,2], [11,2], [2,3], [12,3], [3,4], [15,14], [14,4], [13,4], [4,5], [5,16]]\n",
    "list_order12 = [[0,1], [9,1], [10,1], [1,2], [11,2], [2,3], [12,3], [3,4], [15,14], [14,4], [13,4], [4,5]]\n",
    "list_order11 = [[0,1], [9,1], [10,1], [1,2], [11,2], [2,3], [12,3], [3,4], [15,14], [14,4], [4,13]]\n",
    "list_order10 = [[0,1], [9,1], [10,1], [1,2], [11,2], [2,3], [12,3], [3,4], [4,14], [14,15]]\n",
    "list_order9 = [[0,1], [9,1], [10,1], [1,2], [11,2], [2,3], [12,3], [3,4], [4,14]]\n",
    "list_order8 = [[0,1], [9,1], [10,1], [1,2], [11,2], [2,3], [12,3], [3,4]]\n",
    "list_order7 = [[0,1], [9,1], [10,1], [1,2], [11,2], [2,3], [3,12]]\n",
    "list_order6 = [[0,1], [9,1], [10,1], [1,2], [11,2], [2,3]]\n",
    "list_order5 = [[0,1], [9,1], [10,1], [1,2], [2,11]]\n",
    "list_order4 = [[0,1], [9,1], [10,1], [1,2]]\n",
    "list_order3 = [[0,1], [9,1], [1,10]]\n",
    "list_order2 = [[0,1], [1,9]]\n",
    "list_order1 = [[0,1]]\n",
    "\n",
    "\n",
    "dec_list2 = [list_order1, list_order2, list_order3, list_order4, list_order5, list_order6, list_order7, list_order8, list_order9, list_order10, list_order11, list_order12, list_order13, list_order14, list_order15, list_order16, list_order17, list_order18, list_order19, list_order20, list_order21, list_order22, list_order23]"
   ]
  },
  {
   "cell_type": "markdown",
   "id": "15e6dbe1",
   "metadata": {},
   "source": [
    "len_list2: 2D"
   ]
  },
  {
   "cell_type": "code",
   "execution_count": 22,
   "id": "7b6886e2",
   "metadata": {
    "execution": {
     "iopub.execute_input": "2023-07-10T11:41:19.931647Z",
     "iopub.status.busy": "2023-07-10T11:41:19.931335Z",
     "iopub.status.idle": "2023-07-10T11:41:19.933674Z",
     "shell.execute_reply": "2023-07-10T11:41:19.933214Z"
    }
   },
   "outputs": [],
   "source": [
    "len_list2 = [9,1,1,1,1,2,1,1,1,1,1,1,1,1,1]"
   ]
  },
  {
   "cell_type": "code",
   "execution_count": null,
   "id": "fc756db2",
   "metadata": {},
   "outputs": [],
   "source": []
  },
  {
   "cell_type": "markdown",
   "id": "f879fba2",
   "metadata": {},
   "source": [
    "Generate graph"
   ]
  },
  {
   "cell_type": "code",
   "execution_count": 23,
   "id": "85cfa8c1",
   "metadata": {
    "execution": {
     "iopub.execute_input": "2023-07-10T11:41:19.935628Z",
     "iopub.status.busy": "2023-07-10T11:41:19.935376Z",
     "iopub.status.idle": "2023-07-10T11:41:19.937999Z",
     "shell.execute_reply": "2023-07-10T11:41:19.937596Z"
    }
   },
   "outputs": [],
   "source": [
    "def generate_random_graph(nodes, probability):\n",
    "    G = nx.Graph()\n",
    "    G.add_nodes_from(nodes)\n",
    "\n",
    "    for i in nodes:\n",
    "        for j in nodes:\n",
    "            if i != j and random.random() < probability:\n",
    "                G.add_edge(i, j)\n",
    "\n",
    "    return G"
   ]
  },
  {
   "cell_type": "code",
   "execution_count": 24,
   "id": "d1f1c43f",
   "metadata": {
    "execution": {
     "iopub.execute_input": "2023-07-10T11:41:19.939813Z",
     "iopub.status.busy": "2023-07-10T11:41:19.939505Z",
     "iopub.status.idle": "2023-07-10T11:41:19.941568Z",
     "shell.execute_reply": "2023-07-10T11:41:19.941122Z"
    }
   },
   "outputs": [],
   "source": [
    "# Generate G\n",
    "# G1 = generate_random_graph(range(24), 0.7)\n",
    "# G2 = generate_random_graph(range(24), 0.875)"
   ]
  },
  {
   "cell_type": "code",
   "execution_count": 25,
   "id": "dff4d87d",
   "metadata": {
    "execution": {
     "iopub.execute_input": "2023-07-10T11:41:19.943477Z",
     "iopub.status.busy": "2023-07-10T11:41:19.943165Z",
     "iopub.status.idle": "2023-07-10T11:41:19.946353Z",
     "shell.execute_reply": "2023-07-10T11:41:19.945921Z"
    }
   },
   "outputs": [],
   "source": [
    "# # Write the graph as an adjacency list\n",
    "# nx.write_adjlist(G1, \"graph_sim1_new.adjlist\")\n",
    "# nx.write_adjlist(G2, \"graph_sim2_new.adjlist\")\n",
    "\n",
    "# Read the graph from the adjacency list\n",
    "G1 = nx.read_adjlist(\"graph_sim1.adjlist\")\n",
    "        \n",
    "G2 = nx.read_adjlist(\"graph_sim2.adjlist\")"
   ]
  },
  {
   "cell_type": "code",
   "execution_count": 26,
   "id": "5c10bf5f",
   "metadata": {
    "execution": {
     "iopub.execute_input": "2023-07-10T11:41:19.948100Z",
     "iopub.status.busy": "2023-07-10T11:41:19.947793Z",
     "iopub.status.idle": "2023-07-10T11:41:19.950569Z",
     "shell.execute_reply": "2023-07-10T11:41:19.950170Z"
    }
   },
   "outputs": [],
   "source": [
    "# Obtain the adjacency matrix of the graph G\n",
    "A1 = nx.to_numpy_array(G1)\n",
    "\n",
    "A2 = nx.to_numpy_array(G2)"
   ]
  },
  {
   "cell_type": "code",
   "execution_count": 27,
   "id": "e0e6d46a",
   "metadata": {
    "execution": {
     "iopub.execute_input": "2023-07-10T11:41:19.952421Z",
     "iopub.status.busy": "2023-07-10T11:41:19.952110Z",
     "iopub.status.idle": "2023-07-10T11:41:19.955115Z",
     "shell.execute_reply": "2023-07-10T11:41:19.954710Z"
    }
   },
   "outputs": [],
   "source": [
    "S1, U1 = sf.decompositions.takagi(A1)\n",
    "\n",
    "S2, U2 = sf.decompositions.takagi(A2)"
   ]
  },
  {
   "cell_type": "code",
   "execution_count": 28,
   "id": "40e02f12",
   "metadata": {
    "execution": {
     "iopub.execute_input": "2023-07-10T11:41:19.956971Z",
     "iopub.status.busy": "2023-07-10T11:41:19.956621Z",
     "iopub.status.idle": "2023-07-10T11:41:19.959319Z",
     "shell.execute_reply": "2023-07-10T11:41:19.958924Z"
    }
   },
   "outputs": [],
   "source": [
    "S1, U1 = sf.decompositions.takagi(A1)\n",
    "S1_max = np.max(S1)\n",
    "S1 = S1/(S1_max+0.3324)"
   ]
  },
  {
   "cell_type": "code",
   "execution_count": 29,
   "id": "8ab85a84",
   "metadata": {
    "execution": {
     "iopub.execute_input": "2023-07-10T11:41:19.961071Z",
     "iopub.status.busy": "2023-07-10T11:41:19.960757Z",
     "iopub.status.idle": "2023-07-10T11:41:19.963361Z",
     "shell.execute_reply": "2023-07-10T11:41:19.962968Z"
    }
   },
   "outputs": [],
   "source": [
    "S2, U2 = sf.decompositions.takagi(A2)\n",
    "S2_max = np.max(S2)\n",
    "S2 = S2/(S2_max+0.351)"
   ]
  },
  {
   "cell_type": "code",
   "execution_count": 30,
   "id": "e44a8f7f",
   "metadata": {
    "execution": {
     "iopub.execute_input": "2023-07-10T11:41:19.965041Z",
     "iopub.status.busy": "2023-07-10T11:41:19.964790Z",
     "iopub.status.idle": "2023-07-10T11:41:19.967520Z",
     "shell.execute_reply": "2023-07-10T11:41:19.967086Z"
    }
   },
   "outputs": [
    {
     "name": "stdout",
     "output_type": "stream",
     "text": [
      "32.00466204633247\n"
     ]
    }
   ],
   "source": [
    "n1 = 0\n",
    "for s in S1:\n",
    "    n1 = n1+s**2/(1-s**2)\n",
    "print(n1)"
   ]
  },
  {
   "cell_type": "code",
   "execution_count": 31,
   "id": "b0886731",
   "metadata": {
    "execution": {
     "iopub.execute_input": "2023-07-10T11:41:19.969226Z",
     "iopub.status.busy": "2023-07-10T11:41:19.968913Z",
     "iopub.status.idle": "2023-07-10T11:41:19.971577Z",
     "shell.execute_reply": "2023-07-10T11:41:19.971180Z"
    }
   },
   "outputs": [
    {
     "name": "stdout",
     "output_type": "stream",
     "text": [
      "32.00972502839568\n"
     ]
    }
   ],
   "source": [
    "n2 = 0\n",
    "for s in S2:\n",
    "    n2 = n2+s**2/(1-s**2)\n",
    "print(n2)"
   ]
  },
  {
   "cell_type": "markdown",
   "id": "d030856d",
   "metadata": {},
   "source": [
    "Sampling"
   ]
  },
  {
   "cell_type": "code",
   "execution_count": 32,
   "id": "6715639c",
   "metadata": {
    "execution": {
     "iopub.execute_input": "2023-07-10T11:41:19.973244Z",
     "iopub.status.busy": "2023-07-10T11:41:19.972996Z",
     "iopub.status.idle": "2023-07-10T11:41:19.975421Z",
     "shell.execute_reply": "2023-07-10T11:41:19.975028Z"
    }
   },
   "outputs": [],
   "source": [
    "G1_acc1 = []\n",
    "G1_acc2 = []\n",
    "G1_acc3 = []\n",
    "G1_acc4 = []\n",
    "G2_acc1 = []\n",
    "G2_acc2 = []\n",
    "G2_acc3 = []\n",
    "G2_acc4 = []"
   ]
  },
  {
   "cell_type": "code",
   "execution_count": 33,
   "id": "f9cf9c61",
   "metadata": {
    "execution": {
     "iopub.execute_input": "2023-07-10T11:41:19.977084Z",
     "iopub.status.busy": "2023-07-10T11:41:19.976779Z",
     "iopub.status.idle": "2023-07-10T11:41:19.979043Z",
     "shell.execute_reply": "2023-07-10T11:41:19.978645Z"
    }
   },
   "outputs": [],
   "source": [
    "time_base = []\n",
    "sample_G1_base = []\n",
    "sample_G2_base = []\n",
    "vector_G1_base = []\n",
    "vector_G2_base = []"
   ]
  },
  {
   "cell_type": "code",
   "execution_count": 34,
   "id": "b79f1845",
   "metadata": {
    "execution": {
     "iopub.execute_input": "2023-07-10T11:41:19.980883Z",
     "iopub.status.busy": "2023-07-10T11:41:19.980575Z",
     "iopub.status.idle": "2023-07-10T12:10:06.594993Z",
     "shell.execute_reply": "2023-07-10T12:10:06.594472Z"
    }
   },
   "outputs": [
    {
     "name": "stderr",
     "output_type": "stream",
     "text": [
      "/tmp/ipykernel_84545/2223956829.py:23: RuntimeWarning: divide by zero encountered in scalar divide\n",
      "/tmp/ipykernel_84545/2223956829.py:26: RuntimeWarning: divide by zero encountered in scalar divide\n",
      "/home/ubuntu/.local/lib/python3.10/site-packages/scipy/optimize/_minpack_py.py:177: RuntimeWarning: The iteration is not making good progress, as measured by the \n",
      "  improvement from the last ten iterations.\n",
      "/tmp/ipykernel_84545/2223956829.py:23: RuntimeWarning: invalid value encountered in scalar divide\n",
      "/tmp/ipykernel_84545/2223956829.py:26: RuntimeWarning: invalid value encountered in scalar divide\n"
     ]
    },
    {
     "name": "stdout",
     "output_type": "stream",
     "text": [
      "[0.023, 0.07266666666666667, 0.208]\n",
      "[0.028333333333333332, 0.06366666666666666, 0.20633333333333334]\n",
      "[0.023333333333333334, 0.07533333333333334, 0.203]\n",
      "[0.026, 0.06633333333333333, 0.20666666666666667]\n",
      "[0.024, 0.07166666666666667, 0.19866666666666666]\n",
      "[0.025333333333333333, 0.058, 0.204]\n"
     ]
    },
    {
     "data": {
      "image/png": "[encoded data removed]",
      "text/plain": [
       "<Figure size 640x480 with 1 Axes>"
      ]
     },
     "metadata": {},
     "output_type": "display_data"
    }
   ],
   "source": [
    "# base experiments\n",
    "M_base = 30000\n",
    "loss = 1\n",
    "\n",
    "\n",
    "start_time = time.time()\n",
    "sample_list1 = vibration_sampling_plus(M_base, S1, 0.3324, U1, dec_list1, 0, len_list1, 12, 1, 1, 100, loss)\n",
    "sample_list2 = vibration_sampling_plus(M_base, S1, 0.3324, U1, dec_list1, 0, len_list1, 12, 1, 1, 100, loss)\n",
    "sample_list3 = vibration_sampling_plus(M_base, S1, 0.3324, U1, dec_list1, 0, len_list1, 12, 1, 1, 100, loss)\n",
    "end_time = time.time()\n",
    "execution_time = end_time - start_time\n",
    "time_base.append(execution_time)\n",
    "sample_G1_base.append(sample_list1)\n",
    "sample_G1_base.append(sample_list2)\n",
    "sample_G1_base.append(sample_list3)\n",
    "\n",
    "start_time = time.time()\n",
    "sample_list4 = vibration_sampling_plus(M_base, S2, 0.351, U2, dec_list1, 0, len_list1, 12, 1, 1, 100, loss)\n",
    "sample_list5 = vibration_sampling_plus(M_base, S2, 0.351, U2, dec_list1, 0, len_list1, 12, 1, 1, 100, loss)\n",
    "sample_list6 = vibration_sampling_plus(M_base, S2, 0.351, U2, dec_list1, 0, len_list1, 12, 1, 1, 100, loss)\n",
    "end_time = time.time()\n",
    "execution_time = end_time - start_time\n",
    "time_base.append(execution_time)\n",
    "sample_G2_base.append(sample_list4)\n",
    "sample_G2_base.append(sample_list5)\n",
    "sample_G2_base.append(sample_list6)\n",
    "\n",
    "orbits = [[1,1,1,1,1,1], [1,1,1,1], [1,1]]\n",
    "vector1 = feature_vector_orbits_sampling(sample_list1, orbits)\n",
    "vector2 = feature_vector_orbits_sampling(sample_list2, orbits)\n",
    "vector3 = feature_vector_orbits_sampling(sample_list3, orbits)\n",
    "vector4 = feature_vector_orbits_sampling(sample_list4, orbits)\n",
    "vector5 = feature_vector_orbits_sampling(sample_list5, orbits)\n",
    "vector6 = feature_vector_orbits_sampling(sample_list6, orbits)\n",
    "\n",
    "vector_G1_base.append(vector1)\n",
    "vector_G1_base.append(vector2)\n",
    "vector_G1_base.append(vector3)\n",
    "vector_G2_base.append(vector4)\n",
    "vector_G2_base.append(vector5)\n",
    "vector_G2_base.append(vector6)\n",
    "\n",
    "G1_base = (np.array(vector1)+np.array(vector2)+np.array(vector3))/3\n",
    "G2_base = (np.array(vector4)+np.array(vector5)+np.array(vector6))/3\n",
    "\n",
    "print(vector1)\n",
    "print(vector2)\n",
    "print(vector3)\n",
    "print(vector4)\n",
    "print(vector5)\n",
    "print(vector6)\n",
    "\n",
    "import matplotlib.pyplot as plt\n",
    "fig = plt.figure()\n",
    "ax = fig.add_subplot(111, projection='3d')\n",
    "\n",
    "ax.scatter(vector1[0], vector1[1], vector1[2], color=\"blue\", s=150)\n",
    "ax.scatter(vector2[0], vector2[1], vector2[2], color=\"blue\", s=150)\n",
    "ax.scatter(vector3[0], vector3[1], vector3[2], color=\"blue\", s=150)\n",
    "ax.scatter(vector4[0], vector4[1], vector4[2], color=\"red\", s=150)\n",
    "ax.scatter(vector5[0], vector5[1], vector5[2], color=\"red\", s=150)\n",
    "ax.scatter(vector6[0], vector6[1], vector6[2], color=\"red\", s=150)\n",
    "ax.set_xlabel('[1,1,1,1,1,1]')\n",
    "ax.set_ylabel('[1,1,1,1]')\n",
    "ax.set_zlabel('[1,1]')\n",
    "\n",
    "plt.show()"
   ]
  },
  {
   "cell_type": "code",
   "execution_count": 35,
   "id": "76e9785a",
   "metadata": {
    "execution": {
     "iopub.execute_input": "2023-07-10T12:10:06.597007Z",
     "iopub.status.busy": "2023-07-10T12:10:06.596742Z",
     "iopub.status.idle": "2023-07-10T12:10:06.654966Z",
     "shell.execute_reply": "2023-07-10T12:10:06.654481Z"
    }
   },
   "outputs": [],
   "source": [
    "# create path for M_base\n",
    "path_M_base = 'M_base.csv'\n",
    "# Open the file in write mode and create a CSV writer\n",
    "with open(path_M_base, 'w', newline='') as file:\n",
    "    writer = csv.writer(file)\n",
    "\n",
    "    # Write the list as a single row in the CSV file\n",
    "    writer.writerow([M_base])\n",
    "    \n",
    "# create path for time_base\n",
    "path_time_base = 'time_base.csv'\n",
    "# Open the file in write mode and create a CSV writer\n",
    "with open(path_time_base, 'w', newline='') as file:\n",
    "    writer = csv.writer(file)\n",
    "\n",
    "    # Write the list as a single row in the CSV file\n",
    "    writer.writerow(time_base)\n",
    "    \n",
    "    \n",
    "# create path for sample_G1_base\n",
    "path_sample_G1_base = 'sample_G1_base.csv'\n",
    "# Open the file in write mode and create a CSV writer\n",
    "with open(path_sample_G1_base, 'w', newline='') as file:\n",
    "    writer = csv.writer(file)\n",
    "\n",
    "    # Write the list as a single row in the CSV file\n",
    "    writer.writerow(sample_G1_base)\n",
    "    \n",
    "# create path for sample_G2_base\n",
    "path_sample_G2_base = 'sample_G2_base.csv'\n",
    "# Open the file in write mode and create a CSV writer\n",
    "with open(path_sample_G2_base, 'w', newline='') as file:\n",
    "    writer = csv.writer(file)\n",
    "\n",
    "    # Write the list as a single row in the CSV file\n",
    "    writer.writerow(sample_G2_base)\n",
    "    \n",
    "# create path for vector_G1_base\n",
    "path_vector_G1_base = 'vector_G1_base.csv'\n",
    "# Open the file in write mode and create a CSV writer\n",
    "with open(path_vector_G1_base, 'w', newline='') as file:\n",
    "    writer = csv.writer(file)\n",
    "\n",
    "    # Write the list as a single row in the CSV file\n",
    "    writer.writerow(vector_G1_base)\n",
    "    \n",
    "# create path for vector_G2_base\n",
    "path_vector_G2_base = 'vector_G2_base.csv'\n",
    "# Open the file in write mode and create a CSV writer\n",
    "with open(path_vector_G2_base, 'w', newline='') as file:\n",
    "    writer = csv.writer(file)\n",
    "\n",
    "    # Write the list as a single row in the CSV file\n",
    "    writer.writerow(vector_G2_base)"
   ]
  },
  {
   "cell_type": "code",
   "execution_count": 36,
   "id": "973a3c30",
   "metadata": {
    "execution": {
     "iopub.execute_input": "2023-07-10T12:10:06.657005Z",
     "iopub.status.busy": "2023-07-10T12:10:06.656744Z",
     "iopub.status.idle": "2023-07-10T12:10:06.659336Z",
     "shell.execute_reply": "2023-07-10T12:10:06.658934Z"
    }
   },
   "outputs": [],
   "source": [
    "loss_range = [0.999, 0.995, 0.99, 0.985, 0.98, 0.975]\n",
    "M = 10000"
   ]
  },
  {
   "cell_type": "code",
   "execution_count": 37,
   "id": "8a2a720b",
   "metadata": {
    "execution": {
     "iopub.execute_input": "2023-07-10T12:10:06.660982Z",
     "iopub.status.busy": "2023-07-10T12:10:06.660748Z",
     "iopub.status.idle": "2023-07-10T12:10:06.664030Z",
     "shell.execute_reply": "2023-07-10T12:10:06.663611Z"
    }
   },
   "outputs": [],
   "source": [
    "# create path for loss list\n",
    "path_loss = 'loss.csv'\n",
    "# Open the file in write mode and create a CSV writer\n",
    "with open(path_loss, 'w', newline='') as file:\n",
    "    writer = csv.writer(file)\n",
    "\n",
    "    # Write the list as a single row in the CSV file\n",
    "    writer.writerow(loss_range)\n",
    "    \n",
    "# create path for M\n",
    "path_M = 'M.csv'\n",
    "# Open the file in write mode and create a CSV writer\n",
    "with open(path_M, 'w', newline='') as file:\n",
    "    writer = csv.writer(file)\n",
    "\n",
    "    # Write the list as a single row in the CSV file\n",
    "    writer.writerow([M])"
   ]
  },
  {
   "cell_type": "code",
   "execution_count": 38,
   "id": "7bf3be1f",
   "metadata": {
    "execution": {
     "iopub.execute_input": "2023-07-10T12:10:06.665872Z",
     "iopub.status.busy": "2023-07-10T12:10:06.665590Z",
     "iopub.status.idle": "2023-07-10T12:10:06.667865Z",
     "shell.execute_reply": "2023-07-10T12:10:06.667464Z"
    }
   },
   "outputs": [],
   "source": [
    "time1 = []\n",
    "time2 = []\n",
    "time3 = []\n",
    "time4 = []"
   ]
  },
  {
   "cell_type": "code",
   "execution_count": 39,
   "id": "a8e43b81",
   "metadata": {
    "execution": {
     "iopub.execute_input": "2023-07-10T12:10:06.669715Z",
     "iopub.status.busy": "2023-07-10T12:10:06.669437Z",
     "iopub.status.idle": "2023-07-10T12:10:06.672317Z",
     "shell.execute_reply": "2023-07-10T12:10:06.671871Z"
    }
   },
   "outputs": [],
   "source": [
    "sample_G1_1 = []\n",
    "sample_G1_2 = []\n",
    "sample_G1_3 = []\n",
    "sample_G1_4 = []\n",
    "sample_G2_1 = []\n",
    "sample_G2_2 = []\n",
    "sample_G2_3 = []\n",
    "sample_G2_4 = []\n",
    "vector_G1_1 = []\n",
    "vector_G1_2 = []\n",
    "vector_G1_3 = []\n",
    "vector_G1_4 = []\n",
    "vector_G2_1 = []\n",
    "vector_G2_2 = []\n",
    "vector_G2_3 = []\n",
    "vector_G2_4 = []"
   ]
  },
  {
   "cell_type": "code",
   "execution_count": 40,
   "id": "29c8555b",
   "metadata": {
    "execution": {
     "iopub.execute_input": "2023-07-10T12:10:06.674078Z",
     "iopub.status.busy": "2023-07-10T12:10:06.673802Z",
     "iopub.status.idle": "2023-07-10T12:10:06.675907Z",
     "shell.execute_reply": "2023-07-10T12:10:06.675520Z"
    }
   },
   "outputs": [],
   "source": [
    "# hold 99.9% accuracy"
   ]
  },
  {
   "cell_type": "code",
   "execution_count": 41,
   "id": "b61eb079",
   "metadata": {
    "execution": {
     "iopub.execute_input": "2023-07-10T12:10:06.677801Z",
     "iopub.status.busy": "2023-07-10T12:10:06.677661Z",
     "iopub.status.idle": "2023-07-10T18:04:38.730963Z",
     "shell.execute_reply": "2023-07-10T18:04:38.730415Z"
    }
   },
   "outputs": [
    {
     "name": "stderr",
     "output_type": "stream",
     "text": [
      "/tmp/ipykernel_84545/2223956829.py:23: RuntimeWarning: divide by zero encountered in scalar divide\n",
      "/tmp/ipykernel_84545/2223956829.py:26: RuntimeWarning: divide by zero encountered in scalar divide\n",
      "/tmp/ipykernel_84545/2223956829.py:23: RuntimeWarning: invalid value encountered in scalar divide\n",
      "/tmp/ipykernel_84545/2223956829.py:26: RuntimeWarning: invalid value encountered in scalar divide\n",
      "/tmp/ipykernel_84545/370532848.py:22: RuntimeWarning: invalid value encountered in scalar divide\n",
      "/tmp/ipykernel_84545/370532848.py:25: RuntimeWarning: invalid value encountered in scalar divide\n",
      "/tmp/ipykernel_84545/370532848.py:25: RuntimeWarning: divide by zero encountered in scalar divide\n"
     ]
    }
   ],
   "source": [
    "for loss in loss_range:\n",
    "    \n",
    "    # 000\n",
    "    start_time = time.time()\n",
    "    sample_list1 = vibration_sampling_plus(M, S1, 0.3324, U1, dec_list1, 0, len_list1, 12, 1, 1, 100, loss)\n",
    "    sample_list2 = vibration_sampling_plus(M, S1, 0.3324, U1, dec_list1, 0, len_list1, 12, 1, 1, 100, loss)\n",
    "    sample_list3 = vibration_sampling_plus(M, S1, 0.3324, U1, dec_list1, 0, len_list1, 12, 1, 1, 100, loss)\n",
    "    end_time = time.time()\n",
    "    execution_time1 = end_time - start_time\n",
    "    time1.append(execution_time1)\n",
    "    sample_G1_1.append(sample_list1)\n",
    "    sample_G1_1.append(sample_list2)\n",
    "    sample_G1_1.append(sample_list3)\n",
    "    \n",
    "    \n",
    "    start_time = time.time()\n",
    "    sample_list4 = vibration_sampling_plus(M, S2, 0.351, U2, dec_list1, 0, len_list1, 12, 1, 1, 100, loss)\n",
    "    sample_list5 = vibration_sampling_plus(M, S2, 0.351, U2, dec_list1, 0, len_list1, 12, 1, 1, 100, loss)\n",
    "    sample_list6 = vibration_sampling_plus(M, S2, 0.351, U2, dec_list1, 0, len_list1, 12, 1, 1, 100, loss)\n",
    "    end_time = time.time()\n",
    "    execution_time1 = end_time - start_time\n",
    "    time1.append(execution_time1)\n",
    "    sample_G2_1.append(sample_list4)\n",
    "    sample_G2_1.append(sample_list5)\n",
    "    sample_G2_1.append(sample_list6)\n",
    "\n",
    "    \n",
    "    orbits = [[1,1,1,1,1,1], [1,1,1,1], [1,1]]\n",
    "    vector7 = feature_vector_orbits_sampling(sample_list1, orbits)\n",
    "    vector8 = feature_vector_orbits_sampling(sample_list2, orbits)\n",
    "    vector9 = feature_vector_orbits_sampling(sample_list3, orbits)\n",
    "    vector10 = feature_vector_orbits_sampling(sample_list4, orbits)\n",
    "    vector11 = feature_vector_orbits_sampling(sample_list5, orbits)\n",
    "    vector12 = feature_vector_orbits_sampling(sample_list6, orbits)\n",
    "    vector_G1_1.append(vector7)\n",
    "    vector_G1_1.append(vector8)\n",
    "    vector_G1_1.append(vector9)\n",
    "    vector_G2_1.append(vector10)\n",
    "    vector_G2_1.append(vector11)\n",
    "    vector_G2_1.append(vector12)\n",
    "\n",
    "    G1_e1 = (np.array(vector7)+np.array(vector8)+np.array(vector9))/3\n",
    "    G2_e1 = (np.array(vector10)+np.array(vector11)+np.array(vector12))/3\n",
    "\n",
    "    acc1 = distance_between_vectors(G1_e1, G1_base)\n",
    "    acc2 = distance_between_vectors(G2_e1, G2_base)\n",
    "\n",
    "\n",
    "    G1_acc1.append(acc1)\n",
    "    G2_acc1.append(acc2)\n",
    "    \n",
    "    \n",
    "    # 001\n",
    "    start_time = time.time()\n",
    "    sample_list1 = vibration_sampling_plus(M, S1, 0.3324, U1, dec_list1, 0, len_list1, 12, 0.964, 0.12, 100, loss)\n",
    "    sample_list2 = vibration_sampling_plus(M, S1, 0.3324, U1, dec_list1, 0, len_list1, 12, 0.964, 0.12, 100, loss)\n",
    "    sample_list3 = vibration_sampling_plus(M, S1, 0.3324, U1, dec_list1, 0, len_list1, 12, 0.964, 0.12, 100, loss)\n",
    "    end_time = time.time()\n",
    "    execution_time2 = end_time - start_time\n",
    "    time2.append(execution_time2)\n",
    "    sample_G1_2.append(sample_list1)\n",
    "    sample_G1_2.append(sample_list2)\n",
    "    sample_G1_2.append(sample_list3)\n",
    "    \n",
    "    \n",
    "    start_time = time.time()\n",
    "    sample_list4 = vibration_sampling_plus(M, S2, 0.351, U2, dec_list1, 0, len_list1, 12, 0.953, 0.111, 100, loss)\n",
    "    sample_list5 = vibration_sampling_plus(M, S2, 0.351, U2, dec_list1, 0, len_list1, 12, 0.953, 0.111, 100, loss)\n",
    "    sample_list6 = vibration_sampling_plus(M, S2, 0.351, U2, dec_list1, 0, len_list1, 12, 0.953, 0.111, 100, loss)\n",
    "    end_time = time.time()\n",
    "    execution_time2 = end_time - start_time\n",
    "    time2.append(execution_time2)\n",
    "    sample_G2_2.append(sample_list4)\n",
    "    sample_G2_2.append(sample_list5)\n",
    "    sample_G2_2.append(sample_list6)\n",
    "\n",
    "    orbits = [[1,1,1,1,1,1], [1,1,1,1], [1,1]]\n",
    "    vector7 = feature_vector_orbits_sampling(sample_list1, orbits)\n",
    "    vector8 = feature_vector_orbits_sampling(sample_list2, orbits)\n",
    "    vector9 = feature_vector_orbits_sampling(sample_list3, orbits)\n",
    "    vector10 = feature_vector_orbits_sampling(sample_list4, orbits)\n",
    "    vector11 = feature_vector_orbits_sampling(sample_list5, orbits)\n",
    "    vector12 = feature_vector_orbits_sampling(sample_list6, orbits)\n",
    "    vector_G1_2.append(vector7)\n",
    "    vector_G1_2.append(vector8)\n",
    "    vector_G1_2.append(vector9)\n",
    "    vector_G2_2.append(vector10)\n",
    "    vector_G2_2.append(vector11)\n",
    "    vector_G2_2.append(vector12)\n",
    "\n",
    "    G1_e2 = (np.array(vector7)+np.array(vector8)+np.array(vector9))/3\n",
    "    G2_e2 = (np.array(vector10)+np.array(vector11)+np.array(vector12))/3\n",
    "\n",
    "    acc1 = distance_between_vectors(G1_e2, G1_base)\n",
    "    acc2 = distance_between_vectors(G2_e2, G2_base)\n",
    "\n",
    "\n",
    "    G1_acc2.append(acc1)\n",
    "    G2_acc2.append(acc2)\n",
    "    \n",
    "    \n",
    "    \n",
    "    # 101\n",
    "    start_time = time.time()\n",
    "    sample_list1 = vibration_sampling_plus(M, S1, 0.3324, U1, dec_list2, 0, len_list2, 12, 0.812, 0.056, 100, loss)\n",
    "    sample_list2 = vibration_sampling_plus(M, S1, 0.3324, U1, dec_list2, 0, len_list2, 12, 0.812, 0.056, 100, loss)\n",
    "    sample_list3 = vibration_sampling_plus(M, S1, 0.3324, U1, dec_list2, 0, len_list2, 12, 0.812, 0.056, 100, loss)\n",
    "    end_time = time.time()\n",
    "    execution_time3 = end_time - start_time\n",
    "    time3.append(execution_time3)\n",
    "    sample_G1_3.append(sample_list1)\n",
    "    sample_G1_3.append(sample_list2)\n",
    "    sample_G1_3.append(sample_list3)\n",
    "    \n",
    "    \n",
    "    start_time = time.time()\n",
    "    sample_list4 = vibration_sampling_plus(M, S2, 0.351, U2, dec_list2, 0, len_list2, 12, 0.834, 0.058, 100, loss)\n",
    "    sample_list5 = vibration_sampling_plus(M, S2, 0.351, U2, dec_list2, 0, len_list2, 12, 0.834, 0.058, 100, loss)\n",
    "    sample_list6 = vibration_sampling_plus(M, S2, 0.351, U2, dec_list2, 0, len_list2, 12, 0.834, 0.058, 100, loss)\n",
    "    end_time = time.time()\n",
    "    execution_time3 = end_time - start_time\n",
    "    time3.append(execution_time3)\n",
    "    sample_G2_3.append(sample_list4)\n",
    "    sample_G2_3.append(sample_list5)\n",
    "    sample_G2_3.append(sample_list6)\n",
    "\n",
    "    \n",
    "    orbits = [[1,1,1,1,1,1], [1,1,1,1], [1,1]]\n",
    "    vector7 = feature_vector_orbits_sampling(sample_list1, orbits)\n",
    "    vector8 = feature_vector_orbits_sampling(sample_list2, orbits)\n",
    "    vector9 = feature_vector_orbits_sampling(sample_list3, orbits)\n",
    "    vector10 = feature_vector_orbits_sampling(sample_list4, orbits)\n",
    "    vector11 = feature_vector_orbits_sampling(sample_list5, orbits)\n",
    "    vector12 = feature_vector_orbits_sampling(sample_list6, orbits)\n",
    "    vector_G1_3.append(vector7)\n",
    "    vector_G1_3.append(vector8)\n",
    "    vector_G1_3.append(vector9)\n",
    "    vector_G2_3.append(vector10)\n",
    "    vector_G2_3.append(vector11)\n",
    "    vector_G2_3.append(vector12)\n",
    "\n",
    "    G1_e3 = (np.array(vector7)+np.array(vector8)+np.array(vector9))/3\n",
    "    G2_e3 = (np.array(vector10)+np.array(vector11)+np.array(vector12))/3\n",
    "\n",
    "    acc1 = distance_between_vectors(G1_e3, G1_base)\n",
    "    acc2 = distance_between_vectors(G2_e3, G2_base)\n",
    "\n",
    "\n",
    "    G1_acc3.append(acc1)\n",
    "    G2_acc3.append(acc2)\n",
    "    \n",
    "    # 111\n",
    "    start_time = time.time()\n",
    "    sample_list1 = vibration_sampling_plus(M, S1, 0.3324, U1, dec_list2, 1, len_list2, 6, 0.743, 0.045, 100, loss)\n",
    "    sample_list2 = vibration_sampling_plus(M, S1, 0.3324, U1, dec_list2, 1, len_list2, 6, 0.743, 0.045, 100, loss)\n",
    "    sample_list3 = vibration_sampling_plus(M, S1, 0.3324, U1, dec_list2, 1, len_list2, 6, 0.743, 0.045, 100, loss)\n",
    "    end_time = time.time()\n",
    "    execution_time4 = end_time - start_time\n",
    "    time4.append(execution_time4)\n",
    "    sample_G1_4.append(sample_list1)\n",
    "    sample_G1_4.append(sample_list2)\n",
    "    sample_G1_4.append(sample_list3)\n",
    "    \n",
    "    \n",
    "    start_time = time.time()\n",
    "    sample_list4 = vibration_sampling_plus(M, S2, 0.351, U2, dec_list2, 1, len_list2, 10, 0.7754, 0.078, 100, loss)\n",
    "    sample_list5 = vibration_sampling_plus(M, S2, 0.351, U2, dec_list2, 1, len_list2, 10, 0.7754, 0.078, 100, loss)\n",
    "    sample_list6 = vibration_sampling_plus(M, S2, 0.351, U2, dec_list2, 1, len_list2, 10, 0.7754, 0.078, 100, loss)\n",
    "    end_time = time.time()\n",
    "    execution_time4 = end_time - start_time\n",
    "    time4.append(execution_time4)\n",
    "    sample_G2_4.append(sample_list4)\n",
    "    sample_G2_4.append(sample_list5)\n",
    "    sample_G2_4.append(sample_list6)\n",
    "\n",
    "    \n",
    "    orbits = [[1,1,1,1,1,1], [1,1,1,1], [1,1]]\n",
    "    vector7 = feature_vector_orbits_sampling(sample_list1, orbits)\n",
    "    vector8 = feature_vector_orbits_sampling(sample_list2, orbits)\n",
    "    vector9 = feature_vector_orbits_sampling(sample_list3, orbits)\n",
    "    vector10 = feature_vector_orbits_sampling(sample_list4, orbits)\n",
    "    vector11 = feature_vector_orbits_sampling(sample_list5, orbits)\n",
    "    vector12 = feature_vector_orbits_sampling(sample_list6, orbits)\n",
    "    vector_G1_4.append(vector7)\n",
    "    vector_G1_4.append(vector8)\n",
    "    vector_G1_4.append(vector9)\n",
    "    vector_G2_4.append(vector10)\n",
    "    vector_G2_4.append(vector11)\n",
    "    vector_G2_4.append(vector12)\n",
    "\n",
    "    G1_e4 = (np.array(vector7)+np.array(vector8)+np.array(vector9))/3\n",
    "    G2_e4 = (np.array(vector10)+np.array(vector11)+np.array(vector12))/3\n",
    "\n",
    "    acc1 = distance_between_vectors(G1_e4, G1_base)\n",
    "    acc2 = distance_between_vectors(G2_e4, G2_base)\n",
    "\n",
    "\n",
    "    G1_acc4.append(acc1)\n",
    "    G2_acc4.append(acc2)"
   ]
  },
  {
   "cell_type": "code",
   "execution_count": 42,
   "id": "28a11bb2",
   "metadata": {
    "execution": {
     "iopub.execute_input": "2023-07-10T18:04:38.733832Z",
     "iopub.status.busy": "2023-07-10T18:04:38.733390Z",
     "iopub.status.idle": "2023-07-10T18:04:39.327462Z",
     "shell.execute_reply": "2023-07-10T18:04:39.326750Z"
    }
   },
   "outputs": [],
   "source": [
    "# create path for sample_G1_1\n",
    "path_sample_G1_1 = 'sample_G1_1.csv'\n",
    "# Open the file in write mode and create a CSV writer\n",
    "with open(path_sample_G1_1, 'w', newline='') as file:\n",
    "    writer = csv.writer(file)\n",
    "\n",
    "    # Write the list as a single row in the CSV file\n",
    "    writer.writerow(sample_G1_1)\n",
    "    \n",
    "# create path for sample_G1_2\n",
    "path_sample_G1_2 = 'sample_G1_2.csv'\n",
    "# Open the file in write mode and create a CSV writer\n",
    "with open(path_sample_G1_2, 'w', newline='') as file:\n",
    "    writer = csv.writer(file)\n",
    "\n",
    "    # Write the list as a single row in the CSV file\n",
    "    writer.writerow(sample_G1_2)\n",
    "    \n",
    "# create path for sample_G1_3\n",
    "path_sample_G1_3 = 'sample_G1_3.csv'\n",
    "# Open the file in write mode and create a CSV writer\n",
    "with open(path_sample_G1_3, 'w', newline='') as file:\n",
    "    writer = csv.writer(file)\n",
    "\n",
    "    # Write the list as a single row in the CSV file\n",
    "    writer.writerow(sample_G1_3)\n",
    "    \n",
    "# create path for sample_G1_4\n",
    "path_sample_G1_4 = 'sample_G1_4.csv'\n",
    "# Open the file in write mode and create a CSV writer\n",
    "with open(path_sample_G1_4, 'w', newline='') as file:\n",
    "    writer = csv.writer(file)\n",
    "\n",
    "    # Write the list as a single row in the CSV file\n",
    "    writer.writerow(sample_G1_4)\n",
    "    \n",
    "    \n",
    "    \n",
    "# create path for sample_G2_1\n",
    "path_sample_G2_1 = 'sample_G2_1.csv'\n",
    "# Open the file in write mode and create a CSV writer\n",
    "with open(path_sample_G2_1, 'w', newline='') as file:\n",
    "    writer = csv.writer(file)\n",
    "\n",
    "    # Write the list as a single row in the CSV file\n",
    "    writer.writerow(sample_G2_1)\n",
    "    \n",
    "# create path for sample_G2_2\n",
    "path_sample_G2_2 = 'sample_G2_2.csv'\n",
    "# Open the file in write mode and create a CSV writer\n",
    "with open(path_sample_G2_2, 'w', newline='') as file:\n",
    "    writer = csv.writer(file)\n",
    "\n",
    "    # Write the list as a single row in the CSV file\n",
    "    writer.writerow(sample_G2_2)\n",
    "    \n",
    "# create path for sample_G2_3\n",
    "path_sample_G2_3 = 'sample_G2_3.csv'\n",
    "# Open the file in write mode and create a CSV writer\n",
    "with open(path_sample_G2_3, 'w', newline='') as file:\n",
    "    writer = csv.writer(file)\n",
    "\n",
    "    # Write the list as a single row in the CSV file\n",
    "    writer.writerow(sample_G2_3)\n",
    "    \n",
    "# create path for sample_G2_4\n",
    "path_sample_G2_4 = 'sample_G2_4.csv'\n",
    "# Open the file in write mode and create a CSV writer\n",
    "with open(path_sample_G2_4, 'w', newline='') as file:\n",
    "    writer = csv.writer(file)\n",
    "\n",
    "    # Write the list as a single row in the CSV file\n",
    "    writer.writerow(sample_G2_4)"
   ]
  },
  {
   "cell_type": "code",
   "execution_count": 43,
   "id": "83036dd8",
   "metadata": {
    "execution": {
     "iopub.execute_input": "2023-07-10T18:04:39.330233Z",
     "iopub.status.busy": "2023-07-10T18:04:39.329989Z",
     "iopub.status.idle": "2023-07-10T18:04:39.338133Z",
     "shell.execute_reply": "2023-07-10T18:04:39.337592Z"
    }
   },
   "outputs": [],
   "source": [
    "# create path for vector_G1_1\n",
    "path_vector_G1_1 = 'vector_G1_1.csv'\n",
    "# Open the file in write mode and create a CSV writer\n",
    "with open(path_vector_G1_1, 'w', newline='') as file:\n",
    "    writer = csv.writer(file)\n",
    "\n",
    "    # Write the list as a single row in the CSV file\n",
    "    writer.writerow(vector_G1_1)\n",
    "    \n",
    "# create path for vector_G1_2\n",
    "path_vector_G1_2 = 'vector_G1_2.csv'\n",
    "# Open the file in write mode and create a CSV writer\n",
    "with open(path_vector_G1_2, 'w', newline='') as file:\n",
    "    writer = csv.writer(file)\n",
    "\n",
    "    # Write the list as a single row in the CSV file\n",
    "    writer.writerow(vector_G1_2)\n",
    "    \n",
    "# create path for vector_G1_3\n",
    "path_vector_G1_3 = 'vector_G1_3.csv'\n",
    "# Open the file in write mode and create a CSV writer\n",
    "with open(path_vector_G1_3, 'w', newline='') as file:\n",
    "    writer = csv.writer(file)\n",
    "\n",
    "    # Write the list as a single row in the CSV file\n",
    "    writer.writerow(vector_G1_3)\n",
    "    \n",
    "# create path for vector_G1_4\n",
    "path_vector_G1_4 = 'vector_G1_4.csv'\n",
    "# Open the file in write mode and create a CSV writer\n",
    "with open(path_vector_G1_4, 'w', newline='') as file:\n",
    "    writer = csv.writer(file)\n",
    "\n",
    "    # Write the list as a single row in the CSV file\n",
    "    writer.writerow(vector_G1_4)\n",
    "    \n",
    "    \n",
    "    \n",
    "# create path for vector_G2_1\n",
    "path_vector_G2_1 = 'vector_G2_1.csv'\n",
    "# Open the file in write mode and create a CSV writer\n",
    "with open(path_vector_G2_1, 'w', newline='') as file:\n",
    "    writer = csv.writer(file)\n",
    "\n",
    "    # Write the list as a single row in the CSV file\n",
    "    writer.writerow(vector_G2_1)\n",
    "    \n",
    "# create path for vector_G2_2\n",
    "path_vector_G2_2 = 'vector_G2_2.csv'\n",
    "# Open the file in write mode and create a CSV writer\n",
    "with open(path_vector_G2_2, 'w', newline='') as file:\n",
    "    writer = csv.writer(file)\n",
    "\n",
    "    # Write the list as a single row in the CSV file\n",
    "    writer.writerow(vector_G2_2)\n",
    "    \n",
    "# create path for vector_G2_3\n",
    "path_vector_G2_3 = 'vector_G2_3.csv'\n",
    "# Open the file in write mode and create a CSV writer\n",
    "with open(path_vector_G2_3, 'w', newline='') as file:\n",
    "    writer = csv.writer(file)\n",
    "\n",
    "    # Write the list as a single row in the CSV file\n",
    "    writer.writerow(vector_G2_3)\n",
    "    \n",
    "# create path for vector_G2_4\n",
    "path_vector_G2_4 = 'vector_G2_4.csv'\n",
    "# Open the file in write mode and create a CSV writer\n",
    "with open(path_vector_G2_4, 'w', newline='') as file:\n",
    "    writer = csv.writer(file)\n",
    "\n",
    "    # Write the list as a single row in the CSV file\n",
    "    writer.writerow(vector_G2_4)"
   ]
  },
  {
   "cell_type": "code",
   "execution_count": 44,
   "id": "3661092d",
   "metadata": {
    "execution": {
     "iopub.execute_input": "2023-07-10T18:04:39.340141Z",
     "iopub.status.busy": "2023-07-10T18:04:39.339941Z",
     "iopub.status.idle": "2023-07-10T18:04:39.346268Z",
     "shell.execute_reply": "2023-07-10T18:04:39.345741Z"
    }
   },
   "outputs": [],
   "source": [
    "# create path for G1_acc1\n",
    "path_G1_acc1 = 'G1_acc1.csv'\n",
    "# Open the file in write mode and create a CSV writer\n",
    "with open(path_G1_acc1, 'w', newline='') as file:\n",
    "    writer = csv.writer(file)\n",
    "\n",
    "    # Write the list as a single row in the CSV file\n",
    "    writer.writerow(G1_acc1)\n",
    "    \n",
    "# create path for G1_acc2\n",
    "path_G1_acc2 = 'G1_acc2.csv'\n",
    "# Open the file in write mode and create a CSV writer\n",
    "with open(path_G1_acc2, 'w', newline='') as file:\n",
    "    writer = csv.writer(file)\n",
    "\n",
    "    # Write the list as a single row in the CSV file\n",
    "    writer.writerow(G1_acc2)\n",
    "    \n",
    "# create path for G1_acc3\n",
    "path_G1_acc3 = 'G1_acc3.csv'\n",
    "# Open the file in write mode and create a CSV writer\n",
    "with open(path_G1_acc3, 'w', newline='') as file:\n",
    "    writer = csv.writer(file)\n",
    "\n",
    "    # Write the list as a single row in the CSV file\n",
    "    writer.writerow(G1_acc3)\n",
    "    \n",
    "# create path for G1_acc4\n",
    "path_G1_acc4 = 'G1_acc4.csv'\n",
    "# Open the file in write mode and create a CSV writer\n",
    "with open(path_G1_acc4, 'w', newline='') as file:\n",
    "    writer = csv.writer(file)\n",
    "\n",
    "    # Write the list as a single row in the CSV file\n",
    "    writer.writerow(G1_acc4)\n",
    "    \n",
    "    \n",
    "    \n",
    "# create path for G2_acc1\n",
    "path_G2_acc1 = 'G2_acc1.csv'\n",
    "# Open the file in write mode and create a CSV writer\n",
    "with open(path_G2_acc1, 'w', newline='') as file:\n",
    "    writer = csv.writer(file)\n",
    "\n",
    "    # Write the list as a single row in the CSV file\n",
    "    writer.writerow(G2_acc1)\n",
    "    \n",
    "# create path for G2_acc2\n",
    "path_G2_acc2 = 'G2_acc2.csv'\n",
    "# Open the file in write mode and create a CSV writer\n",
    "with open(path_G2_acc2, 'w', newline='') as file:\n",
    "    writer = csv.writer(file)\n",
    "\n",
    "    # Write the list as a single row in the CSV file\n",
    "    writer.writerow(G2_acc2)\n",
    "    \n",
    "# create path for G2_acc3\n",
    "path_G2_acc3 = 'G2_acc3.csv'\n",
    "# Open the file in write mode and create a CSV writer\n",
    "with open(path_G2_acc3, 'w', newline='') as file:\n",
    "    writer = csv.writer(file)\n",
    "\n",
    "    # Write the list as a single row in the CSV file\n",
    "    writer.writerow(G2_acc3)\n",
    "    \n",
    "# create path for G2_acc4\n",
    "path_G2_acc4 = 'G2_acc4.csv'\n",
    "# Open the file in write mode and create a CSV writer\n",
    "with open(path_G2_acc4, 'w', newline='') as file:\n",
    "    writer = csv.writer(file)\n",
    "\n",
    "    # Write the list as a single row in the CSV file\n",
    "    writer.writerow(G2_acc4)"
   ]
  },
  {
   "cell_type": "code",
   "execution_count": 45,
   "id": "db8e04f7",
   "metadata": {
    "execution": {
     "iopub.execute_input": "2023-07-10T18:04:39.348349Z",
     "iopub.status.busy": "2023-07-10T18:04:39.347967Z",
     "iopub.status.idle": "2023-07-10T18:04:39.352340Z",
     "shell.execute_reply": "2023-07-10T18:04:39.351824Z"
    }
   },
   "outputs": [],
   "source": [
    "# create path for time1\n",
    "path_time1 = 'time1.csv'\n",
    "# Open the file in write mode and create a CSV writer\n",
    "with open(path_time1, 'w', newline='') as file:\n",
    "    writer = csv.writer(file)\n",
    "\n",
    "    # Write the list as a single row in the CSV file\n",
    "    writer.writerow(time1)\n",
    "    \n",
    "# create path for time2\n",
    "path_time2 = 'time2.csv'\n",
    "# Open the file in write mode and create a CSV writer\n",
    "with open(path_time2, 'w', newline='') as file:\n",
    "    writer = csv.writer(file)\n",
    "\n",
    "    # Write the list as a single row in the CSV file\n",
    "    writer.writerow(time2)\n",
    "    \n",
    "# create path for time3\n",
    "path_time3 = 'time3.csv'\n",
    "# Open the file in write mode and create a CSV writer\n",
    "with open(path_time3, 'w', newline='') as file:\n",
    "    writer = csv.writer(file)\n",
    "\n",
    "    # Write the list as a single row in the CSV file\n",
    "    writer.writerow(time3)\n",
    "    \n",
    "# create path for time4\n",
    "path_time4 = 'time4.csv'\n",
    "# Open the file in write mode and create a CSV writer\n",
    "with open(path_time4, 'w', newline='') as file:\n",
    "    writer = csv.writer(file)\n",
    "\n",
    "    # Write the list as a single row in the CSV file\n",
    "    writer.writerow(time4)"
   ]
  },
  {
   "cell_type": "code",
   "execution_count": 46,
   "id": "48bfa79c",
   "metadata": {
    "execution": {
     "iopub.execute_input": "2023-07-10T18:04:39.354395Z",
     "iopub.status.busy": "2023-07-10T18:04:39.354022Z",
     "iopub.status.idle": "2023-07-10T18:04:39.493580Z",
     "shell.execute_reply": "2023-07-10T18:04:39.493031Z"
    }
   },
   "outputs": [
    {
     "data": {
      "image/png": "[encoded data removed]",
      "text/plain": [
       "<Figure size 640x480 with 1 Axes>"
      ]
     },
     "metadata": {},
     "output_type": "display_data"
    }
   ],
   "source": [
    "import matplotlib.pyplot as plt\n",
    "\n",
    "x_axis = [0.001, 0.005, 0.01, 0.015, 0.02, 0.025]\n",
    "\n",
    "# Plotting the lists\n",
    "plt.plot(x_axis, G1_acc1, color='blue', label='0, 0, 0')\n",
    "plt.plot(x_axis, G1_acc2, color='green', label='0, 0, 1')\n",
    "plt.plot(x_axis, G1_acc3, color='orange', label='1, 0, 1')\n",
    "plt.plot(x_axis, G1_acc4, color='red', label='1, 1, 1')\n",
    "\n",
    "# Adding a legend and labels\n",
    "plt.legend()\n",
    "plt.xlabel('loss')\n",
    "plt.ylabel('distance')\n",
    "plt.title('decomposition, mapping, qdrift')\n",
    "\n",
    "# Display the plot\n",
    "plt.show()"
   ]
  },
  {
   "cell_type": "code",
   "execution_count": 47,
   "id": "a5375855",
   "metadata": {
    "execution": {
     "iopub.execute_input": "2023-07-10T18:04:39.495520Z",
     "iopub.status.busy": "2023-07-10T18:04:39.495249Z",
     "iopub.status.idle": "2023-07-10T18:04:39.628721Z",
     "shell.execute_reply": "2023-07-10T18:04:39.628206Z"
    }
   },
   "outputs": [
    {
     "data": {
      "image/png": "[encoded data removed]",
      "text/plain": [
       "<Figure size 640x480 with 1 Axes>"
      ]
     },
     "metadata": {},
     "output_type": "display_data"
    }
   ],
   "source": [
    "import matplotlib.pyplot as plt\n",
    "\n",
    "x_axis = [0.001, 0.005, 0.01, 0.015, 0.02, 0.025]\n",
    "# Plotting the lists\n",
    "plt.plot(x_axis, G2_acc1, color='blue', label='0, 0, 0')\n",
    "plt.plot(x_axis, G2_acc2, color='green', label='0, 0, 1')\n",
    "plt.plot(x_axis, G2_acc3, color='orange', label='1, 0, 1')\n",
    "plt.plot(x_axis, G2_acc4, color='red', label='1, 1, 1')\n",
    "\n",
    "# Adding a legend and labels\n",
    "plt.legend()\n",
    "plt.xlabel('loss')\n",
    "plt.ylabel('distance')\n",
    "plt.title('decomposition, mapping, qdrift')\n",
    "\n",
    "# Display the plot\n",
    "plt.show()"
   ]
  },
  {
   "cell_type": "markdown",
   "id": "2ee1f636",
   "metadata": {},
   "source": [
    "U1: 99.9%\n",
    "e2 0.12,  0.9637681159420289\n",
    "e3 0.056, 0.8115942028985508\n",
    "e4 0.045, 0.7427536231884058"
   ]
  },
  {
   "cell_type": "markdown",
   "id": "13cdb6ca",
   "metadata": {},
   "source": [
    "U2: 99.9%\n",
    "e2 0.111, 0.9528985507246377\n",
    "e3 0.058, 0.8333333333333334\n",
    "e4 0.078, 0.7753623188405797"
   ]
  },
  {
   "cell_type": "code",
   "execution_count": null,
   "id": "b63f9c22",
   "metadata": {},
   "outputs": [],
   "source": []
  },
  {
   "cell_type": "code",
   "execution_count": 48,
   "id": "711342f2",
   "metadata": {
    "execution": {
     "iopub.execute_input": "2023-07-10T18:04:39.630956Z",
     "iopub.status.busy": "2023-07-10T18:04:39.630580Z",
     "iopub.status.idle": "2023-07-10T18:04:39.743256Z",
     "shell.execute_reply": "2023-07-10T18:04:39.742737Z"
    }
   },
   "outputs": [
    {
     "name": "stderr",
     "output_type": "stream",
     "text": [
      "/tmp/ipykernel_84545/2223956829.py:23: RuntimeWarning: divide by zero encountered in scalar divide\n",
      "/tmp/ipykernel_84545/2223956829.py:26: RuntimeWarning: divide by zero encountered in scalar divide\n",
      "/tmp/ipykernel_84545/2223956829.py:23: RuntimeWarning: invalid value encountered in scalar divide\n",
      "/tmp/ipykernel_84545/2223956829.py:26: RuntimeWarning: invalid value encountered in scalar divide\n"
     ]
    }
   ],
   "source": [
    "_, Theta1_00, Phi, Low_idx, High_idx, Diag, Permutation = U_decompose_plus(U1, dec_list1)\n",
    "_, Theta2_00, Phi, Low_idx, High_idx, Diag, Permutation = U_decompose_plus(U2, dec_list1)\n",
    "# create path for Theta1_00\n",
    "path_Theta1_00 = 'Theta1_00.csv'\n",
    "# Open the file in write mode and create a CSV writer\n",
    "with open(path_Theta1_00, 'w', newline='') as file:\n",
    "    writer = csv.writer(file)\n",
    "\n",
    "    # Write the list as a single row in the CSV file\n",
    "    writer.writerow(Theta1_00)\n",
    "    \n",
    "# create path for Theta2_00\n",
    "path_Theta2_00 = 'Theta2_00.csv'\n",
    "# Open the file in write mode and create a CSV writer\n",
    "with open(path_Theta2_00, 'w', newline='') as file:\n",
    "    writer = csv.writer(file)\n",
    "\n",
    "    # Write the list as a single row in the CSV file\n",
    "    writer.writerow(Theta2_00)"
   ]
  },
  {
   "cell_type": "code",
   "execution_count": 49,
   "id": "dbe5ad81",
   "metadata": {
    "execution": {
     "iopub.execute_input": "2023-07-10T18:04:39.745149Z",
     "iopub.status.busy": "2023-07-10T18:04:39.744962Z",
     "iopub.status.idle": "2023-07-10T18:04:39.861855Z",
     "shell.execute_reply": "2023-07-10T18:04:39.861313Z"
    }
   },
   "outputs": [
    {
     "name": "stderr",
     "output_type": "stream",
     "text": [
      "/tmp/ipykernel_84545/2223956829.py:26: RuntimeWarning: divide by zero encountered in scalar divide\n",
      "/tmp/ipykernel_84545/370532848.py:22: RuntimeWarning: invalid value encountered in scalar divide\n",
      "/tmp/ipykernel_84545/370532848.py:25: RuntimeWarning: invalid value encountered in scalar divide\n",
      "/tmp/ipykernel_84545/2223956829.py:23: RuntimeWarning: divide by zero encountered in scalar divide\n",
      "/tmp/ipykernel_84545/2223956829.py:23: RuntimeWarning: invalid value encountered in scalar divide\n",
      "/tmp/ipykernel_84545/2223956829.py:26: RuntimeWarning: invalid value encountered in scalar divide\n",
      "/tmp/ipykernel_84545/370532848.py:25: RuntimeWarning: divide by zero encountered in scalar divide\n"
     ]
    }
   ],
   "source": [
    "_, Theta1_01, Phi, Low_idx, High_idx, Diag, Permutation = U_decompose_plus(U1, dec_list2)\n",
    "_, Theta2_01, Phi, Low_idx, High_idx, Diag, Permutation = U_decompose_plus(U2, dec_list2)\n",
    "# create path for Theta1_01\n",
    "path_Theta1_01 = 'Theta1_01.csv'\n",
    "# Open the file in write mode and create a CSV writer\n",
    "with open(path_Theta1_01, 'w', newline='') as file:\n",
    "    writer = csv.writer(file)\n",
    "\n",
    "    # Write the list as a single row in the CSV file\n",
    "    writer.writerow(Theta1_01)\n",
    "    \n",
    "# create path for Theta2_01\n",
    "path_Theta2_01 = 'Theta2_01.csv'\n",
    "# Open the file in write mode and create a CSV writer\n",
    "with open(path_Theta2_01, 'w', newline='') as file:\n",
    "    writer = csv.writer(file)\n",
    "\n",
    "    # Write the list as a single row in the CSV file\n",
    "    writer.writerow(Theta2_01)"
   ]
  },
  {
   "cell_type": "code",
   "execution_count": 50,
   "id": "4b29656e",
   "metadata": {
    "execution": {
     "iopub.execute_input": "2023-07-10T18:04:39.863804Z",
     "iopub.status.busy": "2023-07-10T18:04:39.863422Z",
     "iopub.status.idle": "2023-07-10T18:04:39.983048Z",
     "shell.execute_reply": "2023-07-10T18:04:39.982527Z"
    }
   },
   "outputs": [
    {
     "name": "stderr",
     "output_type": "stream",
     "text": [
      "/tmp/ipykernel_84545/2223956829.py:26: RuntimeWarning: divide by zero encountered in scalar divide\n",
      "/tmp/ipykernel_84545/2223956829.py:23: RuntimeWarning: divide by zero encountered in scalar divide\n",
      "/tmp/ipykernel_84545/370532848.py:22: RuntimeWarning: invalid value encountered in scalar divide\n",
      "/tmp/ipykernel_84545/370532848.py:25: RuntimeWarning: invalid value encountered in scalar divide\n",
      "/tmp/ipykernel_84545/2223956829.py:23: RuntimeWarning: invalid value encountered in scalar divide\n",
      "/tmp/ipykernel_84545/2223956829.py:26: RuntimeWarning: invalid value encountered in scalar divide\n",
      "/tmp/ipykernel_84545/370532848.py:22: RuntimeWarning: divide by zero encountered in scalar divide\n"
     ]
    }
   ],
   "source": [
    "U1_map, col_per_matrix, row_per_matrix = mapping(U1, len_list2, 12)\n",
    "U2_map, col_per_matrix, row_per_matrix = mapping(U2, len_list2, 12)\n",
    "_, Theta1_11, Phi, Low_idx, High_idx, Diag, Permutation = U_decompose_plus(U1_map, dec_list2)\n",
    "_, Theta2_11, Phi, Low_idx, High_idx, Diag, Permutation = U_decompose_plus(U2_map, dec_list2)\n",
    "# create path for Theta1_01\n",
    "path_Theta1_11 = 'Theta1_11.csv'\n",
    "# Open the file in write mode and create a CSV writer\n",
    "with open(path_Theta1_11, 'w', newline='') as file:\n",
    "    writer = csv.writer(file)\n",
    "\n",
    "    # Write the list as a single row in the CSV file\n",
    "    writer.writerow(Theta1_11)\n",
    "    \n",
    "# create path for Theta2_11\n",
    "path_Theta2_11 = 'Theta2_11.csv'\n",
    "# Open the file in write mode and create a CSV writer\n",
    "with open(path_Theta2_11, 'w', newline='') as file:\n",
    "    writer = csv.writer(file)\n",
    "\n",
    "    # Write the list as a single row in the CSV file\n",
    "    writer.writerow(Theta2_11)"
   ]
  },
  {
   "cell_type": "code",
   "execution_count": null,
   "id": "329f7a70",
   "metadata": {},
   "outputs": [],
   "source": []
  },
  {
   "cell_type": "code",
   "execution_count": 51,
   "id": "7974e901",
   "metadata": {
    "execution": {
     "iopub.execute_input": "2023-07-10T18:04:39.984767Z",
     "iopub.status.busy": "2023-07-10T18:04:39.984576Z",
     "iopub.status.idle": "2023-07-10T18:04:39.992191Z",
     "shell.execute_reply": "2023-07-10T18:04:39.991669Z"
    }
   },
   "outputs": [],
   "source": [
    "U_map, col_per_matrix, row_per_matrix = mapping(U2, len_list2, 10)"
   ]
  },
  {
   "cell_type": "code",
   "execution_count": 52,
   "id": "c310ee8d",
   "metadata": {
    "execution": {
     "iopub.execute_input": "2023-07-10T18:04:39.994271Z",
     "iopub.status.busy": "2023-07-10T18:04:39.993897Z",
     "iopub.status.idle": "2023-07-10T18:04:40.044944Z",
     "shell.execute_reply": "2023-07-10T18:04:40.044415Z"
    }
   },
   "outputs": [
    {
     "name": "stderr",
     "output_type": "stream",
     "text": [
      "/tmp/ipykernel_84545/370532848.py:22: RuntimeWarning: invalid value encountered in scalar divide\n",
      "/tmp/ipykernel_84545/370532848.py:25: RuntimeWarning: invalid value encountered in scalar divide\n",
      "/tmp/ipykernel_84545/2223956829.py:26: RuntimeWarning: divide by zero encountered in scalar divide\n",
      "/tmp/ipykernel_84545/2223956829.py:23: RuntimeWarning: divide by zero encountered in scalar divide\n"
     ]
    }
   ],
   "source": [
    "_, Theta, Phi, Low_idx, High_idx, Diag, Permutation = U_decompose_plus(U_map, dec_list2)"
   ]
  },
  {
   "cell_type": "code",
   "execution_count": 53,
   "id": "6982b05e",
   "metadata": {
    "execution": {
     "iopub.execute_input": "2023-07-10T18:04:40.046819Z",
     "iopub.status.busy": "2023-07-10T18:04:40.046447Z",
     "iopub.status.idle": "2023-07-10T18:04:40.103698Z",
     "shell.execute_reply": "2023-07-10T18:04:40.103188Z"
    }
   },
   "outputs": [
    {
     "name": "stderr",
     "output_type": "stream",
     "text": [
      "/tmp/ipykernel_84545/2223956829.py:23: RuntimeWarning: divide by zero encountered in scalar divide\n",
      "/tmp/ipykernel_84545/2223956829.py:23: RuntimeWarning: invalid value encountered in scalar divide\n",
      "/tmp/ipykernel_84545/2223956829.py:26: RuntimeWarning: invalid value encountered in scalar divide\n",
      "/tmp/ipykernel_84545/370532848.py:25: RuntimeWarning: divide by zero encountered in scalar divide\n"
     ]
    }
   ],
   "source": [
    "_, Theta, Phi, Low_idx, High_idx, Diag, Permutation = U_decompose_plus(U2, dec_list2)"
   ]
  },
  {
   "cell_type": "code",
   "execution_count": 54,
   "id": "ecc01b72",
   "metadata": {
    "execution": {
     "iopub.execute_input": "2023-07-10T18:04:40.105700Z",
     "iopub.status.busy": "2023-07-10T18:04:40.105304Z",
     "iopub.status.idle": "2023-07-10T18:04:40.108058Z",
     "shell.execute_reply": "2023-07-10T18:04:40.107540Z"
    }
   },
   "outputs": [],
   "source": [
    "new_Theta = make_entries_zero(Theta, 0.078)"
   ]
  },
  {
   "cell_type": "code",
   "execution_count": 55,
   "id": "de9b4b64",
   "metadata": {
    "execution": {
     "iopub.execute_input": "2023-07-10T18:04:40.110176Z",
     "iopub.status.busy": "2023-07-10T18:04:40.109808Z",
     "iopub.status.idle": "2023-07-10T18:04:40.113249Z",
     "shell.execute_reply": "2023-07-10T18:04:40.112723Z"
    }
   },
   "outputs": [
    {
     "data": {
      "text/plain": [
       "217"
      ]
     },
     "execution_count": 55,
     "metadata": {},
     "output_type": "execute_result"
    }
   ],
   "source": [
    "np.count_nonzero(new_Theta)"
   ]
  },
  {
   "cell_type": "code",
   "execution_count": 56,
   "id": "63e4121e",
   "metadata": {
    "execution": {
     "iopub.execute_input": "2023-07-10T18:04:40.115190Z",
     "iopub.status.busy": "2023-07-10T18:04:40.114929Z",
     "iopub.status.idle": "2023-07-10T18:04:40.118217Z",
     "shell.execute_reply": "2023-07-10T18:04:40.117717Z"
    }
   },
   "outputs": [
    {
     "data": {
      "text/plain": [
       "0.7862318840579711"
      ]
     },
     "execution_count": 56,
     "metadata": {},
     "output_type": "execute_result"
    }
   ],
   "source": [
    "np.count_nonzero(new_Theta)/276"
   ]
  },
  {
   "cell_type": "code",
   "execution_count": 57,
   "id": "fab0a32b",
   "metadata": {
    "execution": {
     "iopub.execute_input": "2023-07-10T18:04:40.120237Z",
     "iopub.status.busy": "2023-07-10T18:04:40.119868Z",
     "iopub.status.idle": "2023-07-10T18:04:40.127691Z",
     "shell.execute_reply": "2023-07-10T18:04:40.127177Z"
    }
   },
   "outputs": [],
   "source": [
    "U_app = matrix_reconstruct(new_Theta, Phi, Low_idx, High_idx, Diag, Permutation, 24)"
   ]
  },
  {
   "cell_type": "code",
   "execution_count": 58,
   "id": "0146a925",
   "metadata": {
    "execution": {
     "iopub.execute_input": "2023-07-10T18:04:40.129752Z",
     "iopub.status.busy": "2023-07-10T18:04:40.129375Z",
     "iopub.status.idle": "2023-07-10T18:04:40.132886Z",
     "shell.execute_reply": "2023-07-10T18:04:40.132362Z"
    }
   },
   "outputs": [
    {
     "data": {
      "text/plain": [
       "(0.9983839388663507+4.740529989366103e-10j)"
      ]
     },
     "execution_count": 58,
     "metadata": {},
     "output_type": "execute_result"
    }
   ],
   "source": [
    "accuracy(U2,U_app)"
   ]
  },
  {
   "cell_type": "code",
   "execution_count": 59,
   "id": "20727514",
   "metadata": {
    "execution": {
     "iopub.execute_input": "2023-07-10T18:04:40.134871Z",
     "iopub.status.busy": "2023-07-10T18:04:40.134506Z",
     "iopub.status.idle": "2023-07-10T18:04:40.137986Z",
     "shell.execute_reply": "2023-07-10T18:04:40.137477Z"
    }
   },
   "outputs": [
    {
     "data": {
      "text/plain": [
       "(-0.007134566886512511+0.014070817241509357j)"
      ]
     },
     "execution_count": 59,
     "metadata": {},
     "output_type": "execute_result"
    }
   ],
   "source": [
    "accuracy(U_map,U_app)"
   ]
  },
  {
   "cell_type": "code",
   "execution_count": 60,
   "id": "b5ed51d8",
   "metadata": {
    "execution": {
     "iopub.execute_input": "2023-07-10T18:04:40.139862Z",
     "iopub.status.busy": "2023-07-10T18:04:40.139499Z",
     "iopub.status.idle": "2023-07-10T18:04:40.142085Z",
     "shell.execute_reply": "2023-07-10T18:04:40.141578Z"
    }
   },
   "outputs": [],
   "source": [
    "Theta_prob = calculate_probability_sequence(Theta, 0.27, 100)"
   ]
  },
  {
   "cell_type": "code",
   "execution_count": 61,
   "id": "713d53e2",
   "metadata": {
    "execution": {
     "iopub.execute_input": "2023-07-10T18:04:40.144098Z",
     "iopub.status.busy": "2023-07-10T18:04:40.143736Z",
     "iopub.status.idle": "2023-07-10T18:04:40.148179Z",
     "shell.execute_reply": "2023-07-10T18:04:40.147665Z"
    }
   },
   "outputs": [],
   "source": [
    "new_Theta = pick_entries_with_indices(Theta, Theta_prob, 0.602)"
   ]
  },
  {
   "cell_type": "code",
   "execution_count": 62,
   "id": "e6e57d26",
   "metadata": {
    "execution": {
     "iopub.execute_input": "2023-07-10T18:04:40.150133Z",
     "iopub.status.busy": "2023-07-10T18:04:40.149875Z",
     "iopub.status.idle": "2023-07-10T18:04:40.153180Z",
     "shell.execute_reply": "2023-07-10T18:04:40.152665Z"
    }
   },
   "outputs": [
    {
     "data": {
      "text/plain": [
       "0.6014492753623188"
      ]
     },
     "execution_count": 62,
     "metadata": {},
     "output_type": "execute_result"
    }
   ],
   "source": [
    "np.count_nonzero(new_Theta)/276"
   ]
  },
  {
   "cell_type": "code",
   "execution_count": 63,
   "id": "d93073d2",
   "metadata": {
    "execution": {
     "iopub.execute_input": "2023-07-10T18:04:40.155278Z",
     "iopub.status.busy": "2023-07-10T18:04:40.154916Z",
     "iopub.status.idle": "2023-07-10T18:04:46.921467Z",
     "shell.execute_reply": "2023-07-10T18:04:46.920914Z"
    }
   },
   "outputs": [
    {
     "name": "stdout",
     "output_type": "stream",
     "text": [
      "214\n"
     ]
    },
    {
     "data": {
      "text/plain": [
       "(-0.006380458348489018+0.013780653620945585j)"
      ]
     },
     "execution_count": 63,
     "metadata": {},
     "output_type": "execute_result"
    }
   ],
   "source": [
    "M = 1000\n",
    "Acc = []\n",
    "N = 70\n",
    "Theta_prob = calculate_probability_sequence(Theta, 0.078, N)\n",
    "for i in range(M):\n",
    "    new_Theta = pick_entries_with_indices(Theta, Theta_prob, 0.7754)\n",
    "    if i == 0:\n",
    "        print(np.count_nonzero(new_Theta))\n",
    "    U_app = matrix_reconstruct(new_Theta, Phi, Low_idx, High_idx, Diag, Permutation, 24)\n",
    "    acc = accuracy(U_map,U_app)\n",
    "    Acc.append(acc)\n",
    "    \n",
    "np.array(Acc).mean()"
   ]
  },
  {
   "cell_type": "code",
   "execution_count": null,
   "id": "031c3c0e",
   "metadata": {},
   "outputs": [],
   "source": []
  }
 ],
 "metadata": {
  "kernelspec": {
   "display_name": "Python 3 (ipykernel)",
   "language": "python",
   "name": "python3"
  },
  "language_info": {
   "codemirror_mode": {
    "name": "ipython",
    "version": 3
   },
   "file_extension": ".py",
   "mimetype": "text/x-python",
   "name": "python",
   "nbconvert_exporter": "python",
   "pygments_lexer": "ipython3",
   "version": "3.9.13"
  }
 },
 "nbformat": 4,
 "nbformat_minor": 5
}
