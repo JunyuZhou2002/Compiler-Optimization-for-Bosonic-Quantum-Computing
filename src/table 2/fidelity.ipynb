{
 "cells": [
  {
   "cell_type": "code",
   "execution_count": null,
   "id": "85fb3a3d",
   "metadata": {
    "execution": {
     "iopub.execute_input": "2023-08-01T16:39:28.154921Z",
     "iopub.status.busy": "2023-08-01T16:39:28.154598Z",
     "iopub.status.idle": "2023-08-01T16:39:29.121904Z",
     "shell.execute_reply": "2023-08-01T16:39:29.121342Z"
    }
   },
   "outputs": [],
   "source": [
    "import csv\n",
    "import ast\n",
    "import time\n",
    "import random\n",
    "import numpy as np\n",
    "import networkx as nx\n",
    "import strawberryfields as sf\n",
    "import matplotlib.pyplot as plt\n",
    "from scipy.optimize import fsolve\n",
    "from strawberryfields import ops\n",
    "from itertools import combinations\n",
    "from strawberryfields.apps import data, sample, subgraph, plot, qchem\n",
    "from strawberryfields.apps.similarity import feature_vector_orbits_sampling\n",
    "from strawberryfields.utils import random_interferometer\n",
    "from collections import Counter\n",
    "csv.field_size_limit(500 * 1024 * 1024)"
   ]
  },
  {
   "cell_type": "markdown",
   "id": "2ba78470",
   "metadata": {},
   "source": [
    "Step1: Mapping"
   ]
  },
  {
   "cell_type": "code",
   "execution_count": null,
   "id": "61e53b11",
   "metadata": {
    "execution": {
     "iopub.execute_input": "2023-08-01T16:39:29.124716Z",
     "iopub.status.busy": "2023-08-01T16:39:29.124321Z",
     "iopub.status.idle": "2023-08-01T16:39:29.128438Z",
     "shell.execute_reply": "2023-08-01T16:39:29.127986Z"
    }
   },
   "outputs": [],
   "source": [
    "# function that take a raw matrix and k (number of columns) and n (the nth number you want to compare) value in, return the best k columns\n",
    "def find_best_k_combination(matrix, k, n):\n",
    "    # get all possible combination\n",
    "    num_columns = matrix.shape[1]\n",
    "    column_combinations = combinations(range(num_columns), k)\n",
    "        \n",
    "#     column_combinations = get_column_combinations(matrix, k)\n",
    "    \n",
    "    strength = []\n",
    "    Combination = []\n",
    "\n",
    "    for combination in column_combinations:\n",
    "        Combination.append(combination)\n",
    "        selected_columns = matrix[:, combination]\n",
    "        # calculate the row abs square sum\n",
    "        row_sums = np.sum(np.abs(selected_columns) ** 2, axis=1)\n",
    "        # make it decrease\n",
    "        sorted_indices = np.argsort(row_sums)[::-1]\n",
    "        sorted_row_sums = row_sums[sorted_indices]\n",
    "        val = sorted_row_sums[n-1]\n",
    "        strength.append(val)\n",
    "\n",
    "    largest_value = np.max(strength)\n",
    "    largest_index = np.argmax(strength)\n",
    "\n",
    "    # find the best combination\n",
    "    best_combination = Combination[largest_index]\n",
    "    best_selected_columns = matrix[:, best_combination]\n",
    "\n",
    "    return best_selected_columns"
   ]
  },
  {
   "cell_type": "code",
   "execution_count": null,
   "id": "eacea0bc",
   "metadata": {
    "execution": {
     "iopub.execute_input": "2023-08-01T16:39:29.130388Z",
     "iopub.status.busy": "2023-08-01T16:39:29.130046Z",
     "iopub.status.idle": "2023-08-01T16:39:29.138143Z",
     "shell.execute_reply": "2023-08-01T16:39:29.137669Z"
    }
   },
   "outputs": [],
   "source": [
    "# final function, recieve the original matrix and a list of len, also n (the nth number you want to compare), return the permuted matrix\n",
    "# U = row_per_matrix*U'*col_per_matrix\n",
    "def mapping(U, len_list, n):\n",
    "    \n",
    "    M, N = U.shape\n",
    "    total_len = sum(len_list)\n",
    "    assert N == total_len\n",
    "    \n",
    "    # copy U\n",
    "    U_t = U.copy()\n",
    "#     print(U)\n",
    "    \n",
    "    # new column permutation\n",
    "    for i, length in enumerate(len_list):\n",
    "        if i<len(len_list)-1:\n",
    "            U_new = U_t[:,:length].copy()\n",
    "#             print(\"i:\", i)\n",
    "            # calculate the row abs square sum\n",
    "            row_sums = np.sum(np.abs(U_new) ** 2, axis=1)\n",
    "            U_new_update = U_new.copy()\n",
    "            # iterate remain column\n",
    "            for j in range(np.sum(len_list[i+1:])):\n",
    "#                 print(\"j:\", j)\n",
    "                for k in range(length):\n",
    "#                     print(\"k:\", k)\n",
    "                    U_new_update_k = U_new_update[:,k].copy()\n",
    "                    U_new_update[:,k] = U_t[:,length+j].copy()\n",
    "                    # calculate the row abs square sum\n",
    "                    row_sums_update = np.sum(np.abs(U_new_update) ** 2, axis=1)\n",
    "                \n",
    "                    if np.sort(row_sums_update)[::-1][n-1] > np.sort(row_sums)[::-1][n-1]:\n",
    "#                     row_sums_update[n-1] > row_sums[n-1]:\n",
    "                        U_new = U_new_update.copy()\n",
    "                        U_t[:,length+j] = U_new_update_k.copy()\n",
    "                        U_t[:,:length] = U_new.copy()\n",
    "                        row_sums = row_sums_update\n",
    "                    else:\n",
    "                        U_new_update = U_new.copy()\n",
    "\n",
    "            \n",
    "            # add U_new to U_per\n",
    "            if i==0:\n",
    "                U_per = U_new.copy()\n",
    "            elif i==len(len_list)-2:\n",
    "                U_per = np.hstack((U_per, U_t)).copy()\n",
    "            else:\n",
    "                U_per = np.hstack((U_per, U_new)).copy()\n",
    "\n",
    "            \n",
    "            # drop U_new from U_t\n",
    "            U_t = U_t[:,length:].copy()\n",
    "        \n",
    "                    \n",
    "\n",
    "#     for i, length in enumerate(len_list):\n",
    "#         U_new = find_best_k_combination(U_t, length, n)\n",
    "        \n",
    "#         # Find column indices in the larger matrix corresponding to the smaller matrix\n",
    "#         selected_columns = []\n",
    "#         for col in range(U_new.shape[1]):\n",
    "#             for j in range(U_t.shape[1]):\n",
    "#                 if np.array_equal(U_new[:, col], U_t[:, j]):\n",
    "#                     selected_columns.append(j)\n",
    "#                     break\n",
    "\n",
    "#         # drop U_new from U_t\n",
    "#         U_t = np.delete(U_t, selected_columns, axis=1)\n",
    "        \n",
    "#         # add U_new to U_per\n",
    "#         if i==0:\n",
    "#             U_per = U_new\n",
    "#         else:\n",
    "#             U_per = np.hstack((U_per, U_new))\n",
    "      \n",
    "      \n",
    "    # find the permutation from U_per to U\n",
    "    col_permutation = []\n",
    "    for col in range(U_per.shape[1]):\n",
    "        for i in range(U.shape[1]):\n",
    "            if np.array_equal(U_per[:, col], U[:, i]):\n",
    "                col_permutation.append(i)\n",
    "                break\n",
    "                \n",
    "    # find the columns permutation matrix\n",
    "    col_per_matrix = np.zeros((N, N))\n",
    "    for i in range(N):\n",
    "        col_per_matrix[col_permutation[i], i] = 1\n",
    "        \n",
    "\n",
    "\n",
    "    # calculate the sum of first len for U_per\n",
    "    selected_columns = U_per[:, :len_list[0]] \n",
    "    # calculate the row abs square sum\n",
    "    row_sums = np.sum(np.abs(selected_columns) ** 2, axis=1)\n",
    "    \n",
    "    # decide the row rotation\n",
    "    sorted_indices = np.argsort(row_sums)\n",
    "    U_per_new = U_per[sorted_indices]\n",
    "    \n",
    "    # Find row permutation\n",
    "    row_permutation = []\n",
    "    for row in range(U_per_new.shape[0]):\n",
    "        for i in range(U_per.shape[0]):\n",
    "            if np.array_equal(U_per_new[row, :], U_per[i, :]):\n",
    "                row_permutation.append(i)\n",
    "                break\n",
    "                \n",
    "    # find the rows permutation matrix\n",
    "    row_per_matrix = np.zeros((M, M))\n",
    "    for i in range(M):\n",
    "        row_per_matrix[i, row_permutation[i]] = 1\n",
    "        \n",
    "    \n",
    "    U_final = U_per_new\n",
    "    \n",
    "    # U_final = U_per, out put U_final and the permutation\n",
    "    return U_final, col_per_matrix.T, row_per_matrix.T"
   ]
  },
  {
   "cell_type": "markdown",
   "id": "548f1c1d",
   "metadata": {},
   "source": [
    "Step2: Matrix Decomposition"
   ]
  },
  {
   "cell_type": "code",
   "execution_count": null,
   "id": "a82af31b",
   "metadata": {
    "execution": {
     "iopub.execute_input": "2023-08-01T16:39:29.140231Z",
     "iopub.status.busy": "2023-08-01T16:39:29.139870Z",
     "iopub.status.idle": "2023-08-01T16:39:29.145012Z",
     "shell.execute_reply": "2023-08-01T16:39:29.144580Z"
    }
   },
   "outputs": [],
   "source": [
    "# Define the left eliminate equations\n",
    "def left_equations(variables,parameters):\n",
    "    theta, phi = variables\n",
    "    a_r, a_i, b_r, b_i = parameters\n",
    "    eq1 = a_r * np.cos(phi) * np.cos(theta) + a_i * np.sin(phi) * np.cos(theta) - b_r * np.sin(theta)\n",
    "    eq2 = a_i * np.cos(phi) * np.cos(theta) - a_r * np.sin(phi) * np.cos(theta) - b_i * np.sin(theta)\n",
    "    return [eq1, eq2]\n",
    "\n",
    "# function of left elimination\n",
    "def left_elimination(a,b):\n",
    "    a_r = np.real(a)\n",
    "    a_i = np.imag(a)\n",
    "    b_r = np.real(b)\n",
    "    b_i = np.imag(b)\n",
    "    \n",
    "    # Solve the system of equations\n",
    "    initial_guess = [0, 0]  # Initial guess for the variables\n",
    "    parameters = [a_r, a_i, b_r, b_i]\n",
    "    raw_solution = fsolve(left_equations, initial_guess, args=(parameters,))\n",
    "    \n",
    "    \n",
    "    if np.abs(a_r) < 1e-8 and np.abs(b_i) < 1e-8:\n",
    "            raw_solution = [np.arctan(a_i/b_r), np.pi/2]\n",
    "        \n",
    "    if np.abs(a_i) < 1e-8 and np.abs(b_r) < 1e-8:\n",
    "            raw_solution = [np.arctan(-a_r/b_i), np.pi/2]\n",
    "            \n",
    "            \n",
    "    if np.abs(b_r) < 1e-8 and np.abs(b_i) < 1e-8:\n",
    "            raw_solution = [np.pi/2, 0]\n",
    "    \n",
    "    \n",
    "    normalized_solution = [angle % (2 * np.pi) for angle in raw_solution]\n",
    "    solution = []\n",
    "    for angle in normalized_solution:\n",
    "        if angle < np.pi:\n",
    "            solution.append(angle)\n",
    "        else:\n",
    "            solution.append(angle-2*np.pi)\n",
    "\n",
    "    # Print the solution\n",
    "#     print(\"Solution:\", solution)\n",
    "    return solution"
   ]
  },
  {
   "cell_type": "code",
   "execution_count": null,
   "id": "5493f4e2",
   "metadata": {
    "execution": {
     "iopub.execute_input": "2023-08-01T16:39:29.146989Z",
     "iopub.status.busy": "2023-08-01T16:39:29.146654Z",
     "iopub.status.idle": "2023-08-01T16:39:29.151807Z",
     "shell.execute_reply": "2023-08-01T16:39:29.151344Z"
    }
   },
   "outputs": [],
   "source": [
    "# Define the right eliminate equations\n",
    "def right_equations(variables,parameters):\n",
    "    theta, phi = variables\n",
    "    a_r, a_i, b_r, b_i = parameters\n",
    "    eq1 = a_r * np.cos(phi) * np.sin(theta) + a_i * np.sin(phi) * np.sin(theta) + b_r * np.cos(theta)\n",
    "    eq2 = a_i * np.cos(phi) * np.sin(theta) - a_r * np.sin(phi) * np.sin(theta) + b_i * np.cos(theta)\n",
    "    return [eq1, eq2]\n",
    "\n",
    "# function of right elimination\n",
    "def right_elimination(a,b):\n",
    "    a_r = np.real(a)\n",
    "    a_i = np.imag(a)\n",
    "    b_r = np.real(b)\n",
    "    b_i = np.imag(b)\n",
    "    \n",
    "    # Solve the system of equations\n",
    "    initial_guess = [0, 0]  # Initial guess for the variables\n",
    "    parameters = [a_r, a_i, b_r, b_i]\n",
    "    raw_solution = fsolve(right_equations, initial_guess, args=(parameters,))\n",
    "    \n",
    "    if np.abs(a_r) < 1e-8 and np.abs(b_i) < 1e-8:\n",
    "        raw_solution = [np.arctan(-b_r/a_i), np.pi/2]\n",
    "        \n",
    "    if np.abs(a_i) < 1e-8 and np.abs(b_r) < 1e-8:\n",
    "        raw_solution = [np.arctan(b_i/a_r), np.pi/2]\n",
    "        \n",
    "    if np.abs(a_r) < 1e-8 and np.abs(a_i) < 1e-8:\n",
    "        raw_solution = [np.pi/2, 0]\n",
    "    \n",
    "    normalized_solution = [angle % (2 * np.pi) for angle in raw_solution]\n",
    "    solution = []\n",
    "    for angle in normalized_solution:\n",
    "        if angle < np.pi:\n",
    "            solution.append(angle)\n",
    "        else:\n",
    "            solution.append(angle-2*np.pi)\n",
    "\n",
    "    # Print the solution\n",
    "#     print(\"Solution:\", solution)\n",
    "    return solution"
   ]
  },
  {
   "cell_type": "code",
   "execution_count": null,
   "id": "68c8290b",
   "metadata": {
    "execution": {
     "iopub.execute_input": "2023-08-01T16:39:29.153614Z",
     "iopub.status.busy": "2023-08-01T16:39:29.153317Z",
     "iopub.status.idle": "2023-08-01T16:39:29.156440Z",
     "shell.execute_reply": "2023-08-01T16:39:29.155967Z"
    }
   },
   "outputs": [],
   "source": [
    "# give rotation matrix with idx_1 < idx_2\n",
    "def rotation(theta, phi, n, idx_1, idx_2):\n",
    "    I = np.eye(n, dtype=complex)\n",
    "    I[idx_1,idx_1] = np.cos(theta)*(np.cos(phi)-np.sin(phi)*1j)\n",
    "    I[idx_1,idx_2] = np.sin(theta)*(np.cos(phi)-np.sin(phi)*1j)\n",
    "    I[idx_2,idx_1] = -np.sin(theta)\n",
    "    I[idx_2,idx_2] = np.cos(theta)\n",
    "    \n",
    "    return I"
   ]
  },
  {
   "cell_type": "code",
   "execution_count": null,
   "id": "d024604b",
   "metadata": {
    "execution": {
     "iopub.execute_input": "2023-08-01T16:39:29.158343Z",
     "iopub.status.busy": "2023-08-01T16:39:29.158016Z",
     "iopub.status.idle": "2023-08-01T16:39:29.161284Z",
     "shell.execute_reply": "2023-08-01T16:39:29.160874Z"
    }
   },
   "outputs": [],
   "source": [
    "# matrix permutation\n",
    "def permutation(U):\n",
    "    \n",
    "    rows, columns = U.shape\n",
    "    assert(rows==columns)\n",
    "    \n",
    "    # create the permutation matrix\n",
    "    Permutation = np.zeros([rows,columns])\n",
    "    \n",
    "    diag_U = np.eye(rows, dtype=complex)\n",
    "    \n",
    "    indices = np.nonzero(U)\n",
    "    row_info = indices[0]\n",
    "    col_info = indices[1]\n",
    "    \n",
    "    for i in range(rows):\n",
    "        col = col_info[i]\n",
    "        row = row_info[i]\n",
    "        diag_U[col,:] = U[row,:]\n",
    "        Permutation[col,row] = 1\n",
    "        \n",
    "    return diag_U, Permutation.T"
   ]
  },
  {
   "cell_type": "code",
   "execution_count": null,
   "id": "d0854916",
   "metadata": {
    "execution": {
     "iopub.execute_input": "2023-08-01T16:39:29.163181Z",
     "iopub.status.busy": "2023-08-01T16:39:29.162865Z",
     "iopub.status.idle": "2023-08-01T16:39:29.165788Z",
     "shell.execute_reply": "2023-08-01T16:39:29.165381Z"
    }
   },
   "outputs": [],
   "source": [
    "def phase(x):\n",
    "    x_r = np.real(x)\n",
    "    x_i = np.imag(x)\n",
    "    \n",
    "    raw_phi = np.arccos(x_r)\n",
    "    if x_i > 0:\n",
    "        t_phi = raw_phi\n",
    "    else:\n",
    "        t_phi = -raw_phi\n",
    "        \n",
    "    normalized_solution = t_phi % (2 * np.pi)\n",
    "    if normalized_solution > np.pi:\n",
    "        normalized_solution = normalized_solution-2*np.pi\n",
    "\n",
    "    return normalized_solution"
   ]
  },
  {
   "cell_type": "code",
   "execution_count": null,
   "id": "cff424f7",
   "metadata": {
    "execution": {
     "iopub.execute_input": "2023-08-01T16:39:29.167708Z",
     "iopub.status.busy": "2023-08-01T16:39:29.167391Z",
     "iopub.status.idle": "2023-08-01T16:39:29.173956Z",
     "shell.execute_reply": "2023-08-01T16:39:29.173490Z"
    }
   },
   "outputs": [],
   "source": [
    "# the all_list tell the decomposition order\n",
    "# [[1,2], [2,3], [3,4]] means first use 2 eliminate 1, then use 3 eliminate 2, then use 4 eliminate 3\n",
    "def U_decompose_plus(U, all_list):\n",
    "    \n",
    "    # pick up a machine precision\n",
    "    threshold = 1e-8\n",
    "    \n",
    "    # get the shape of unitary\n",
    "    rows, columns = U.shape\n",
    "    assert(rows==columns)\n",
    "    \n",
    "    # create the rotation record matrix, the first row for theta, the second row for phi \n",
    "    # third row for low index, forth row for high index\n",
    "    Theta = []\n",
    "    Phi = []\n",
    "    Low_idx = []\n",
    "    High_idx = []\n",
    "    \n",
    "    # create the diagonal record matrix\n",
    "    Diag = []\n",
    "    \n",
    "\n",
    "    for i in range(rows-1, 0, -1):\n",
    "        list_i = all_list[i-1]\n",
    "        row = U[i, :]\n",
    "        \n",
    "        for j in range(i):\n",
    "            pair = list_i[j]\n",
    "            \n",
    "            \n",
    "            # a is the number to be eliminated, b is the number to eliminate the previous one\n",
    "            a = row[pair[0]]\n",
    "            b = row[pair[1]]\n",
    "            \n",
    "            \n",
    "#             if i % 3 != 0:\n",
    "#                 if j == i-1:\n",
    "#                     a = row[pair[1]]\n",
    "#                     b = row[pair[0]]\n",
    "                \n",
    "                \n",
    "            # choose the elimination method by position\n",
    "            if pair[0] < pair[1]: \n",
    "                theta, phi = left_elimination(a,b)\n",
    "\n",
    "                # write down the parameter\n",
    "                Theta.append(theta)\n",
    "                Phi.append(phi)\n",
    "                Low_idx.append(pair[0])\n",
    "                High_idx.append(pair[1])\n",
    "\n",
    "                # create the rotation\n",
    "                r = rotation(theta, phi, rows, pair[0], pair[1])\n",
    "        \n",
    "\n",
    "                # update Unitary\n",
    "                U = np.dot(U, r)\n",
    "                U= np.where(np.abs(U) < threshold, 0, U)\n",
    "\n",
    "            else:\n",
    "                theta, phi = right_elimination(b,a)\n",
    "\n",
    "                # write down the parameter\n",
    "                Theta.append(theta)\n",
    "                Phi.append(phi)\n",
    "                Low_idx.append(pair[1])\n",
    "                High_idx.append(pair[0])\n",
    "\n",
    "                # create the rotation\n",
    "                r = rotation(theta, phi, rows, pair[1], pair[0])\n",
    "\n",
    "                # update Unitary\n",
    "                U = np.dot(U, r)\n",
    "                U= np.where(np.abs(U) < threshold, 0, U)\n",
    "\n",
    "            row = U[i, :]\n",
    "            \n",
    "#             if (np.count_nonzero(row) == 1):\n",
    "            if j == i-1:\n",
    "                entry = U[i, pair[1]]\n",
    "                U[:, pair[1]] = 0\n",
    "                U[i, :] = 0\n",
    "                U[i, pair[1]] = entry\n",
    "                flag = 0\n",
    "    \n",
    "    # do the permutation, and record\n",
    "    U, Permutation = permutation(U)\n",
    "    \n",
    "    # find the phase shift\n",
    "    for i in range(rows):\n",
    "        x = U[i,i]/np.abs(U[i,i])\n",
    "        phi_x = phase(x)\n",
    "        Diag.append(phi_x)\n",
    "        U[i,i] = U[i,i]*(np.cos(phi_x)-np.sin(phi_x)*1j)\n",
    "    \n",
    "    \n",
    "    return U, Theta, Phi, Low_idx, High_idx, Diag, Permutation"
   ]
  },
  {
   "cell_type": "markdown",
   "id": "2c797e2d",
   "metadata": {},
   "source": [
    "Step3: Gate drop"
   ]
  },
  {
   "cell_type": "code",
   "execution_count": null,
   "id": "87465142",
   "metadata": {
    "execution": {
     "iopub.execute_input": "2023-08-01T16:39:29.175956Z",
     "iopub.status.busy": "2023-08-01T16:39:29.175612Z",
     "iopub.status.idle": "2023-08-01T16:39:29.178223Z",
     "shell.execute_reply": "2023-08-01T16:39:29.177817Z"
    }
   },
   "outputs": [],
   "source": [
    "# Step1 probability\n",
    "def calculate_probability_sequence(angles, threshold, N):\n",
    "    abs_angles = np.abs(angles)\n",
    "    angles1 = abs_angles/(threshold)\n",
    "    angles2 = angles1**N\n",
    "    total_magnitude = np.sum(angles2)\n",
    "    probabilities = angles2 / total_magnitude\n",
    "    return probabilities"
   ]
  },
  {
   "cell_type": "code",
   "execution_count": null,
   "id": "867c0332",
   "metadata": {
    "execution": {
     "iopub.execute_input": "2023-08-01T16:39:29.180134Z",
     "iopub.status.busy": "2023-08-01T16:39:29.179793Z",
     "iopub.status.idle": "2023-08-01T16:39:29.183333Z",
     "shell.execute_reply": "2023-08-01T16:39:29.182924Z"
    }
   },
   "outputs": [],
   "source": [
    "# sequence is the origianl angel sequence, probability is calculate using calculate_probability_sequence(angles), percentage is the proportion you want to preserve\n",
    "def pick_entries_with_indices(sequence, probabilities, proportion):\n",
    "    \n",
    "    N = len(sequence)\n",
    "    num_entries = np.floor(N*proportion).astype(int)\n",
    "    \n",
    "    idx_sequence = np.arange(N).astype(int)\n",
    "    \n",
    "    if np.count_nonzero(probabilities) < num_entries:\n",
    "        num_entries = np.count_nonzero(probabilities)\n",
    "    \n",
    "    picked_indices = np.random.choice(idx_sequence, size=num_entries, replace=False, p=probabilities)\n",
    "    picked_entries = [sequence[index] for index in picked_indices]\n",
    "\n",
    "    # Sort the picked entries and indices based on the indices\n",
    "    picked_entries, picked_indices = zip(*sorted(zip(picked_entries, picked_indices), key=lambda x: x[1]))\n",
    "    \n",
    "    modified_sequence = [entry if index in picked_indices else 0 for index, entry in enumerate(sequence)]\n",
    "\n",
    "    return modified_sequence"
   ]
  },
  {
   "cell_type": "markdown",
   "id": "22b271e9",
   "metadata": {},
   "source": [
    "Step4: Matric Reconstruction"
   ]
  },
  {
   "cell_type": "code",
   "execution_count": null,
   "id": "b30f9083",
   "metadata": {
    "execution": {
     "iopub.execute_input": "2023-08-01T16:39:29.185400Z",
     "iopub.status.busy": "2023-08-01T16:39:29.185058Z",
     "iopub.status.idle": "2023-08-01T16:39:29.187701Z",
     "shell.execute_reply": "2023-08-01T16:39:29.187309Z"
    }
   },
   "outputs": [],
   "source": [
    "def make_entries_zero(Array, threshold):\n",
    "    array = Array.copy()\n",
    "    for i in range(len(array)):\n",
    "        if np.abs(array[i]) < threshold:\n",
    "            array[i] = 0\n",
    "    return array"
   ]
  },
  {
   "cell_type": "code",
   "execution_count": null,
   "id": "6029d275",
   "metadata": {
    "execution": {
     "iopub.execute_input": "2023-08-01T16:39:29.189562Z",
     "iopub.status.busy": "2023-08-01T16:39:29.189221Z",
     "iopub.status.idle": "2023-08-01T16:39:29.192225Z",
     "shell.execute_reply": "2023-08-01T16:39:29.191801Z"
    }
   },
   "outputs": [],
   "source": [
    "# give rotation matrix with idx_1 < idx_2\n",
    "def reconstruct_rotation(theta, phi, n, idx_1, idx_2):\n",
    "    I = np.eye(n, dtype=complex)\n",
    "    I[idx_1,idx_1] = np.cos(theta)*(np.cos(phi)+np.sin(phi)*1j)\n",
    "    I[idx_1,idx_2] = -np.sin(theta)\n",
    "    I[idx_2,idx_1] = np.sin(theta)*(np.cos(phi)+np.sin(phi)*1j)\n",
    "    I[idx_2,idx_2] = np.cos(theta)\n",
    "    \n",
    "    return I"
   ]
  },
  {
   "cell_type": "code",
   "execution_count": null,
   "id": "f95103d3",
   "metadata": {
    "execution": {
     "iopub.execute_input": "2023-08-01T16:39:29.194153Z",
     "iopub.status.busy": "2023-08-01T16:39:29.193839Z",
     "iopub.status.idle": "2023-08-01T16:39:29.197777Z",
     "shell.execute_reply": "2023-08-01T16:39:29.197320Z"
    }
   },
   "outputs": [],
   "source": [
    "def matrix_reconstruct(Theta, Phi, Low_idx, High_idx, Diag, Permutation, N):\n",
    "    \n",
    "    M = len(Theta)\n",
    "    \n",
    "    per_theta = (len([x for x in Theta if np.abs(x) == 0]) / len(Theta)) * 100\n",
    "#     print(\"theta reduce\")\n",
    "#     print(per_theta)\n",
    "    \n",
    "    per_phi = (len([x for x in Phi if np.abs(x) == 0]) / len(Phi)) * 100\n",
    "#     print(\"phi reduce\")\n",
    "#     print(per_phi)\n",
    "\n",
    "#     new_theta = Theta\n",
    "#     new_phi = Phi\n",
    "    \n",
    "    V = np.eye(N, dtype=complex)\n",
    "    \n",
    "    # rotation\n",
    "    for i in range(M):\n",
    "        r = reconstruct_rotation(Theta[i], Phi[i], N, Low_idx[i], High_idx[i])\n",
    "        V = np.dot(r, V)\n",
    "        \n",
    "    # phase shift\n",
    "    for i in range(N):\n",
    "        V[i,:] = V[i,:]*(np.cos(Diag[i])+np.sin(Diag[i])*1j)\n",
    "        \n",
    "    # permutation\n",
    "    V = np.dot(Permutation, V)\n",
    "    \n",
    "    return V"
   ]
  },
  {
   "cell_type": "code",
   "execution_count": null,
   "id": "08e40086",
   "metadata": {},
   "outputs": [],
   "source": []
  },
  {
   "cell_type": "markdown",
   "id": "9062bfeb",
   "metadata": {},
   "source": [
    "Accuracy"
   ]
  },
  {
   "cell_type": "code",
   "execution_count": null,
   "id": "23772846",
   "metadata": {
    "execution": {
     "iopub.execute_input": "2023-08-01T16:39:29.199525Z",
     "iopub.status.busy": "2023-08-01T16:39:29.199255Z",
     "iopub.status.idle": "2023-08-01T16:39:29.201887Z",
     "shell.execute_reply": "2023-08-01T16:39:29.201463Z"
    }
   },
   "outputs": [],
   "source": [
    "# function to calculate the approximation accuracy\n",
    "def accuracy(U,U_app):\n",
    "    I = np.dot(U,np.conjugate(U_app).transpose())\n",
    "    N, N = I.shape\n",
    "    acc = np.trace(I)/N\n",
    "    return acc"
   ]
  },
  {
   "cell_type": "code",
   "execution_count": null,
   "id": "140a48af",
   "metadata": {
    "execution": {
     "iopub.execute_input": "2023-08-01T16:39:29.203633Z",
     "iopub.status.busy": "2023-08-01T16:39:29.203287Z",
     "iopub.status.idle": "2023-08-01T16:39:29.207095Z",
     "shell.execute_reply": "2023-08-01T16:39:29.206634Z"
    }
   },
   "outputs": [],
   "source": [
    "def unitary_accuracy(M, U1, dec_list, maps, len_list, n, proportion1, th, N):\n",
    "    \n",
    "    N, N = U1.shape\n",
    "    \n",
    "    # mapping\n",
    "    if maps:\n",
    "        U1_map, col_per_matrix, row_per_matrix = mapping(U1, len_list, n)\n",
    "    else:\n",
    "        U1_map = U1\n",
    "        \n",
    "    # get the decomposition information of U1\n",
    "    _, Theta1, Phi1, Low_idx1, High_idx1, Diag1, Permutation1 = U_decompose_plus(U1_map, dec_list)\n",
    "    \n",
    "    # modify Theta\n",
    "    Theta_prob1 = calculate_probability_sequence(Theta1, th, N)\n",
    "    \n",
    "    k = 0\n",
    "    acc1 = []\n",
    "    while k < M:\n",
    "\n",
    "        # get the new Theta from the probability distribution\n",
    "        new_Theta1 = pick_entries_with_indices(Theta1, Theta_prob1, proportion1)\n",
    "        new_Phi1 = Phi1\n",
    "        \n",
    "        # reconstruction of U2 using new angel\n",
    "        U1_map_app = matrix_reconstruct(new_Theta1, new_Phi1, Low_idx1, High_idx1, Diag1, Permutation1, N)\n",
    "        # approximation accuracy\n",
    "        acc1_t = accuracy(U1_map,U1_map_app)\n",
    "        acc1.append(acc1_t)\n",
    "        \n",
    "        k = k+1\n",
    "        \n",
    "    acc1_mean = np.mean(acc1)\n",
    "#     print(\"mean accuracy for U1:\", acc1_mean)    \n",
    "    return acc1_mean"
   ]
  },
  {
   "cell_type": "markdown",
   "id": "b5d5de89",
   "metadata": {},
   "source": [
    "Reduce counting"
   ]
  },
  {
   "cell_type": "code",
   "execution_count": null,
   "id": "bf9b6b62",
   "metadata": {
    "execution": {
     "iopub.execute_input": "2023-08-01T16:39:29.209064Z",
     "iopub.status.busy": "2023-08-01T16:39:29.208736Z",
     "iopub.status.idle": "2023-08-01T16:39:29.211196Z",
     "shell.execute_reply": "2023-08-01T16:39:29.210799Z"
    }
   },
   "outputs": [],
   "source": [
    "def count_numbers_less_than(numbers, threshold):\n",
    "    count = 0\n",
    "    for number in numbers:\n",
    "        if np.abs(number) < threshold:\n",
    "            count += 1\n",
    "    return count"
   ]
  },
  {
   "cell_type": "markdown",
   "id": "93726d0c",
   "metadata": {},
   "source": [
    "Convert sample to nodes"
   ]
  },
  {
   "cell_type": "code",
   "execution_count": null,
   "id": "c1eb16db",
   "metadata": {
    "execution": {
     "iopub.execute_input": "2023-08-01T16:39:29.213127Z",
     "iopub.status.busy": "2023-08-01T16:39:29.212803Z",
     "iopub.status.idle": "2023-08-01T16:39:29.215360Z",
     "shell.execute_reply": "2023-08-01T16:39:29.214952Z"
    }
   },
   "outputs": [],
   "source": [
    "# convert sample to nodes\n",
    "def convert_binary_to_nodes(binary_array):\n",
    "    nodes_array = []\n",
    "\n",
    "    for i in range(len(binary_array)):\n",
    "        if binary_array[i] == 1:\n",
    "            nodes_array.append(i)\n",
    "\n",
    "    return nodes_array"
   ]
  },
  {
   "cell_type": "code",
   "execution_count": null,
   "id": "6e004834",
   "metadata": {},
   "outputs": [],
   "source": []
  },
  {
   "cell_type": "code",
   "execution_count": null,
   "id": "cc78c4d1",
   "metadata": {},
   "outputs": [],
   "source": []
  },
  {
   "cell_type": "code",
   "execution_count": null,
   "id": "586b01ea",
   "metadata": {},
   "outputs": [],
   "source": []
  },
  {
   "cell_type": "markdown",
   "id": "bed94841",
   "metadata": {},
   "source": [
    "dec_list1: 1D"
   ]
  },
  {
   "cell_type": "code",
   "execution_count": null,
   "id": "d639998d",
   "metadata": {
    "execution": {
     "iopub.execute_input": "2023-08-01T16:39:29.446714Z",
     "iopub.status.busy": "2023-08-01T16:39:29.446402Z",
     "iopub.status.idle": "2023-08-01T16:39:29.449900Z",
     "shell.execute_reply": "2023-08-01T16:39:29.449507Z"
    }
   },
   "outputs": [],
   "source": [
    "list_order = [[0,1], [1,2], [2,3], [3,4], [4,5], [5,6], [6,7], [7,8], [8,9], [9,10], [10,11], [11,12], [12,13], [13,14], [14,15], [15,16], [16,17], [17,18], [18,19], [19,20], [20,21], [21,22], [22,23]]\n",
    "dec_list1 = [list_order, list_order, list_order, list_order, list_order, list_order, list_order, list_order, list_order, list_order, list_order, list_order, list_order, list_order, list_order, list_order, list_order, list_order, list_order, list_order, list_order, list_order, list_order]"
   ]
  },
  {
   "cell_type": "markdown",
   "id": "603a06b1",
   "metadata": {},
   "source": [
    "len_list1: 1D"
   ]
  },
  {
   "cell_type": "code",
   "execution_count": null,
   "id": "6882725d",
   "metadata": {
    "execution": {
     "iopub.execute_input": "2023-08-01T16:39:29.451784Z",
     "iopub.status.busy": "2023-08-01T16:39:29.451513Z",
     "iopub.status.idle": "2023-08-01T16:39:29.453708Z",
     "shell.execute_reply": "2023-08-01T16:39:29.453304Z"
    }
   },
   "outputs": [],
   "source": [
    "len_list1 = [24]"
   ]
  },
  {
   "cell_type": "markdown",
   "id": "fcee5562",
   "metadata": {},
   "source": [
    "dec_list2: 2D"
   ]
  },
  {
   "cell_type": "code",
   "execution_count": null,
   "id": "d23b1416",
   "metadata": {
    "execution": {
     "iopub.execute_input": "2023-08-01T16:39:29.455523Z",
     "iopub.status.busy": "2023-08-01T16:39:29.455199Z",
     "iopub.status.idle": "2023-08-01T16:39:29.468209Z",
     "shell.execute_reply": "2023-08-01T16:39:29.467671Z"
    }
   },
   "outputs": [],
   "source": [
    "list_order23 = [[0,1], [9,1], [10,1], [1,2], [11,2], [2,3], [12,3], [3,4], [15,14], [14,4], [13,4], [4,5], [16,5], [17,5], [5,6], [18,6], [19,6], [6,7], [20,7], [21,7], [7,8], [22,8], [8,23]]\n",
    "list_order22 = [[0,1], [9,1], [10,1], [1,2], [11,2], [2,3], [12,3], [3,4], [15,14], [14,4], [13,4], [4,5], [16,5], [17,5], [5,6], [18,6], [19,6], [6,7], [20,7], [21,7], [7,8], [8,22]]\n",
    "list_order21 = [[0,1], [9,1], [10,1], [1,2], [11,2], [2,3], [12,3], [3,4], [15,14], [14,4], [13,4], [4,5], [16,5], [17,5], [5,6], [18,6], [19,6], [6,7], [20,7], [21,7], [7,8]]\n",
    "list_order20 = [[0,1], [9,1], [10,1], [1,2], [11,2], [2,3], [12,3], [3,4], [15,14], [14,4], [13,4], [4,5], [16,5], [17,5], [5,6], [18,6], [19,6], [6,7], [20,7], [7,21]]\n",
    "list_order19 = [[0,1], [9,1], [10,1], [1,2], [11,2], [2,3], [12,3], [3,4], [15,14], [14,4], [13,4], [4,5], [16,5], [17,5], [5,6], [18,6], [19,6], [6,7], [7,20]]\n",
    "list_order18 = [[0,1], [9,1], [10,1], [1,2], [11,2], [2,3], [12,3], [3,4], [15,14], [14,4], [13,4], [4,5], [16,5], [17,5], [5,6], [18,6], [19,6], [6,7]]\n",
    "list_order17 = [[0,1], [9,1], [10,1], [1,2], [11,2], [2,3], [12,3], [3,4], [15,14], [14,4], [13,4], [4,5], [16,5], [17,5], [5,6], [18,6], [6,19]]\n",
    "list_order16 = [[0,1], [9,1], [10,1], [1,2], [11,2], [2,3], [12,3], [3,4], [15,14], [14,4], [13,4], [4,5], [16,5], [17,5], [5,6], [6,18]]\n",
    "list_order15 = [[0,1], [9,1], [10,1], [1,2], [11,2], [2,3], [12,3], [3,4], [15,14], [14,4], [13,4], [4,5], [16,5], [17,5], [5,6]]\n",
    "list_order14 = [[0,1], [9,1], [10,1], [1,2], [11,2], [2,3], [12,3], [3,4], [15,14], [14,4], [13,4], [4,5], [16,5], [5,17]]\n",
    "list_order13 = [[0,1], [9,1], [10,1], [1,2], [11,2], [2,3], [12,3], [3,4], [15,14], [14,4], [13,4], [4,5], [5,16]]\n",
    "list_order12 = [[0,1], [9,1], [10,1], [1,2], [11,2], [2,3], [12,3], [3,4], [15,14], [14,4], [13,4], [4,5]]\n",
    "list_order11 = [[0,1], [9,1], [10,1], [1,2], [11,2], [2,3], [12,3], [3,4], [15,14], [14,4], [4,13]]\n",
    "list_order10 = [[0,1], [9,1], [10,1], [1,2], [11,2], [2,3], [12,3], [3,4], [4,14], [14,15]]\n",
    "list_order9 = [[0,1], [9,1], [10,1], [1,2], [11,2], [2,3], [12,3], [3,4], [4,14]]\n",
    "list_order8 = [[0,1], [9,1], [10,1], [1,2], [11,2], [2,3], [12,3], [3,4]]\n",
    "list_order7 = [[0,1], [9,1], [10,1], [1,2], [11,2], [2,3], [3,12]]\n",
    "list_order6 = [[0,1], [9,1], [10,1], [1,2], [11,2], [2,3]]\n",
    "list_order5 = [[0,1], [9,1], [10,1], [1,2], [2,11]]\n",
    "list_order4 = [[0,1], [9,1], [10,1], [1,2]]\n",
    "list_order3 = [[0,1], [9,1], [1,10]]\n",
    "list_order2 = [[0,1], [1,9]]\n",
    "list_order1 = [[0,1]]\n",
    "\n",
    "\n",
    "dec_list2 = [list_order1, list_order2, list_order3, list_order4, list_order5, list_order6, list_order7, list_order8, list_order9, list_order10, list_order11, list_order12, list_order13, list_order14, list_order15, list_order16, list_order17, list_order18, list_order19, list_order20, list_order21, list_order22, list_order23]"
   ]
  },
  {
   "cell_type": "markdown",
   "id": "15e6dbe1",
   "metadata": {},
   "source": [
    "len_list2: 2D"
   ]
  },
  {
   "cell_type": "code",
   "execution_count": null,
   "id": "7b6886e2",
   "metadata": {
    "execution": {
     "iopub.execute_input": "2023-08-01T16:39:29.470136Z",
     "iopub.status.busy": "2023-08-01T16:39:29.469869Z",
     "iopub.status.idle": "2023-08-01T16:39:29.472298Z",
     "shell.execute_reply": "2023-08-01T16:39:29.471861Z"
    }
   },
   "outputs": [],
   "source": [
    "len_list2 = [9,1,1,1,1,2,1,1,1,1,1,1,1,1,1]"
   ]
  },
  {
   "cell_type": "code",
   "execution_count": null,
   "id": "701a95ac",
   "metadata": {},
   "outputs": [],
   "source": []
  },
  {
   "cell_type": "code",
   "execution_count": null,
   "id": "77948866",
   "metadata": {},
   "outputs": [],
   "source": []
  },
  {
   "cell_type": "code",
   "execution_count": null,
   "id": "e0cc9fed",
   "metadata": {},
   "outputs": [],
   "source": []
  },
  {
   "cell_type": "code",
   "execution_count": null,
   "id": "759a2773",
   "metadata": {},
   "outputs": [],
   "source": []
  },
  {
   "cell_type": "markdown",
   "id": "344ff319",
   "metadata": {},
   "source": [
    "dense subgraph"
   ]
  },
  {
   "cell_type": "code",
   "execution_count": null,
   "id": "d098a3bc",
   "metadata": {},
   "outputs": [],
   "source": [
    "# Read the graph from the adjacency list\n",
    "G = nx.read_adjlist(\"dense.adjlist\")\n",
    "\n",
    "# Obtain the adjacency matrix of the graph G\n",
    "A = nx.to_numpy_array(G)\n",
    "\n",
    "S, U = sf.decompositions.takagi(A)"
   ]
  },
  {
   "cell_type": "code",
   "execution_count": null,
   "id": "7148a3fd",
   "metadata": {},
   "outputs": [],
   "source": [
    "# gate reduction = 0%\n",
    "unitary_accuracy(1000, U, dec_list1, 0, len_list1, 12, 1, 1, 100)\n",
    "# gate reduction = 4.3%\n",
    "f1 = unitary_accuracy(1000, U, dec_list1, 0, len_list1, 12, 0.957, 0.13, 100)\n",
    "# gate reduction = 13%\n",
    "f2 = unitary_accuracy(1000, U, dec_list2, 0, len_list2, 12, 0.87, 0.02, 100)\n",
    "# gate reduction = 26.4%\n",
    "f3 = unitary_accuracy(1000, U, dec_list2, 1, len_list2, 9, 0.736, 0.025, 100)\n",
    "DS_fidelity = min(f1,f2,f3)"
   ]
  },
  {
   "cell_type": "code",
   "execution_count": null,
   "id": "e8828f24",
   "metadata": {},
   "outputs": [],
   "source": []
  },
  {
   "cell_type": "markdown",
   "id": "35619136",
   "metadata": {},
   "source": [
    "max clique"
   ]
  },
  {
   "cell_type": "code",
   "execution_count": null,
   "id": "aa665838",
   "metadata": {},
   "outputs": [],
   "source": [
    "# Read the graph from the adjacency list\n",
    "G = nx.read_adjlist(\"max.adjlist\")\n",
    "\n",
    "# Obtain the adjacency matrix of the graph G\n",
    "A = nx.to_numpy_array(G)\n",
    "\n",
    "S, U = sf.decompositions.takagi(A)"
   ]
  },
  {
   "cell_type": "code",
   "execution_count": null,
   "id": "3deddde5",
   "metadata": {},
   "outputs": [],
   "source": [
    "# gate reduction = 0%\n",
    "unitary_accuracy(1000, U, dec_list1, 0, len_list1, 12, 1, 1, 100)\n",
    "# gate reduction = 4.7%\n",
    "f1 = unitary_accuracy(1000, U, dec_list1, 0, len_list1, 12, 0.953, 0.08, 100)\n",
    "# gate reduction = 18.4%\n",
    "f2 = unitary_accuracy(1000, U, dec_list2, 0, len_list2, 12, 0.816, 0.01, 100)\n",
    "# gate reduction = 22.4%\n",
    "f3 = unitary_accuracy(1000, U, dec_list2, 1, len_list2, 12, 0.776, 0.001, 100)\n",
    "max_fidelity = min(f1,f2,f3)"
   ]
  },
  {
   "cell_type": "code",
   "execution_count": null,
   "id": "4f7bf8c2",
   "metadata": {},
   "outputs": [],
   "source": []
  },
  {
   "cell_type": "markdown",
   "id": "9b0496b2",
   "metadata": {},
   "source": [
    "graph similarity"
   ]
  },
  {
   "cell_type": "code",
   "execution_count": null,
   "id": "68a50418",
   "metadata": {},
   "outputs": [],
   "source": [
    "# Read the graph from the adjacency list\n",
    "G = nx.read_adjlist(\"sim.adjlist\")\n",
    "\n",
    "# Obtain the adjacency matrix of the graph G\n",
    "A = nx.to_numpy_array(G)\n",
    "\n",
    "S, U = sf.decompositions.takagi(A)"
   ]
  },
  {
   "cell_type": "code",
   "execution_count": null,
   "id": "9f21fa6b",
   "metadata": {},
   "outputs": [],
   "source": [
    "# gate reduction = 0%\n",
    "unitary_accuracy(1000, U, dec_list1, 0, len_list1, 12, 1, 1, 100)\n",
    "# gate reduction = 3.6%\n",
    "f1 = unitary_accuracy(1000, U, dec_list1, 0, len_list1, 12, 0.964, 0.12, 100)\n",
    "# gate reduction = 18.8%\n",
    "f2 = unitary_accuracy(1000, U, dec_list2, 0, len_list2, 12, 0.812, 0.056, 100)\n",
    "# gate reduction = 25.7%\n",
    "f3 = unitary_accuracy(1000, U, dec_list2, 1, len_list2, 6, 0.743, 0.045, 100)\n",
    "sim_fidelity = min(f1,f2,f3)"
   ]
  },
  {
   "cell_type": "code",
   "execution_count": null,
   "id": "85f25d4b",
   "metadata": {},
   "outputs": [],
   "source": [
    "sim_fidelity"
   ]
  },
  {
   "cell_type": "code",
   "execution_count": null,
   "id": "2b60520d",
   "metadata": {},
   "outputs": [],
   "source": []
  },
  {
   "cell_type": "markdown",
   "id": "3d5bec1d",
   "metadata": {},
   "source": [
    "vibration simulation"
   ]
  },
  {
   "cell_type": "code",
   "execution_count": null,
   "id": "43b1ae93",
   "metadata": {},
   "outputs": [],
   "source": [
    "Li = sf.apps.data.Pyrrole(0).Li  # normal modes of the ground electronic state\n",
    "Lf = sf.apps.data.Pyrrole(0).Lf  # normal modes of the excited electronic state\n",
    "ri = sf.apps.data.Pyrrole(0).ri  # atomic coordinates of the ground electronic state\n",
    "rf = sf.apps.data.Pyrrole(0).rf  # atomic coordinates of the excited electronic state\n",
    "wi = sf.apps.data.Pyrrole(0).wi  # vibrational frequencies of the ground electronic state\n",
    "wf = sf.apps.data.Pyrrole(0).wf  # vibrational frequencies of the excited electronic state\n",
    "m = sf.apps.data.Pyrrole(0).m  # atomic masses"
   ]
  },
  {
   "cell_type": "code",
   "execution_count": null,
   "id": "4428f336",
   "metadata": {},
   "outputs": [],
   "source": [
    "Ud, delta = qchem.duschinsky(Li, Lf, ri, rf, wf, m)"
   ]
  },
  {
   "cell_type": "code",
   "execution_count": null,
   "id": "032a70f3",
   "metadata": {},
   "outputs": [],
   "source": [
    "T = 1000\n",
    "t, U1, r, U2, alpha = qchem.vibronic.gbs_params(wi, wf, Ud, delta, T)"
   ]
  },
  {
   "cell_type": "code",
   "execution_count": null,
   "id": "8c558b04",
   "metadata": {},
   "outputs": [],
   "source": [
    "U = U1"
   ]
  },
  {
   "cell_type": "code",
   "execution_count": null,
   "id": "32973e08",
   "metadata": {},
   "outputs": [],
   "source": [
    "# gate reduction = 0%\n",
    "unitary_accuracy(1000, U, dec_list1, 0, len_list1, 12, 1, 1, 100)\n",
    "# gate reduction = 12.3%\n",
    "f1 = unitary_accuracy(1000, U, dec_list1, 0, len_list1, 12, 0.877, 0.227, 100)\n",
    "# gate reduction = 40.5%\n",
    "f2 = unitary_accuracy(1000, U, dec_list2, 0, len_list2, 12, 0.595, 0.235, 100)\n",
    "# gate reduction = 40.5%\n",
    "f3 = unitary_accuracy(1000, U, dec_list2, 1, len_list2, 6, 0.595, 0.235, 100)\n",
    "vib_fidelity = min(f1,f2,f3)"
   ]
  },
  {
   "cell_type": "code",
   "execution_count": null,
   "id": "b524bb33",
   "metadata": {},
   "outputs": [],
   "source": []
  },
  {
   "cell_type": "code",
   "execution_count": null,
   "id": "2fba0fee",
   "metadata": {},
   "outputs": [],
   "source": [
    "title = ['DS', 'MC', 'GS', 'VS']"
   ]
  },
  {
   "cell_type": "code",
   "execution_count": null,
   "id": "20897b2f",
   "metadata": {},
   "outputs": [],
   "source": [
    "fidelity = [DS_fidelity, max_fidelity, sim_fidelity, vib_fidelity]"
   ]
  },
  {
   "cell_type": "code",
   "execution_count": null,
   "id": "726ced90",
   "metadata": {},
   "outputs": [],
   "source": [
    "result = [list(row) for row in zip(title, fidelity)]"
   ]
  },
  {
   "cell_type": "code",
   "execution_count": null,
   "id": "8eccaeae",
   "metadata": {},
   "outputs": [],
   "source": [
    "# Specify the file name\n",
    "file_name = 'Table 2.csv'\n",
    "\n",
    "# Write the combined list to a CSV file\n",
    "with open(file_name, mode='w', newline='') as file:\n",
    "    writer = csv.writer(file)\n",
    "    writer.writerows(result)"
   ]
  },
  {
   "cell_type": "code",
   "execution_count": null,
   "id": "2dbd58ae",
   "metadata": {},
   "outputs": [],
   "source": []
  }
 ],
 "metadata": {
  "kernelspec": {
   "display_name": "Python 3 (ipykernel)",
   "language": "python",
   "name": "python3"
  },
  "language_info": {
   "codemirror_mode": {
    "name": "ipython",
    "version": 3
   },
   "file_extension": ".py",
   "mimetype": "text/x-python",
   "name": "python",
   "nbconvert_exporter": "python",
   "pygments_lexer": "ipython3",
   "version": "3.9.13"
  }
 },
 "nbformat": 4,
 "nbformat_minor": 5
}
