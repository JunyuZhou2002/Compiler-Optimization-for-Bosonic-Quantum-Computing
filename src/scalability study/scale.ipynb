{
 "cells": [
  {
   "cell_type": "code",
   "execution_count": null,
   "id": "85fb3a3d",
   "metadata": {
    "execution": {
     "iopub.execute_input": "2023-07-01T21:52:49.603020Z",
     "iopub.status.busy": "2023-07-01T21:52:49.602714Z",
     "iopub.status.idle": "2023-07-01T21:52:50.525436Z",
     "shell.execute_reply": "2023-07-01T21:52:50.524857Z"
    }
   },
   "outputs": [],
   "source": [
    "import csv\n",
    "import time\n",
    "import random\n",
    "import numpy as np\n",
    "import networkx as nx\n",
    "import strawberryfields as sf\n",
    "import matplotlib.pyplot as plt\n",
    "from scipy.optimize import fsolve\n",
    "from strawberryfields import ops\n",
    "from itertools import combinations\n",
    "from strawberryfields.apps import data, sample, subgraph, plot, qchem\n",
    "from strawberryfields.apps.similarity import feature_vector_orbits_sampling\n",
    "from strawberryfields.utils import random_interferometer"
   ]
  },
  {
   "cell_type": "markdown",
   "id": "2ba78470",
   "metadata": {},
   "source": [
    "Step1: Mapping"
   ]
  },
  {
   "cell_type": "code",
   "execution_count": null,
   "id": "61e53b11",
   "metadata": {
    "execution": {
     "iopub.execute_input": "2023-07-01T21:52:50.528204Z",
     "iopub.status.busy": "2023-07-01T21:52:50.527772Z",
     "iopub.status.idle": "2023-07-01T21:52:50.531872Z",
     "shell.execute_reply": "2023-07-01T21:52:50.531462Z"
    }
   },
   "outputs": [],
   "source": [
    "# function that take a raw matrix and k (number of columns) and n (the nth number you want to compare) value in, return the best k columns\n",
    "def find_best_k_combination(matrix, k, n):\n",
    "    # get all possible combination\n",
    "    num_columns = matrix.shape[1]\n",
    "    column_combinations = combinations(range(num_columns), k)\n",
    "        \n",
    "#     column_combinations = get_column_combinations(matrix, k)\n",
    "    \n",
    "    strength = []\n",
    "    Combination = []\n",
    "\n",
    "    for combination in column_combinations:\n",
    "        Combination.append(combination)\n",
    "        selected_columns = matrix[:, combination]\n",
    "        # calculate the row abs square sum\n",
    "        row_sums = np.sum(np.abs(selected_columns) ** 2, axis=1)\n",
    "        # make it decrease\n",
    "        sorted_indices = np.argsort(row_sums)[::-1]\n",
    "        sorted_row_sums = row_sums[sorted_indices]\n",
    "        val = sorted_row_sums[n-1]\n",
    "        strength.append(val)\n",
    "\n",
    "    largest_value = np.max(strength)\n",
    "    largest_index = np.argmax(strength)\n",
    "\n",
    "    # find the best combination\n",
    "    best_combination = Combination[largest_index]\n",
    "    best_selected_columns = matrix[:, best_combination]\n",
    "\n",
    "    return best_selected_columns"
   ]
  },
  {
   "cell_type": "code",
   "execution_count": null,
   "id": "eacea0bc",
   "metadata": {
    "execution": {
     "iopub.execute_input": "2023-07-01T21:52:50.533684Z",
     "iopub.status.busy": "2023-07-01T21:52:50.533412Z",
     "iopub.status.idle": "2023-07-01T21:52:50.541151Z",
     "shell.execute_reply": "2023-07-01T21:52:50.540708Z"
    }
   },
   "outputs": [],
   "source": [
    "# final function, recieve the original matrix and a list of len, also n (the nth number you want to compare), return the permuted matrix\n",
    "# U = row_per_matrix*U'*col_per_matrix\n",
    "def mapping(U, len_list, n):\n",
    "    \n",
    "    M, N = U.shape\n",
    "    total_len = sum(len_list)\n",
    "    assert N == total_len\n",
    "    \n",
    "    # copy U\n",
    "    U_t = U.copy()\n",
    "#     print(U)\n",
    "    \n",
    "    # new column permutation\n",
    "    for i, length in enumerate(len_list):\n",
    "        if i<len(len_list)-1:\n",
    "            U_new = U_t[:,:length].copy()\n",
    "#             print(\"i:\", i)\n",
    "            # calculate the row abs square sum\n",
    "            row_sums = np.sum(np.abs(U_new) ** 2, axis=1)\n",
    "            U_new_update = U_new.copy()\n",
    "            # iterate remain column\n",
    "            for j in range(np.sum(len_list[i+1:])):\n",
    "#                 print(\"j:\", j)\n",
    "                for k in range(length):\n",
    "#                     print(\"k:\", k)\n",
    "                    U_new_update_k = U_new_update[:,k].copy()\n",
    "                    U_new_update[:,k] = U_t[:,length+j].copy()\n",
    "                    # calculate the row abs square sum\n",
    "                    row_sums_update = np.sum(np.abs(U_new_update) ** 2, axis=1)\n",
    "                \n",
    "                    if np.sort(row_sums_update)[::-1][n-1] > np.sort(row_sums)[::-1][n-1]:\n",
    "#                     row_sums_update[n-1] > row_sums[n-1]:\n",
    "                        U_new = U_new_update.copy()\n",
    "                        U_t[:,length+j] = U_new_update_k.copy()\n",
    "                        U_t[:,:length] = U_new.copy()\n",
    "                        row_sums = row_sums_update\n",
    "                    else:\n",
    "                        U_new_update = U_new.copy()\n",
    "\n",
    "            \n",
    "            # add U_new to U_per\n",
    "            if i==0:\n",
    "                U_per = U_new.copy()\n",
    "            elif i==len(len_list)-2:\n",
    "                U_per = np.hstack((U_per, U_t)).copy()\n",
    "            else:\n",
    "                U_per = np.hstack((U_per, U_new)).copy()\n",
    "\n",
    "            \n",
    "            # drop U_new from U_t\n",
    "            U_t = U_t[:,length:].copy()\n",
    "        \n",
    "                    \n",
    "\n",
    "#     for i, length in enumerate(len_list):\n",
    "#         U_new = find_best_k_combination(U_t, length, n)\n",
    "        \n",
    "#         # Find column indices in the larger matrix corresponding to the smaller matrix\n",
    "#         selected_columns = []\n",
    "#         for col in range(U_new.shape[1]):\n",
    "#             for j in range(U_t.shape[1]):\n",
    "#                 if np.array_equal(U_new[:, col], U_t[:, j]):\n",
    "#                     selected_columns.append(j)\n",
    "#                     break\n",
    "\n",
    "#         # drop U_new from U_t\n",
    "#         U_t = np.delete(U_t, selected_columns, axis=1)\n",
    "        \n",
    "#         # add U_new to U_per\n",
    "#         if i==0:\n",
    "#             U_per = U_new\n",
    "#         else:\n",
    "#             U_per = np.hstack((U_per, U_new))\n",
    "      \n",
    "      \n",
    "    # find the permutation from U_per to U\n",
    "    col_permutation = []\n",
    "    for col in range(U_per.shape[1]):\n",
    "        for i in range(U.shape[1]):\n",
    "            if np.array_equal(U_per[:, col], U[:, i]):\n",
    "                col_permutation.append(i)\n",
    "                break\n",
    "                \n",
    "    # find the columns permutation matrix\n",
    "    col_per_matrix = np.zeros((N, N))\n",
    "    for i in range(N):\n",
    "        col_per_matrix[col_permutation[i], i] = 1\n",
    "        \n",
    "\n",
    "\n",
    "    # calculate the sum of first len for U_per\n",
    "    selected_columns = U_per[:, :len_list[0]] \n",
    "    # calculate the row abs square sum\n",
    "    row_sums = np.sum(np.abs(selected_columns) ** 2, axis=1)\n",
    "    \n",
    "    # decide the row rotation\n",
    "    sorted_indices = np.argsort(row_sums)\n",
    "    U_per_new = U_per[sorted_indices]\n",
    "    \n",
    "    # Find row permutation\n",
    "    row_permutation = []\n",
    "    for row in range(U_per_new.shape[0]):\n",
    "        for i in range(U_per.shape[0]):\n",
    "            if np.array_equal(U_per_new[row, :], U_per[i, :]):\n",
    "                row_permutation.append(i)\n",
    "                break\n",
    "                \n",
    "    # find the rows permutation matrix\n",
    "    row_per_matrix = np.zeros((M, M))\n",
    "    for i in range(M):\n",
    "        row_per_matrix[i, row_permutation[i]] = 1\n",
    "        \n",
    "    \n",
    "    U_final = U_per_new\n",
    "    \n",
    "    # U_final = U_per, out put U_final and the permutation\n",
    "    return U_final, col_per_matrix.T, row_per_matrix.T"
   ]
  },
  {
   "cell_type": "markdown",
   "id": "548f1c1d",
   "metadata": {},
   "source": [
    "Step2: Matrix Decomposition"
   ]
  },
  {
   "cell_type": "code",
   "execution_count": null,
   "id": "a82af31b",
   "metadata": {
    "execution": {
     "iopub.execute_input": "2023-07-01T21:52:50.543299Z",
     "iopub.status.busy": "2023-07-01T21:52:50.542933Z",
     "iopub.status.idle": "2023-07-01T21:52:50.548047Z",
     "shell.execute_reply": "2023-07-01T21:52:50.547638Z"
    }
   },
   "outputs": [],
   "source": [
    "# Define the left eliminate equations\n",
    "def left_equations(variables,parameters):\n",
    "    theta, phi = variables\n",
    "    a_r, a_i, b_r, b_i = parameters\n",
    "    eq1 = a_r * np.cos(phi) * np.cos(theta) + a_i * np.sin(phi) * np.cos(theta) - b_r * np.sin(theta)\n",
    "    eq2 = a_i * np.cos(phi) * np.cos(theta) - a_r * np.sin(phi) * np.cos(theta) - b_i * np.sin(theta)\n",
    "    return [eq1, eq2]\n",
    "\n",
    "# function of left elimination\n",
    "def left_elimination(a,b):\n",
    "    a_r = np.real(a)\n",
    "    a_i = np.imag(a)\n",
    "    b_r = np.real(b)\n",
    "    b_i = np.imag(b)\n",
    "    \n",
    "    # Solve the system of equations\n",
    "    initial_guess = [0, 0]  # Initial guess for the variables\n",
    "    parameters = [a_r, a_i, b_r, b_i]\n",
    "    raw_solution = fsolve(left_equations, initial_guess, args=(parameters,))\n",
    "    \n",
    "    \n",
    "    if np.abs(a_r) < 1e-8 and np.abs(b_i) < 1e-8:\n",
    "            raw_solution = [np.arctan(a_i/b_r), np.pi/2]\n",
    "        \n",
    "    if np.abs(a_i) < 1e-8 and np.abs(b_r) < 1e-8:\n",
    "            raw_solution = [np.arctan(-a_r/b_i), np.pi/2]\n",
    "            \n",
    "            \n",
    "    if np.abs(b_r) < 1e-8 and np.abs(b_i) < 1e-8:\n",
    "            raw_solution = [np.pi/2, 0]\n",
    "    \n",
    "    \n",
    "    normalized_solution = [angle % (2 * np.pi) for angle in raw_solution]\n",
    "    solution = []\n",
    "    for angle in normalized_solution:\n",
    "        if angle < np.pi:\n",
    "            solution.append(angle)\n",
    "        else:\n",
    "            solution.append(angle-2*np.pi)\n",
    "\n",
    "    # Print the solution\n",
    "#     print(\"Solution:\", solution)\n",
    "    return solution"
   ]
  },
  {
   "cell_type": "code",
   "execution_count": null,
   "id": "5493f4e2",
   "metadata": {
    "execution": {
     "iopub.execute_input": "2023-07-01T21:52:50.549855Z",
     "iopub.status.busy": "2023-07-01T21:52:50.549524Z",
     "iopub.status.idle": "2023-07-01T21:52:50.554500Z",
     "shell.execute_reply": "2023-07-01T21:52:50.554091Z"
    }
   },
   "outputs": [],
   "source": [
    "# Define the right eliminate equations\n",
    "def right_equations(variables,parameters):\n",
    "    theta, phi = variables\n",
    "    a_r, a_i, b_r, b_i = parameters\n",
    "    eq1 = a_r * np.cos(phi) * np.sin(theta) + a_i * np.sin(phi) * np.sin(theta) + b_r * np.cos(theta)\n",
    "    eq2 = a_i * np.cos(phi) * np.sin(theta) - a_r * np.sin(phi) * np.sin(theta) + b_i * np.cos(theta)\n",
    "    return [eq1, eq2]\n",
    "\n",
    "# function of right elimination\n",
    "def right_elimination(a,b):\n",
    "    a_r = np.real(a)\n",
    "    a_i = np.imag(a)\n",
    "    b_r = np.real(b)\n",
    "    b_i = np.imag(b)\n",
    "    \n",
    "    # Solve the system of equations\n",
    "    initial_guess = [0, 0]  # Initial guess for the variables\n",
    "    parameters = [a_r, a_i, b_r, b_i]\n",
    "    raw_solution = fsolve(right_equations, initial_guess, args=(parameters,))\n",
    "    \n",
    "    if np.abs(a_r) < 1e-8 and np.abs(b_i) < 1e-8:\n",
    "        raw_solution = [np.arctan(-b_r/a_i), np.pi/2]\n",
    "        \n",
    "    if np.abs(a_i) < 1e-8 and np.abs(b_r) < 1e-8:\n",
    "        raw_solution = [np.arctan(b_i/a_r), np.pi/2]\n",
    "        \n",
    "    if np.abs(a_r) < 1e-8 and np.abs(a_i) < 1e-8:\n",
    "        raw_solution = [np.pi/2, 0]\n",
    "    \n",
    "    normalized_solution = [angle % (2 * np.pi) for angle in raw_solution]\n",
    "    solution = []\n",
    "    for angle in normalized_solution:\n",
    "        if angle < np.pi:\n",
    "            solution.append(angle)\n",
    "        else:\n",
    "            solution.append(angle-2*np.pi)\n",
    "\n",
    "    # Print the solution\n",
    "#     print(\"Solution:\", solution)\n",
    "    return solution"
   ]
  },
  {
   "cell_type": "code",
   "execution_count": null,
   "id": "68c8290b",
   "metadata": {
    "execution": {
     "iopub.execute_input": "2023-07-01T21:52:50.556292Z",
     "iopub.status.busy": "2023-07-01T21:52:50.555999Z",
     "iopub.status.idle": "2023-07-01T21:52:50.559072Z",
     "shell.execute_reply": "2023-07-01T21:52:50.558651Z"
    }
   },
   "outputs": [],
   "source": [
    "# give rotation matrix with idx_1 < idx_2\n",
    "def rotation(theta, phi, n, idx_1, idx_2):\n",
    "    I = np.eye(n, dtype=complex)\n",
    "    I[idx_1,idx_1] = np.cos(theta)*(np.cos(phi)-np.sin(phi)*1j)\n",
    "    I[idx_1,idx_2] = np.sin(theta)*(np.cos(phi)-np.sin(phi)*1j)\n",
    "    I[idx_2,idx_1] = -np.sin(theta)\n",
    "    I[idx_2,idx_2] = np.cos(theta)\n",
    "    \n",
    "    return I"
   ]
  },
  {
   "cell_type": "code",
   "execution_count": null,
   "id": "d024604b",
   "metadata": {
    "execution": {
     "iopub.execute_input": "2023-07-01T21:52:50.561012Z",
     "iopub.status.busy": "2023-07-01T21:52:50.560679Z",
     "iopub.status.idle": "2023-07-01T21:52:50.563892Z",
     "shell.execute_reply": "2023-07-01T21:52:50.563471Z"
    }
   },
   "outputs": [],
   "source": [
    "# matrix permutation\n",
    "def permutation(U):\n",
    "    \n",
    "    rows, columns = U.shape\n",
    "    assert(rows==columns)\n",
    "    \n",
    "    # create the permutation matrix\n",
    "    Permutation = np.zeros([rows,columns])\n",
    "    \n",
    "    diag_U = np.eye(rows, dtype=complex)\n",
    "    \n",
    "    indices = np.nonzero(U)\n",
    "    row_info = indices[0]\n",
    "    col_info = indices[1]\n",
    "    \n",
    "    for i in range(rows):\n",
    "        col = col_info[i]\n",
    "        row = row_info[i]\n",
    "        diag_U[col,:] = U[row,:]\n",
    "        Permutation[col,row] = 1\n",
    "        \n",
    "    return diag_U, Permutation.T"
   ]
  },
  {
   "cell_type": "code",
   "execution_count": null,
   "id": "d0854916",
   "metadata": {
    "execution": {
     "iopub.execute_input": "2023-07-01T21:52:50.565799Z",
     "iopub.status.busy": "2023-07-01T21:52:50.565530Z",
     "iopub.status.idle": "2023-07-01T21:52:50.568305Z",
     "shell.execute_reply": "2023-07-01T21:52:50.567921Z"
    }
   },
   "outputs": [],
   "source": [
    "def phase(x):\n",
    "    x_r = np.real(x)\n",
    "    x_i = np.imag(x)\n",
    "    \n",
    "    raw_phi = np.arccos(x_r)\n",
    "    if x_i > 0:\n",
    "        t_phi = raw_phi\n",
    "    else:\n",
    "        t_phi = -raw_phi\n",
    "        \n",
    "    normalized_solution = t_phi % (2 * np.pi)\n",
    "    if normalized_solution > np.pi:\n",
    "        normalized_solution = normalized_solution-2*np.pi\n",
    "\n",
    "    return normalized_solution"
   ]
  },
  {
   "cell_type": "code",
   "execution_count": null,
   "id": "cff424f7",
   "metadata": {
    "execution": {
     "iopub.execute_input": "2023-07-01T21:52:50.570133Z",
     "iopub.status.busy": "2023-07-01T21:52:50.569809Z",
     "iopub.status.idle": "2023-07-01T21:52:50.576136Z",
     "shell.execute_reply": "2023-07-01T21:52:50.575735Z"
    }
   },
   "outputs": [],
   "source": [
    "# the all_list tell the decomposition order\n",
    "# [[1,2], [2,3], [3,4]] means first use 2 eliminate 1, then use 3 eliminate 2, then use 4 eliminate 3\n",
    "def U_decompose_plus(U, all_list):\n",
    "    \n",
    "    # pick up a machine precision\n",
    "    threshold = 1e-8\n",
    "    \n",
    "    # get the shape of unitary\n",
    "    rows, columns = U.shape\n",
    "    assert(rows==columns)\n",
    "    \n",
    "    # create the rotation record matrix, the first row for theta, the second row for phi \n",
    "    # third row for low index, forth row for high index\n",
    "    Theta = []\n",
    "    Phi = []\n",
    "    Low_idx = []\n",
    "    High_idx = []\n",
    "    \n",
    "    # create the diagonal record matrix\n",
    "    Diag = []\n",
    "    \n",
    "\n",
    "    for i in range(rows-1, 0, -1):\n",
    "        list_i = all_list[i-1]\n",
    "        row = U[i, :]\n",
    "        \n",
    "        for j in range(i):\n",
    "            pair = list_i[j]\n",
    "            \n",
    "            \n",
    "            # a is the number to be eliminated, b is the number to eliminate the previous one\n",
    "            a = row[pair[0]]\n",
    "            b = row[pair[1]]\n",
    "            \n",
    "            \n",
    "#             if i % 3 != 0:\n",
    "#                 if j == i-1:\n",
    "#                     a = row[pair[1]]\n",
    "#                     b = row[pair[0]]\n",
    "                \n",
    "                \n",
    "            # choose the elimination method by position\n",
    "            if pair[0] < pair[1]: \n",
    "                theta, phi = left_elimination(a,b)\n",
    "\n",
    "                # write down the parameter\n",
    "                Theta.append(theta)\n",
    "                Phi.append(phi)\n",
    "                Low_idx.append(pair[0])\n",
    "                High_idx.append(pair[1])\n",
    "\n",
    "                # create the rotation\n",
    "                r = rotation(theta, phi, rows, pair[0], pair[1])\n",
    "        \n",
    "\n",
    "                # update Unitary\n",
    "                U = np.dot(U, r)\n",
    "                U= np.where(np.abs(U) < threshold, 0, U)\n",
    "\n",
    "            else:\n",
    "                theta, phi = right_elimination(b,a)\n",
    "\n",
    "                # write down the parameter\n",
    "                Theta.append(theta)\n",
    "                Phi.append(phi)\n",
    "                Low_idx.append(pair[1])\n",
    "                High_idx.append(pair[0])\n",
    "\n",
    "                # create the rotation\n",
    "                r = rotation(theta, phi, rows, pair[1], pair[0])\n",
    "\n",
    "                # update Unitary\n",
    "                U = np.dot(U, r)\n",
    "                U= np.where(np.abs(U) < threshold, 0, U)\n",
    "\n",
    "            row = U[i, :]\n",
    "            \n",
    "#             if (np.count_nonzero(row) == 1):\n",
    "            if j == i-1:\n",
    "                entry = U[i, pair[1]]\n",
    "                U[:, pair[1]] = 0\n",
    "                U[i, :] = 0\n",
    "                U[i, pair[1]] = entry\n",
    "                flag = 0\n",
    "    \n",
    "    # do the permutation, and record\n",
    "    U, Permutation = permutation(U)\n",
    "    \n",
    "    # find the phase shift\n",
    "    for i in range(rows):\n",
    "        x = U[i,i]/np.abs(U[i,i])\n",
    "        phi_x = phase(x)\n",
    "        Diag.append(phi_x)\n",
    "        U[i,i] = U[i,i]*(np.cos(phi_x)-np.sin(phi_x)*1j)\n",
    "    \n",
    "    \n",
    "    return U, Theta, Phi, Low_idx, High_idx, Diag, Permutation"
   ]
  },
  {
   "cell_type": "code",
   "execution_count": null,
   "id": "dd1d7929",
   "metadata": {},
   "outputs": [],
   "source": []
  },
  {
   "cell_type": "markdown",
   "id": "2c797e2d",
   "metadata": {},
   "source": [
    "Step3: gate drop"
   ]
  },
  {
   "cell_type": "code",
   "execution_count": null,
   "id": "87465142",
   "metadata": {
    "execution": {
     "iopub.execute_input": "2023-07-01T21:52:50.578124Z",
     "iopub.status.busy": "2023-07-01T21:52:50.577768Z",
     "iopub.status.idle": "2023-07-01T21:52:50.580335Z",
     "shell.execute_reply": "2023-07-01T21:52:50.579950Z"
    }
   },
   "outputs": [],
   "source": [
    "# Step1 probability\n",
    "def calculate_probability_sequence(angles, threshold, N):\n",
    "    abs_angles = np.abs(angles)\n",
    "    angles1 = abs_angles/(threshold)\n",
    "    angles2 = angles1**N\n",
    "    total_magnitude = np.sum(angles2)\n",
    "    probabilities = angles2 / total_magnitude\n",
    "    return probabilities"
   ]
  },
  {
   "cell_type": "code",
   "execution_count": null,
   "id": "867c0332",
   "metadata": {
    "execution": {
     "iopub.execute_input": "2023-07-01T21:52:50.582177Z",
     "iopub.status.busy": "2023-07-01T21:52:50.581836Z",
     "iopub.status.idle": "2023-07-01T21:52:50.585492Z",
     "shell.execute_reply": "2023-07-01T21:52:50.585033Z"
    }
   },
   "outputs": [],
   "source": [
    "# sequence is the origianl angel sequence, probability is calculate using calculate_probability_sequence(angles), percentage is the proportion you want to preserve\n",
    "def pick_entries_with_indices(sequence, probabilities, proportion):\n",
    "    \n",
    "    N = len(sequence)\n",
    "    num_entries = np.floor(N*proportion).astype(int)\n",
    "    \n",
    "    idx_sequence = np.arange(N).astype(int)\n",
    "    \n",
    "    if np.count_nonzero(probabilities) < num_entries:\n",
    "        num_entries = np.count_nonzero(probabilities)\n",
    "    \n",
    "    picked_indices = np.random.choice(idx_sequence, size=num_entries, replace=False, p=probabilities)\n",
    "    picked_entries = [sequence[index] for index in picked_indices]\n",
    "\n",
    "    # Sort the picked entries and indices based on the indices\n",
    "    picked_entries, picked_indices = zip(*sorted(zip(picked_entries, picked_indices), key=lambda x: x[1]))\n",
    "    \n",
    "    modified_sequence = [entry if index in picked_indices else 0 for index, entry in enumerate(sequence)]\n",
    "\n",
    "    return modified_sequence"
   ]
  },
  {
   "cell_type": "code",
   "execution_count": null,
   "id": "06e8217c",
   "metadata": {},
   "outputs": [],
   "source": []
  },
  {
   "cell_type": "markdown",
   "id": "22b271e9",
   "metadata": {},
   "source": [
    "Step4: Matric Reconstruction"
   ]
  },
  {
   "cell_type": "code",
   "execution_count": null,
   "id": "b30f9083",
   "metadata": {
    "execution": {
     "iopub.execute_input": "2023-07-01T21:52:50.587365Z",
     "iopub.status.busy": "2023-07-01T21:52:50.587120Z",
     "iopub.status.idle": "2023-07-01T21:52:50.589684Z",
     "shell.execute_reply": "2023-07-01T21:52:50.589223Z"
    }
   },
   "outputs": [],
   "source": [
    "def make_entries_zero(Array, threshold):\n",
    "    array = Array.copy()\n",
    "    for i in range(len(array)):\n",
    "        if np.abs(array[i]) < threshold:\n",
    "            array[i] = 0\n",
    "    return array"
   ]
  },
  {
   "cell_type": "code",
   "execution_count": null,
   "id": "6029d275",
   "metadata": {
    "execution": {
     "iopub.execute_input": "2023-07-01T21:52:50.591376Z",
     "iopub.status.busy": "2023-07-01T21:52:50.591103Z",
     "iopub.status.idle": "2023-07-01T21:52:50.594113Z",
     "shell.execute_reply": "2023-07-01T21:52:50.593642Z"
    }
   },
   "outputs": [],
   "source": [
    "# give rotation matrix with idx_1 < idx_2\n",
    "def reconstruct_rotation(theta, phi, n, idx_1, idx_2):\n",
    "    I = np.eye(n, dtype=complex)\n",
    "    I[idx_1,idx_1] = np.cos(theta)*(np.cos(phi)+np.sin(phi)*1j)\n",
    "    I[idx_1,idx_2] = -np.sin(theta)\n",
    "    I[idx_2,idx_1] = np.sin(theta)*(np.cos(phi)+np.sin(phi)*1j)\n",
    "    I[idx_2,idx_2] = np.cos(theta)\n",
    "    \n",
    "    return I"
   ]
  },
  {
   "cell_type": "code",
   "execution_count": null,
   "id": "f95103d3",
   "metadata": {
    "execution": {
     "iopub.execute_input": "2023-07-01T21:52:50.595853Z",
     "iopub.status.busy": "2023-07-01T21:52:50.595602Z",
     "iopub.status.idle": "2023-07-01T21:52:50.599393Z",
     "shell.execute_reply": "2023-07-01T21:52:50.598988Z"
    }
   },
   "outputs": [],
   "source": [
    "def matrix_reconstruct(Theta, Phi, Low_idx, High_idx, Diag, Permutation, N):\n",
    "    \n",
    "    M = len(Theta)\n",
    "    \n",
    "    per_theta = (len([x for x in Theta if np.abs(x) == 0]) / len(Theta)) * 100\n",
    "#     print(\"theta reduce\")\n",
    "#     print(per_theta)\n",
    "    \n",
    "    per_phi = (len([x for x in Phi if np.abs(x) == 0]) / len(Phi)) * 100\n",
    "#     print(\"phi reduce\")\n",
    "#     print(per_phi)\n",
    "\n",
    "#     new_theta = Theta\n",
    "#     new_phi = Phi\n",
    "    \n",
    "    V = np.eye(N, dtype=complex)\n",
    "    \n",
    "    # rotation\n",
    "    for i in range(M):\n",
    "        r = reconstruct_rotation(Theta[i], Phi[i], N, Low_idx[i], High_idx[i])\n",
    "        V = np.dot(r, V)\n",
    "        \n",
    "    # phase shift\n",
    "    for i in range(N):\n",
    "        V[i,:] = V[i,:]*(np.cos(Diag[i])+np.sin(Diag[i])*1j)\n",
    "        \n",
    "    # permutation\n",
    "    V = np.dot(Permutation, V)\n",
    "    \n",
    "    return V"
   ]
  },
  {
   "cell_type": "code",
   "execution_count": null,
   "id": "08e40086",
   "metadata": {},
   "outputs": [],
   "source": []
  },
  {
   "cell_type": "markdown",
   "id": "9062bfeb",
   "metadata": {},
   "source": [
    "Accuracy"
   ]
  },
  {
   "cell_type": "code",
   "execution_count": null,
   "id": "23772846",
   "metadata": {
    "execution": {
     "iopub.execute_input": "2023-07-01T21:52:50.601106Z",
     "iopub.status.busy": "2023-07-01T21:52:50.600857Z",
     "iopub.status.idle": "2023-07-01T21:52:50.603308Z",
     "shell.execute_reply": "2023-07-01T21:52:50.602915Z"
    }
   },
   "outputs": [],
   "source": [
    "# function to calculate the approximation accuracy\n",
    "def accuracy(U,U_app):\n",
    "    I = np.dot(U,np.conjugate(U_app).transpose())\n",
    "    N, N = I.shape\n",
    "    acc = np.trace(I)/N\n",
    "    return acc"
   ]
  },
  {
   "cell_type": "code",
   "execution_count": null,
   "id": "140a48af",
   "metadata": {
    "execution": {
     "iopub.execute_input": "2023-07-01T21:52:50.605058Z",
     "iopub.status.busy": "2023-07-01T21:52:50.604741Z",
     "iopub.status.idle": "2023-07-01T21:52:50.608471Z",
     "shell.execute_reply": "2023-07-01T21:52:50.608052Z"
    }
   },
   "outputs": [],
   "source": [
    "def unitary_accuracy(M, U1, dec_list, maps, len_list, n, proportion1, th, N):\n",
    "    \n",
    "    N, N = U1.shape\n",
    "    \n",
    "    # mapping\n",
    "    if maps:\n",
    "        U1_map, col_per_matrix, row_per_matrix = mapping(U1, len_list, n)\n",
    "    else:\n",
    "        U1_map = U1\n",
    "        \n",
    "    # get the decomposition information of U1\n",
    "    _, Theta1, Phi1, Low_idx1, High_idx1, Diag1, Permutation1 = U_decompose_plus(U1_map, dec_list)\n",
    "    \n",
    "    # modify Theta\n",
    "    Theta_prob1 = calculate_probability_sequence(Theta1, th, N)\n",
    "    \n",
    "    k = 0\n",
    "    acc1 = []\n",
    "    while k < M:\n",
    "\n",
    "        # get the new Theta from the probability distribution\n",
    "        new_Theta1 = pick_entries_with_indices(Theta1, Theta_prob1, proportion1)\n",
    "        new_Phi1 = Phi1\n",
    "        \n",
    "        # reconstruction of U2 using new angel\n",
    "        U1_map_app = matrix_reconstruct(new_Theta1, new_Phi1, Low_idx1, High_idx1, Diag1, Permutation1, N)\n",
    "        # approximation accuracy\n",
    "        acc1_t = accuracy(U1_map,U1_map_app)\n",
    "        acc1.append(acc1_t)\n",
    "        \n",
    "        k = k+1\n",
    "        \n",
    "    acc1_mean = np.mean(acc1)\n",
    "    print(\"mean accuracy for U1:\", acc1_mean)    "
   ]
  },
  {
   "cell_type": "markdown",
   "id": "b5d5de89",
   "metadata": {},
   "source": [
    "Reduce counting"
   ]
  },
  {
   "cell_type": "code",
   "execution_count": null,
   "id": "bf9b6b62",
   "metadata": {
    "execution": {
     "iopub.execute_input": "2023-07-01T21:52:50.610170Z",
     "iopub.status.busy": "2023-07-01T21:52:50.609930Z",
     "iopub.status.idle": "2023-07-01T21:52:50.612263Z",
     "shell.execute_reply": "2023-07-01T21:52:50.611892Z"
    }
   },
   "outputs": [],
   "source": [
    "def count_numbers_less_than(numbers, threshold):\n",
    "    count = 0\n",
    "    for number in numbers:\n",
    "        if np.abs(number) < threshold:\n",
    "            count += 1\n",
    "    return count"
   ]
  },
  {
   "cell_type": "code",
   "execution_count": null,
   "id": "d522915f",
   "metadata": {},
   "outputs": [],
   "source": []
  },
  {
   "cell_type": "code",
   "execution_count": null,
   "id": "6d158e60",
   "metadata": {},
   "outputs": [],
   "source": [
    "def generate_random_graph(nodes, probability):\n",
    "    G = nx.Graph()\n",
    "    G.add_nodes_from(nodes)\n",
    "\n",
    "    for i in nodes:\n",
    "        for j in nodes:\n",
    "            if i != j and random.random() < probability:\n",
    "                G.add_edge(i, j)\n",
    "\n",
    "    return G"
   ]
  },
  {
   "cell_type": "code",
   "execution_count": null,
   "id": "9dbe65c5",
   "metadata": {},
   "outputs": [],
   "source": []
  },
  {
   "cell_type": "code",
   "execution_count": null,
   "id": "e0e28616",
   "metadata": {},
   "outputs": [],
   "source": []
  },
  {
   "cell_type": "code",
   "execution_count": null,
   "id": "cf6d23f6",
   "metadata": {},
   "outputs": [],
   "source": []
  },
  {
   "cell_type": "markdown",
   "id": "025467e1",
   "metadata": {},
   "source": [
    "Code for List"
   ]
  },
  {
   "cell_type": "code",
   "execution_count": null,
   "id": "fb7208b2",
   "metadata": {},
   "outputs": [],
   "source": [
    "List = [[] for _ in range(500)]\n",
    "\n",
    "# List[i] = list_orderi\n",
    "for i in range(499, -1, -1):\n",
    "    for j in range(1, 500, 3):\n",
    "        List[i].append([j-1,j])\n",
    "        List[i].append([j+1,j])\n",
    "        List[i].append([j,j+3])\n",
    "        \n",
    "    \n",
    "    List[i] = List[i][:i+1]\n",
    "    \n",
    "    \n",
    "    if i%3 != 2:\n",
    "        last_item = List[i][-1]\n",
    "        last_item[0], last_item[1] = last_item[1], last_item[0]\n",
    "        List[i][-1] = last_item\n"
   ]
  },
  {
   "cell_type": "code",
   "execution_count": null,
   "id": "dd782afd",
   "metadata": {},
   "outputs": [],
   "source": []
  },
  {
   "cell_type": "code",
   "execution_count": null,
   "id": "87b7ca48",
   "metadata": {},
   "outputs": [],
   "source": [
    "dec_time = []\n",
    "total_time = []\n",
    "BS_reduce = []\n",
    "fidelity = []"
   ]
  },
  {
   "cell_type": "code",
   "execution_count": null,
   "id": "c3ad996c",
   "metadata": {},
   "outputs": [],
   "source": []
  },
  {
   "cell_type": "code",
   "execution_count": null,
   "id": "bf1c0ce7",
   "metadata": {},
   "outputs": [],
   "source": []
  },
  {
   "cell_type": "markdown",
   "id": "b5090fb6",
   "metadata": {},
   "source": [
    "500 scale"
   ]
  },
  {
   "cell_type": "code",
   "execution_count": null,
   "id": "9777b76e",
   "metadata": {},
   "outputs": [],
   "source": [
    "List_500 = List[:499]"
   ]
  },
  {
   "cell_type": "code",
   "execution_count": null,
   "id": "d092a242",
   "metadata": {},
   "outputs": [],
   "source": [
    "len_list_500 = [167]\n",
    "for i in range(333):\n",
    "    len_list_500.append(1)"
   ]
  },
  {
   "cell_type": "code",
   "execution_count": null,
   "id": "f6c43457",
   "metadata": {},
   "outputs": [],
   "source": []
  },
  {
   "cell_type": "code",
   "execution_count": null,
   "id": "c5b86460",
   "metadata": {},
   "outputs": [],
   "source": [
    "# Loading the CSV file back into a numpy array\n",
    "U = np.loadtxt('500_U5.csv', delimiter=',', dtype=complex)"
   ]
  },
  {
   "cell_type": "code",
   "execution_count": null,
   "id": "80b900ab",
   "metadata": {},
   "outputs": [],
   "source": [
    "start_time = time.time()\n",
    "U_map, col_per_matrix, row_per_matrix = mapping(U ,len_list_500, 167)\n",
    "end_time = time.time()\n",
    "execution_time1 = end_time - start_time\n",
    "start_time = time.time()\n",
    "_, Theta, Phi, Low_idx, High_idx, Diag, Permutation = U_decompose_plus(U_map, List_500)\n",
    "end_time = time.time()\n",
    "execution_time2 = end_time - start_time\n",
    "print(execution_time2)"
   ]
  },
  {
   "cell_type": "code",
   "execution_count": null,
   "id": "91384154",
   "metadata": {},
   "outputs": [],
   "source": [
    "start_time = time.time()\n",
    "new_Theta = make_entries_zero(Theta, 0.045)\n",
    "U_app = matrix_reconstruct(new_Theta, Phi, Low_idx, High_idx, Diag, Permutation, 500)\n",
    "end_time = time.time()\n",
    "execution_time3 = end_time - start_time\n",
    "# print(np.count_nonzero(new_Theta))\n",
    "gate_r = (1-np.count_nonzero(new_Theta)/len(Theta))\n",
    "f = accuracy(U_map,U_app)"
   ]
  },
  {
   "cell_type": "code",
   "execution_count": null,
   "id": "1cf6ac9f",
   "metadata": {},
   "outputs": [],
   "source": [
    "execution_time = execution_time1+execution_time2+execution_time3\n",
    "print(execution_time)"
   ]
  },
  {
   "cell_type": "code",
   "execution_count": null,
   "id": "280dbfd2",
   "metadata": {},
   "outputs": [],
   "source": [
    "BS_reduce.append(gate_r)\n",
    "fidelity.append(f)\n",
    "dec_time.append(execution_time2)\n",
    "total_time.append(execution_time)"
   ]
  },
  {
   "cell_type": "code",
   "execution_count": null,
   "id": "9a3b2bf8",
   "metadata": {},
   "outputs": [],
   "source": []
  },
  {
   "cell_type": "code",
   "execution_count": null,
   "id": "49ef6c44",
   "metadata": {},
   "outputs": [],
   "source": []
  },
  {
   "cell_type": "markdown",
   "id": "7a559133",
   "metadata": {},
   "source": [
    "200 scale"
   ]
  },
  {
   "cell_type": "code",
   "execution_count": null,
   "id": "cdaf21d1",
   "metadata": {},
   "outputs": [],
   "source": [
    "List_200 = List[:199]"
   ]
  },
  {
   "cell_type": "code",
   "execution_count": null,
   "id": "37e3ac1b",
   "metadata": {},
   "outputs": [],
   "source": [
    "len_list_200 = [67]\n",
    "for i in range(133):\n",
    "    len_list_200.append(1)"
   ]
  },
  {
   "cell_type": "code",
   "execution_count": null,
   "id": "0b8f5e7c",
   "metadata": {},
   "outputs": [],
   "source": []
  },
  {
   "cell_type": "code",
   "execution_count": null,
   "id": "39e914e2",
   "metadata": {},
   "outputs": [],
   "source": [
    "# Loading the CSV file back into a numpy array\n",
    "U = np.loadtxt('200_U3.csv', delimiter=',', dtype=complex)"
   ]
  },
  {
   "cell_type": "code",
   "execution_count": null,
   "id": "5435e36a",
   "metadata": {},
   "outputs": [],
   "source": [
    "start_time = time.time()\n",
    "U_map, col_per_matrix, row_per_matrix = mapping(U ,len_list_200, 67)\n",
    "end_time = time.time()\n",
    "execution_time1 = end_time - start_time\n",
    "start_time = time.time()\n",
    "_, Theta, Phi, Low_idx, High_idx, Diag, Permutation = U_decompose_plus(U_map, List_200)\n",
    "end_time = time.time()\n",
    "execution_time2 = end_time - start_time\n",
    "print(execution_time2)"
   ]
  },
  {
   "cell_type": "code",
   "execution_count": null,
   "id": "a22164eb",
   "metadata": {},
   "outputs": [],
   "source": [
    "start_time = time.time()\n",
    "new_Theta = make_entries_zero(Theta, 0.072)\n",
    "U_app = matrix_reconstruct(new_Theta, Phi, Low_idx, High_idx, Diag, Permutation, 200)\n",
    "end_time = time.time()\n",
    "execution_time3 = end_time - start_time\n",
    "# print(np.count_nonzero(new_Theta))\n",
    "gate_r = (1-np.count_nonzero(new_Theta)/len(Theta))\n",
    "f = accuracy(U_map,U_app)"
   ]
  },
  {
   "cell_type": "code",
   "execution_count": null,
   "id": "bba7b420",
   "metadata": {},
   "outputs": [],
   "source": [
    "execution_time = execution_time1+execution_time2+execution_time3\n",
    "print(execution_time)"
   ]
  },
  {
   "cell_type": "code",
   "execution_count": null,
   "id": "db6d952b",
   "metadata": {},
   "outputs": [],
   "source": [
    "BS_reduce.append(gate_r)\n",
    "fidelity.append(f)\n",
    "dec_time.append(execution_time2)\n",
    "total_time.append(execution_time)"
   ]
  },
  {
   "cell_type": "code",
   "execution_count": null,
   "id": "b1898655",
   "metadata": {},
   "outputs": [],
   "source": []
  },
  {
   "cell_type": "code",
   "execution_count": null,
   "id": "5f54def2",
   "metadata": {},
   "outputs": [],
   "source": []
  },
  {
   "cell_type": "code",
   "execution_count": null,
   "id": "c7f3d95d",
   "metadata": {},
   "outputs": [],
   "source": []
  },
  {
   "cell_type": "markdown",
   "id": "32a205df",
   "metadata": {},
   "source": [
    "100 scale"
   ]
  },
  {
   "cell_type": "code",
   "execution_count": null,
   "id": "b7c53626",
   "metadata": {},
   "outputs": [],
   "source": [
    "List_100 = List[:99]"
   ]
  },
  {
   "cell_type": "code",
   "execution_count": null,
   "id": "6714af28",
   "metadata": {},
   "outputs": [],
   "source": [
    "List_100[-1][-1][-1]=99"
   ]
  },
  {
   "cell_type": "code",
   "execution_count": null,
   "id": "13729fcc",
   "metadata": {},
   "outputs": [],
   "source": [
    "len_list_100 = [34]\n",
    "for i in range(66):\n",
    "    len_list_100.append(1)"
   ]
  },
  {
   "cell_type": "code",
   "execution_count": null,
   "id": "47141cbe",
   "metadata": {},
   "outputs": [],
   "source": []
  },
  {
   "cell_type": "code",
   "execution_count": null,
   "id": "678bd6fe",
   "metadata": {},
   "outputs": [],
   "source": [
    "# Loading the CSV file back into a numpy array\n",
    "U = np.loadtxt('100_U1.csv', delimiter=',', dtype=complex)"
   ]
  },
  {
   "cell_type": "code",
   "execution_count": null,
   "id": "e8582953",
   "metadata": {},
   "outputs": [],
   "source": [
    "start_time = time.time()\n",
    "U_map, col_per_matrix, row_per_matrix = mapping(U ,len_list_100, 34)\n",
    "end_time = time.time()\n",
    "execution_time1 = end_time - start_time\n",
    "start_time = time.time()\n",
    "_, Theta, Phi, Low_idx, High_idx, Diag, Permutation = U_decompose_plus(U_map, List_100)\n",
    "end_time = time.time()\n",
    "execution_time2 = end_time - start_time\n",
    "print(execution_time2)"
   ]
  },
  {
   "cell_type": "code",
   "execution_count": null,
   "id": "48f3ad91",
   "metadata": {},
   "outputs": [],
   "source": [
    "start_time = time.time()\n",
    "new_Theta = make_entries_zero(Theta, 0.105)\n",
    "U_app = matrix_reconstruct(new_Theta, Phi, Low_idx, High_idx, Diag, Permutation, 100)\n",
    "end_time = time.time()\n",
    "execution_time3 = end_time - start_time\n",
    "# print(np.count_nonzero(new_Theta))\n",
    "gate_r = (1-np.count_nonzero(new_Theta)/len(Theta))\n",
    "f = accuracy(U_map,U_app)"
   ]
  },
  {
   "cell_type": "code",
   "execution_count": null,
   "id": "e0f92b54",
   "metadata": {},
   "outputs": [],
   "source": [
    "execution_time = execution_time1+execution_time2+execution_time3\n",
    "print(execution_time)"
   ]
  },
  {
   "cell_type": "code",
   "execution_count": null,
   "id": "9e45711b",
   "metadata": {},
   "outputs": [],
   "source": [
    "BS_reduce.append(gate_r)\n",
    "fidelity.append(f)\n",
    "dec_time.append(execution_time2)\n",
    "total_time.append(execution_time)"
   ]
  },
  {
   "cell_type": "code",
   "execution_count": null,
   "id": "5c9c9c3d",
   "metadata": {},
   "outputs": [],
   "source": [
    "print(BS_reduce)"
   ]
  },
  {
   "cell_type": "code",
   "execution_count": null,
   "id": "1807395d",
   "metadata": {},
   "outputs": [],
   "source": []
  },
  {
   "cell_type": "code",
   "execution_count": null,
   "id": "2dcd98e1",
   "metadata": {},
   "outputs": [],
   "source": []
  },
  {
   "cell_type": "markdown",
   "id": "9631b002",
   "metadata": {},
   "source": [
    "60 scale"
   ]
  },
  {
   "cell_type": "code",
   "execution_count": null,
   "id": "5573495f",
   "metadata": {},
   "outputs": [],
   "source": [
    "List_60 = List[:59]"
   ]
  },
  {
   "cell_type": "code",
   "execution_count": null,
   "id": "15780d8c",
   "metadata": {},
   "outputs": [],
   "source": [
    "len_list_60 = [20]\n",
    "for i in range(40):\n",
    "    len_list_60.append(1)"
   ]
  },
  {
   "cell_type": "code",
   "execution_count": null,
   "id": "b726161a",
   "metadata": {},
   "outputs": [],
   "source": []
  },
  {
   "cell_type": "code",
   "execution_count": null,
   "id": "60f67fe9",
   "metadata": {},
   "outputs": [],
   "source": [
    "# Loading the CSV file back into a numpy array\n",
    "U = np.loadtxt('60_U1.csv', delimiter=',', dtype=complex)"
   ]
  },
  {
   "cell_type": "code",
   "execution_count": null,
   "id": "fd9ea834",
   "metadata": {},
   "outputs": [],
   "source": [
    "start_time = time.time()\n",
    "U_map, col_per_matrix, row_per_matrix = mapping(U ,len_list_60, 20)\n",
    "end_time = time.time()\n",
    "execution_time1 = end_time - start_time\n",
    "start_time = time.time()\n",
    "_, Theta, Phi, Low_idx, High_idx, Diag, Permutation = U_decompose_plus(U_map, List_60)\n",
    "end_time = time.time()\n",
    "execution_time2 = end_time - start_time\n",
    "print(execution_time2)"
   ]
  },
  {
   "cell_type": "code",
   "execution_count": null,
   "id": "2b422e49",
   "metadata": {},
   "outputs": [],
   "source": [
    "start_time = time.time()\n",
    "new_Theta = make_entries_zero(Theta, 0.143)\n",
    "U_app = matrix_reconstruct(new_Theta, Phi, Low_idx, High_idx, Diag, Permutation, 60)\n",
    "end_time = time.time()\n",
    "execution_time3 = end_time - start_time\n",
    "# print(np.count_nonzero(new_Theta))\n",
    "gate_r = (1-np.count_nonzero(new_Theta)/len(Theta))\n",
    "f = accuracy(U_map,U_app)"
   ]
  },
  {
   "cell_type": "code",
   "execution_count": null,
   "id": "8aa78ea7",
   "metadata": {},
   "outputs": [],
   "source": [
    "execution_time = execution_time1+execution_time2+execution_time3\n",
    "print(execution_time)"
   ]
  },
  {
   "cell_type": "code",
   "execution_count": null,
   "id": "9b85d1fd",
   "metadata": {},
   "outputs": [],
   "source": [
    "BS_reduce.append(gate_r)\n",
    "fidelity.append(f)\n",
    "dec_time.append(execution_time2)\n",
    "total_time.append(execution_time)"
   ]
  },
  {
   "cell_type": "code",
   "execution_count": null,
   "id": "79cc5583",
   "metadata": {},
   "outputs": [],
   "source": []
  },
  {
   "cell_type": "code",
   "execution_count": null,
   "id": "f5959a2a",
   "metadata": {},
   "outputs": [],
   "source": []
  },
  {
   "cell_type": "code",
   "execution_count": null,
   "id": "ad42c399",
   "metadata": {},
   "outputs": [],
   "source": []
  },
  {
   "cell_type": "markdown",
   "id": "6645ccdd",
   "metadata": {},
   "source": [
    "20 scale"
   ]
  },
  {
   "cell_type": "code",
   "execution_count": null,
   "id": "41bebfb6",
   "metadata": {},
   "outputs": [],
   "source": [
    "List_20 = List[:19]"
   ]
  },
  {
   "cell_type": "code",
   "execution_count": null,
   "id": "9b1fd2dc",
   "metadata": {},
   "outputs": [],
   "source": [
    "len_list_20 = [7]\n",
    "for i in range(13):\n",
    "    len_list_20.append(1)"
   ]
  },
  {
   "cell_type": "code",
   "execution_count": null,
   "id": "7fc7ff4f",
   "metadata": {},
   "outputs": [],
   "source": []
  },
  {
   "cell_type": "code",
   "execution_count": null,
   "id": "5060b8f3",
   "metadata": {},
   "outputs": [],
   "source": [
    "# Loading the CSV file back into a numpy array\n",
    "U = np.loadtxt('20_U1.csv', delimiter=',', dtype=complex)"
   ]
  },
  {
   "cell_type": "code",
   "execution_count": null,
   "id": "c429ed64",
   "metadata": {},
   "outputs": [],
   "source": [
    "start_time = time.time()\n",
    "U_map, col_per_matrix, row_per_matrix = mapping(U ,len_list_20, 7)\n",
    "end_time = time.time()\n",
    "execution_time1 = end_time - start_time\n",
    "start_time = time.time()\n",
    "_, Theta, Phi, Low_idx, High_idx, Diag, Permutation = U_decompose_plus(U_map, List_20)\n",
    "end_time = time.time()\n",
    "execution_time2 = end_time - start_time\n",
    "print(execution_time2)"
   ]
  },
  {
   "cell_type": "code",
   "execution_count": null,
   "id": "bdf37b4c",
   "metadata": {},
   "outputs": [],
   "source": [
    "start_time = time.time()\n",
    "new_Theta = make_entries_zero(Theta, 0.25)\n",
    "U_app = matrix_reconstruct(new_Theta, Phi, Low_idx, High_idx, Diag, Permutation, 20)\n",
    "end_time = time.time()\n",
    "execution_time3 = end_time - start_time\n",
    "# print(np.count_nonzero(new_Theta))\n",
    "gate_r = (1-np.count_nonzero(new_Theta)/len(Theta))\n",
    "f = accuracy(U_map,U_app)"
   ]
  },
  {
   "cell_type": "code",
   "execution_count": null,
   "id": "9b1fce38",
   "metadata": {},
   "outputs": [],
   "source": [
    "execution_time = execution_time1+execution_time2+execution_time3\n",
    "print(execution_time)"
   ]
  },
  {
   "cell_type": "code",
   "execution_count": null,
   "id": "0f54501e",
   "metadata": {},
   "outputs": [],
   "source": [
    "BS_reduce.append(gate_r)\n",
    "fidelity.append(f)\n",
    "dec_time.append(execution_time2)\n",
    "total_time.append(execution_time)"
   ]
  },
  {
   "cell_type": "code",
   "execution_count": null,
   "id": "b9555869",
   "metadata": {},
   "outputs": [],
   "source": []
  },
  {
   "cell_type": "code",
   "execution_count": null,
   "id": "ccc5a690",
   "metadata": {},
   "outputs": [],
   "source": []
  },
  {
   "cell_type": "code",
   "execution_count": null,
   "id": "4a130a1e",
   "metadata": {},
   "outputs": [],
   "source": []
  },
  {
   "cell_type": "markdown",
   "id": "a89c9a71",
   "metadata": {},
   "source": [
    "15 scale"
   ]
  },
  {
   "cell_type": "code",
   "execution_count": null,
   "id": "38ba9a77",
   "metadata": {},
   "outputs": [],
   "source": [
    "List_15 = List[:14]"
   ]
  },
  {
   "cell_type": "code",
   "execution_count": null,
   "id": "4ee1c4f2",
   "metadata": {},
   "outputs": [],
   "source": [
    "len_list_15 = [5]\n",
    "for i in range(10):\n",
    "    len_list_15.append(1)"
   ]
  },
  {
   "cell_type": "code",
   "execution_count": null,
   "id": "34b20250",
   "metadata": {},
   "outputs": [],
   "source": [
    "# Loading the CSV file back into a numpy array\n",
    "U = np.loadtxt('15_U2.csv', delimiter=',', dtype=complex)"
   ]
  },
  {
   "cell_type": "code",
   "execution_count": null,
   "id": "4ebce887",
   "metadata": {},
   "outputs": [],
   "source": [
    "start_time = time.time()\n",
    "U_map, col_per_matrix, row_per_matrix = mapping(U ,len_list_15, 5)\n",
    "end_time = time.time()\n",
    "execution_time1 = end_time - start_time\n",
    "start_time = time.time()\n",
    "_, Theta, Phi, Low_idx, High_idx, Diag, Permutation = U_decompose_plus(U_map, List_15)\n",
    "end_time = time.time()\n",
    "execution_time2 = end_time - start_time\n",
    "print(execution_time2)"
   ]
  },
  {
   "cell_type": "code",
   "execution_count": null,
   "id": "d2a12779",
   "metadata": {},
   "outputs": [],
   "source": [
    "start_time = time.time()\n",
    "new_Theta = make_entries_zero(Theta, 0.405)\n",
    "U_app = matrix_reconstruct(new_Theta, Phi, Low_idx, High_idx, Diag, Permutation, 15)\n",
    "end_time = time.time()\n",
    "execution_time3 = end_time - start_time\n",
    "# print(np.count_nonzero(new_Theta))\n",
    "gate_r = (1-np.count_nonzero(new_Theta)/len(Theta))\n",
    "f = accuracy(U_map,U_app)"
   ]
  },
  {
   "cell_type": "code",
   "execution_count": null,
   "id": "9979c7df",
   "metadata": {},
   "outputs": [],
   "source": [
    "execution_time = execution_time1+execution_time2+execution_time3\n",
    "print(execution_time)"
   ]
  },
  {
   "cell_type": "code",
   "execution_count": null,
   "id": "13dfa05b",
   "metadata": {},
   "outputs": [],
   "source": [
    "BS_reduce.append(gate_r)\n",
    "fidelity.append(f)\n",
    "dec_time.append(execution_time2)\n",
    "total_time.append(execution_time)"
   ]
  },
  {
   "cell_type": "code",
   "execution_count": null,
   "id": "edb83657",
   "metadata": {},
   "outputs": [],
   "source": []
  },
  {
   "cell_type": "code",
   "execution_count": null,
   "id": "3bcddb21",
   "metadata": {},
   "outputs": [],
   "source": []
  },
  {
   "cell_type": "code",
   "execution_count": null,
   "id": "99c01acc",
   "metadata": {},
   "outputs": [],
   "source": []
  },
  {
   "cell_type": "markdown",
   "id": "859b934f",
   "metadata": {},
   "source": [
    "10 scale"
   ]
  },
  {
   "cell_type": "code",
   "execution_count": null,
   "id": "51f0c422",
   "metadata": {},
   "outputs": [],
   "source": [
    "List_10 = List[:9]"
   ]
  },
  {
   "cell_type": "code",
   "execution_count": null,
   "id": "915c3e31",
   "metadata": {},
   "outputs": [],
   "source": [
    "List_10[-1][-1][-1]=9"
   ]
  },
  {
   "cell_type": "code",
   "execution_count": null,
   "id": "712c1005",
   "metadata": {},
   "outputs": [],
   "source": [
    "len_list_10 = [4]\n",
    "for i in range(6):\n",
    "    len_list_10.append(1)"
   ]
  },
  {
   "cell_type": "code",
   "execution_count": null,
   "id": "2e97e6da",
   "metadata": {},
   "outputs": [],
   "source": []
  },
  {
   "cell_type": "code",
   "execution_count": null,
   "id": "d0f108be",
   "metadata": {},
   "outputs": [],
   "source": [
    "# Loading the CSV file back into a numpy array\n",
    "U = np.loadtxt('10_U1.csv', delimiter=',', dtype=complex)"
   ]
  },
  {
   "cell_type": "code",
   "execution_count": null,
   "id": "fd0c105a",
   "metadata": {},
   "outputs": [],
   "source": [
    "start_time = time.time()\n",
    "U_map, col_per_matrix, row_per_matrix = mapping(U ,len_list_10, 4)\n",
    "end_time = time.time()\n",
    "execution_time1 = end_time - start_time\n",
    "start_time = time.time()\n",
    "_, Theta, Phi, Low_idx, High_idx, Diag, Permutation = U_decompose_plus(U_map, List_10)\n",
    "end_time = time.time()\n",
    "execution_time2 = end_time - start_time\n",
    "print(execution_time2)"
   ]
  },
  {
   "cell_type": "code",
   "execution_count": null,
   "id": "cf84e0f0",
   "metadata": {},
   "outputs": [],
   "source": [
    "start_time = time.time()\n",
    "new_Theta = make_entries_zero(Theta, 0.65)\n",
    "U_app = matrix_reconstruct(new_Theta, Phi, Low_idx, High_idx, Diag, Permutation, 10)\n",
    "end_time = time.time()\n",
    "execution_time3 = end_time - start_time\n",
    "# print(np.count_nonzero(new_Theta))\n",
    "gate_r = (1-np.count_nonzero(new_Theta)/len(Theta))\n",
    "f = accuracy(U_map,U_app)"
   ]
  },
  {
   "cell_type": "code",
   "execution_count": null,
   "id": "00c5ee10",
   "metadata": {},
   "outputs": [],
   "source": [
    "execution_time = execution_time1+execution_time2+execution_time3\n",
    "print(execution_time)"
   ]
  },
  {
   "cell_type": "code",
   "execution_count": null,
   "id": "afb0332c",
   "metadata": {},
   "outputs": [],
   "source": [
    "BS_reduce.append(gate_r)\n",
    "fidelity.append(f)\n",
    "dec_time.append(execution_time2)\n",
    "total_time.append(execution_time)"
   ]
  },
  {
   "cell_type": "code",
   "execution_count": null,
   "id": "b4f96eab",
   "metadata": {},
   "outputs": [],
   "source": []
  },
  {
   "cell_type": "code",
   "execution_count": null,
   "id": "00795e0a",
   "metadata": {},
   "outputs": [],
   "source": [
    "print(total_time)"
   ]
  },
  {
   "cell_type": "code",
   "execution_count": null,
   "id": "03062a52",
   "metadata": {},
   "outputs": [],
   "source": [
    "scale = [500, 200, 100, 60, 20, 15, 10]"
   ]
  },
  {
   "cell_type": "code",
   "execution_count": null,
   "id": "05de2f89",
   "metadata": {},
   "outputs": [],
   "source": [
    "scale.insert(0, 'Qumode#')\n",
    "BS_reduce.insert(0, 'BS Gate# drop')\n",
    "dec_time.insert(0, 'Decomp time')\n",
    "total_time.insert(0, 'Total time')\n",
    "fidelity.insert(0, 'Fidelity')"
   ]
  },
  {
   "cell_type": "code",
   "execution_count": null,
   "id": "03e9570e",
   "metadata": {},
   "outputs": [],
   "source": [
    "result = [list(row) for row in zip(scale, BS_reduce, dec_time, total_time, fidelity)]"
   ]
  },
  {
   "cell_type": "code",
   "execution_count": null,
   "id": "800d055a",
   "metadata": {},
   "outputs": [],
   "source": [
    "# Specify the file name\n",
    "file_name = 'Table 3.csv'\n",
    "\n",
    "# Write the combined list to a CSV file\n",
    "with open(file_name, mode='w', newline='') as file:\n",
    "    writer = csv.writer(file)\n",
    "    writer.writerows(result)"
   ]
  },
  {
   "cell_type": "code",
   "execution_count": null,
   "id": "c6083302",
   "metadata": {},
   "outputs": [],
   "source": []
  }
 ],
 "metadata": {
  "kernelspec": {
   "display_name": "Python 3 (ipykernel)",
   "language": "python",
   "name": "python3"
  },
  "language_info": {
   "codemirror_mode": {
    "name": "ipython",
    "version": 3
   },
   "file_extension": ".py",
   "mimetype": "text/x-python",
   "name": "python",
   "nbconvert_exporter": "python",
   "pygments_lexer": "ipython3",
   "version": "3.9.13"
  }
 },
 "nbformat": 4,
 "nbformat_minor": 5
}
