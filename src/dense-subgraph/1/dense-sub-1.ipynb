{
 "cells": [
  {
   "cell_type": "code",
   "execution_count": 2,
   "id": "5dcb7fa3",
   "metadata": {},
   "outputs": [],
   "source": [
    "import os\n",
    "default_n_threads = 8\n",
    "os.environ['OPENBLAS_NUM_THREADS'] = f\"{default_n_threads}\""
   ]
  },
  {
   "cell_type": "code",
   "execution_count": 3,
   "id": "85fb3a3d",
   "metadata": {
    "execution": {
     "iopub.execute_input": "2023-08-01T16:39:28.154921Z",
     "iopub.status.busy": "2023-08-01T16:39:28.154598Z",
     "iopub.status.idle": "2023-08-01T16:39:29.121904Z",
     "shell.execute_reply": "2023-08-01T16:39:29.121342Z"
    }
   },
   "outputs": [
    {
     "data": {
      "text/plain": [
       "131072"
      ]
     },
     "execution_count": 3,
     "metadata": {},
     "output_type": "execute_result"
    }
   ],
   "source": [
    "import csv\n",
    "import ast\n",
    "import time\n",
    "import random\n",
    "import numpy as np\n",
    "import networkx as nx\n",
    "import strawberryfields as sf\n",
    "import matplotlib.pyplot as plt\n",
    "from scipy.optimize import fsolve\n",
    "from strawberryfields import ops\n",
    "from itertools import combinations\n",
    "from strawberryfields.apps import data, sample, subgraph, plot, qchem\n",
    "from strawberryfields.apps.similarity import feature_vector_orbits_sampling\n",
    "from strawberryfields.utils import random_interferometer\n",
    "from collections import Counter\n",
    "csv.field_size_limit(500 * 1024 * 1024)"
   ]
  },
  {
   "cell_type": "markdown",
   "id": "2ba78470",
   "metadata": {},
   "source": [
    "Step1: Mapping"
   ]
  },
  {
   "cell_type": "code",
   "execution_count": 4,
   "id": "61e53b11",
   "metadata": {
    "execution": {
     "iopub.execute_input": "2023-08-01T16:39:29.124716Z",
     "iopub.status.busy": "2023-08-01T16:39:29.124321Z",
     "iopub.status.idle": "2023-08-01T16:39:29.128438Z",
     "shell.execute_reply": "2023-08-01T16:39:29.127986Z"
    }
   },
   "outputs": [],
   "source": [
    "# function that take a raw matrix and k (number of columns) and n (the nth number you want to compare) value in, return the best k columns\n",
    "def find_best_k_combination(matrix, k, n):\n",
    "    # get all possible combination\n",
    "    num_columns = matrix.shape[1]\n",
    "    column_combinations = combinations(range(num_columns), k)\n",
    "        \n",
    "#     column_combinations = get_column_combinations(matrix, k)\n",
    "    \n",
    "    strength = []\n",
    "    Combination = []\n",
    "\n",
    "    for combination in column_combinations:\n",
    "        Combination.append(combination)\n",
    "        selected_columns = matrix[:, combination]\n",
    "        # calculate the row abs square sum\n",
    "        row_sums = np.sum(np.abs(selected_columns) ** 2, axis=1)\n",
    "        # make it decrease\n",
    "        sorted_indices = np.argsort(row_sums)[::-1]\n",
    "        sorted_row_sums = row_sums[sorted_indices]\n",
    "        val = sorted_row_sums[n-1]\n",
    "        strength.append(val)\n",
    "\n",
    "    largest_value = np.max(strength)\n",
    "    largest_index = np.argmax(strength)\n",
    "\n",
    "    # find the best combination\n",
    "    best_combination = Combination[largest_index]\n",
    "    best_selected_columns = matrix[:, best_combination]\n",
    "\n",
    "    return best_selected_columns"
   ]
  },
  {
   "cell_type": "code",
   "execution_count": 5,
   "id": "eacea0bc",
   "metadata": {
    "execution": {
     "iopub.execute_input": "2023-08-01T16:39:29.130388Z",
     "iopub.status.busy": "2023-08-01T16:39:29.130046Z",
     "iopub.status.idle": "2023-08-01T16:39:29.138143Z",
     "shell.execute_reply": "2023-08-01T16:39:29.137669Z"
    }
   },
   "outputs": [],
   "source": [
    "# final function, recieve the original matrix and a list of len, also n (the nth number you want to compare), return the permuted matrix\n",
    "# U = row_per_matrix*U'*col_per_matrix\n",
    "def mapping(U, len_list, n):\n",
    "    \n",
    "    M, N = U.shape\n",
    "    total_len = sum(len_list)\n",
    "    assert N == total_len\n",
    "    \n",
    "    # copy U\n",
    "    U_t = U.copy()\n",
    "#     print(U)\n",
    "    \n",
    "    # new column permutation\n",
    "    for i, length in enumerate(len_list):\n",
    "        if i<len(len_list)-1:\n",
    "            U_new = U_t[:,:length].copy()\n",
    "#             print(\"i:\", i)\n",
    "            # calculate the row abs square sum\n",
    "            row_sums = np.sum(np.abs(U_new) ** 2, axis=1)\n",
    "            U_new_update = U_new.copy()\n",
    "            # iterate remain column\n",
    "            for j in range(np.sum(len_list[i+1:])):\n",
    "#                 print(\"j:\", j)\n",
    "                for k in range(length):\n",
    "#                     print(\"k:\", k)\n",
    "                    U_new_update_k = U_new_update[:,k].copy()\n",
    "                    U_new_update[:,k] = U_t[:,length+j].copy()\n",
    "                    # calculate the row abs square sum\n",
    "                    row_sums_update = np.sum(np.abs(U_new_update) ** 2, axis=1)\n",
    "                \n",
    "                    if np.sort(row_sums_update)[::-1][n-1] > np.sort(row_sums)[::-1][n-1]:\n",
    "#                     row_sums_update[n-1] > row_sums[n-1]:\n",
    "                        U_new = U_new_update.copy()\n",
    "                        U_t[:,length+j] = U_new_update_k.copy()\n",
    "                        U_t[:,:length] = U_new.copy()\n",
    "                        row_sums = row_sums_update\n",
    "                    else:\n",
    "                        U_new_update = U_new.copy()\n",
    "\n",
    "            \n",
    "            # add U_new to U_per\n",
    "            if i==0:\n",
    "                U_per = U_new.copy()\n",
    "            elif i==len(len_list)-2:\n",
    "                U_per = np.hstack((U_per, U_t)).copy()\n",
    "            else:\n",
    "                U_per = np.hstack((U_per, U_new)).copy()\n",
    "\n",
    "            \n",
    "            # drop U_new from U_t\n",
    "            U_t = U_t[:,length:].copy()\n",
    "        \n",
    "                    \n",
    "\n",
    "#     for i, length in enumerate(len_list):\n",
    "#         U_new = find_best_k_combination(U_t, length, n)\n",
    "        \n",
    "#         # Find column indices in the larger matrix corresponding to the smaller matrix\n",
    "#         selected_columns = []\n",
    "#         for col in range(U_new.shape[1]):\n",
    "#             for j in range(U_t.shape[1]):\n",
    "#                 if np.array_equal(U_new[:, col], U_t[:, j]):\n",
    "#                     selected_columns.append(j)\n",
    "#                     break\n",
    "\n",
    "#         # drop U_new from U_t\n",
    "#         U_t = np.delete(U_t, selected_columns, axis=1)\n",
    "        \n",
    "#         # add U_new to U_per\n",
    "#         if i==0:\n",
    "#             U_per = U_new\n",
    "#         else:\n",
    "#             U_per = np.hstack((U_per, U_new))\n",
    "      \n",
    "      \n",
    "    # find the permutation from U_per to U\n",
    "    col_permutation = []\n",
    "    for col in range(U_per.shape[1]):\n",
    "        for i in range(U.shape[1]):\n",
    "            if np.array_equal(U_per[:, col], U[:, i]):\n",
    "                col_permutation.append(i)\n",
    "                break\n",
    "                \n",
    "    # find the columns permutation matrix\n",
    "    col_per_matrix = np.zeros((N, N))\n",
    "    for i in range(N):\n",
    "        col_per_matrix[col_permutation[i], i] = 1\n",
    "        \n",
    "\n",
    "\n",
    "    # calculate the sum of first len for U_per\n",
    "    selected_columns = U_per[:, :len_list[0]] \n",
    "    # calculate the row abs square sum\n",
    "    row_sums = np.sum(np.abs(selected_columns) ** 2, axis=1)\n",
    "    \n",
    "    # decide the row rotation\n",
    "    sorted_indices = np.argsort(row_sums)\n",
    "    U_per_new = U_per[sorted_indices]\n",
    "    \n",
    "    # Find row permutation\n",
    "    row_permutation = []\n",
    "    for row in range(U_per_new.shape[0]):\n",
    "        for i in range(U_per.shape[0]):\n",
    "            if np.array_equal(U_per_new[row, :], U_per[i, :]):\n",
    "                row_permutation.append(i)\n",
    "                break\n",
    "                \n",
    "    # find the rows permutation matrix\n",
    "    row_per_matrix = np.zeros((M, M))\n",
    "    for i in range(M):\n",
    "        row_per_matrix[i, row_permutation[i]] = 1\n",
    "        \n",
    "    \n",
    "    U_final = U_per_new\n",
    "    \n",
    "    # U_final = U_per, out put U_final and the permutation\n",
    "    return U_final, col_per_matrix.T, row_per_matrix.T"
   ]
  },
  {
   "cell_type": "markdown",
   "id": "548f1c1d",
   "metadata": {},
   "source": [
    "Step2: Matrix Decomposition"
   ]
  },
  {
   "cell_type": "code",
   "execution_count": 6,
   "id": "a82af31b",
   "metadata": {
    "execution": {
     "iopub.execute_input": "2023-08-01T16:39:29.140231Z",
     "iopub.status.busy": "2023-08-01T16:39:29.139870Z",
     "iopub.status.idle": "2023-08-01T16:39:29.145012Z",
     "shell.execute_reply": "2023-08-01T16:39:29.144580Z"
    }
   },
   "outputs": [],
   "source": [
    "# Define the left eliminate equations\n",
    "def left_equations(variables,parameters):\n",
    "    theta, phi = variables\n",
    "    a_r, a_i, b_r, b_i = parameters\n",
    "    eq1 = a_r * np.cos(phi) * np.cos(theta) + a_i * np.sin(phi) * np.cos(theta) - b_r * np.sin(theta)\n",
    "    eq2 = a_i * np.cos(phi) * np.cos(theta) - a_r * np.sin(phi) * np.cos(theta) - b_i * np.sin(theta)\n",
    "    return [eq1, eq2]\n",
    "\n",
    "# function of left elimination\n",
    "def left_elimination(a,b):\n",
    "    a_r = np.real(a)\n",
    "    a_i = np.imag(a)\n",
    "    b_r = np.real(b)\n",
    "    b_i = np.imag(b)\n",
    "    \n",
    "    # Solve the system of equations\n",
    "    initial_guess = [0, 0]  # Initial guess for the variables\n",
    "    parameters = [a_r, a_i, b_r, b_i]\n",
    "    raw_solution = fsolve(left_equations, initial_guess, args=(parameters,))\n",
    "    \n",
    "    \n",
    "    if np.abs(a_r) < 1e-8 and np.abs(b_i) < 1e-8:\n",
    "            raw_solution = [np.arctan(a_i/b_r), np.pi/2]\n",
    "        \n",
    "    if np.abs(a_i) < 1e-8 and np.abs(b_r) < 1e-8:\n",
    "            raw_solution = [np.arctan(-a_r/b_i), np.pi/2]\n",
    "            \n",
    "            \n",
    "    if np.abs(b_r) < 1e-8 and np.abs(b_i) < 1e-8:\n",
    "            raw_solution = [np.pi/2, 0]\n",
    "    \n",
    "    \n",
    "    normalized_solution = [angle % (2 * np.pi) for angle in raw_solution]\n",
    "    solution = []\n",
    "    for angle in normalized_solution:\n",
    "        if angle < np.pi:\n",
    "            solution.append(angle)\n",
    "        else:\n",
    "            solution.append(angle-2*np.pi)\n",
    "\n",
    "    # Print the solution\n",
    "#     print(\"Solution:\", solution)\n",
    "    return solution"
   ]
  },
  {
   "cell_type": "code",
   "execution_count": 7,
   "id": "5493f4e2",
   "metadata": {
    "execution": {
     "iopub.execute_input": "2023-08-01T16:39:29.146989Z",
     "iopub.status.busy": "2023-08-01T16:39:29.146654Z",
     "iopub.status.idle": "2023-08-01T16:39:29.151807Z",
     "shell.execute_reply": "2023-08-01T16:39:29.151344Z"
    }
   },
   "outputs": [],
   "source": [
    "# Define the right eliminate equations\n",
    "def right_equations(variables,parameters):\n",
    "    theta, phi = variables\n",
    "    a_r, a_i, b_r, b_i = parameters\n",
    "    eq1 = a_r * np.cos(phi) * np.sin(theta) + a_i * np.sin(phi) * np.sin(theta) + b_r * np.cos(theta)\n",
    "    eq2 = a_i * np.cos(phi) * np.sin(theta) - a_r * np.sin(phi) * np.sin(theta) + b_i * np.cos(theta)\n",
    "    return [eq1, eq2]\n",
    "\n",
    "# function of right elimination\n",
    "def right_elimination(a,b):\n",
    "    a_r = np.real(a)\n",
    "    a_i = np.imag(a)\n",
    "    b_r = np.real(b)\n",
    "    b_i = np.imag(b)\n",
    "    \n",
    "    # Solve the system of equations\n",
    "    initial_guess = [0, 0]  # Initial guess for the variables\n",
    "    parameters = [a_r, a_i, b_r, b_i]\n",
    "    raw_solution = fsolve(right_equations, initial_guess, args=(parameters,))\n",
    "    \n",
    "    if np.abs(a_r) < 1e-8 and np.abs(b_i) < 1e-8:\n",
    "        raw_solution = [np.arctan(-b_r/a_i), np.pi/2]\n",
    "        \n",
    "    if np.abs(a_i) < 1e-8 and np.abs(b_r) < 1e-8:\n",
    "        raw_solution = [np.arctan(b_i/a_r), np.pi/2]\n",
    "        \n",
    "    if np.abs(a_r) < 1e-8 and np.abs(a_i) < 1e-8:\n",
    "        raw_solution = [np.pi/2, 0]\n",
    "    \n",
    "    normalized_solution = [angle % (2 * np.pi) for angle in raw_solution]\n",
    "    solution = []\n",
    "    for angle in normalized_solution:\n",
    "        if angle < np.pi:\n",
    "            solution.append(angle)\n",
    "        else:\n",
    "            solution.append(angle-2*np.pi)\n",
    "\n",
    "    # Print the solution\n",
    "#     print(\"Solution:\", solution)\n",
    "    return solution"
   ]
  },
  {
   "cell_type": "code",
   "execution_count": 8,
   "id": "68c8290b",
   "metadata": {
    "execution": {
     "iopub.execute_input": "2023-08-01T16:39:29.153614Z",
     "iopub.status.busy": "2023-08-01T16:39:29.153317Z",
     "iopub.status.idle": "2023-08-01T16:39:29.156440Z",
     "shell.execute_reply": "2023-08-01T16:39:29.155967Z"
    }
   },
   "outputs": [],
   "source": [
    "# give rotation matrix with idx_1 < idx_2\n",
    "def rotation(theta, phi, n, idx_1, idx_2):\n",
    "    I = np.eye(n, dtype=complex)\n",
    "    I[idx_1,idx_1] = np.cos(theta)*(np.cos(phi)-np.sin(phi)*1j)\n",
    "    I[idx_1,idx_2] = np.sin(theta)*(np.cos(phi)-np.sin(phi)*1j)\n",
    "    I[idx_2,idx_1] = -np.sin(theta)\n",
    "    I[idx_2,idx_2] = np.cos(theta)\n",
    "    \n",
    "    return I"
   ]
  },
  {
   "cell_type": "code",
   "execution_count": 9,
   "id": "d024604b",
   "metadata": {
    "execution": {
     "iopub.execute_input": "2023-08-01T16:39:29.158343Z",
     "iopub.status.busy": "2023-08-01T16:39:29.158016Z",
     "iopub.status.idle": "2023-08-01T16:39:29.161284Z",
     "shell.execute_reply": "2023-08-01T16:39:29.160874Z"
    }
   },
   "outputs": [],
   "source": [
    "# matrix permutation\n",
    "def permutation(U):\n",
    "    \n",
    "    rows, columns = U.shape\n",
    "    assert(rows==columns)\n",
    "    \n",
    "    # create the permutation matrix\n",
    "    Permutation = np.zeros([rows,columns])\n",
    "    \n",
    "    diag_U = np.eye(rows, dtype=complex)\n",
    "    \n",
    "    indices = np.nonzero(U)\n",
    "    row_info = indices[0]\n",
    "    col_info = indices[1]\n",
    "    \n",
    "    for i in range(rows):\n",
    "        col = col_info[i]\n",
    "        row = row_info[i]\n",
    "        diag_U[col,:] = U[row,:]\n",
    "        Permutation[col,row] = 1\n",
    "        \n",
    "    return diag_U, Permutation.T"
   ]
  },
  {
   "cell_type": "code",
   "execution_count": 10,
   "id": "d0854916",
   "metadata": {
    "execution": {
     "iopub.execute_input": "2023-08-01T16:39:29.163181Z",
     "iopub.status.busy": "2023-08-01T16:39:29.162865Z",
     "iopub.status.idle": "2023-08-01T16:39:29.165788Z",
     "shell.execute_reply": "2023-08-01T16:39:29.165381Z"
    }
   },
   "outputs": [],
   "source": [
    "def phase(x):\n",
    "    x_r = np.real(x)\n",
    "    x_i = np.imag(x)\n",
    "    \n",
    "    raw_phi = np.arccos(x_r)\n",
    "    if x_i > 0:\n",
    "        t_phi = raw_phi\n",
    "    else:\n",
    "        t_phi = -raw_phi\n",
    "        \n",
    "    normalized_solution = t_phi % (2 * np.pi)\n",
    "    if normalized_solution > np.pi:\n",
    "        normalized_solution = normalized_solution-2*np.pi\n",
    "\n",
    "    return normalized_solution"
   ]
  },
  {
   "cell_type": "code",
   "execution_count": 11,
   "id": "cff424f7",
   "metadata": {
    "execution": {
     "iopub.execute_input": "2023-08-01T16:39:29.167708Z",
     "iopub.status.busy": "2023-08-01T16:39:29.167391Z",
     "iopub.status.idle": "2023-08-01T16:39:29.173956Z",
     "shell.execute_reply": "2023-08-01T16:39:29.173490Z"
    }
   },
   "outputs": [],
   "source": [
    "# the all_list tell the decomposition order\n",
    "# [[1,2], [2,3], [3,4]] means first use 2 eliminate 1, then use 3 eliminate 2, then use 4 eliminate 3\n",
    "def U_decompose_plus(U, all_list):\n",
    "    \n",
    "    # pick up a machine precision\n",
    "    threshold = 1e-8\n",
    "    \n",
    "    # get the shape of unitary\n",
    "    rows, columns = U.shape\n",
    "    assert(rows==columns)\n",
    "    \n",
    "    # create the rotation record matrix, the first row for theta, the second row for phi \n",
    "    # third row for low index, forth row for high index\n",
    "    Theta = []\n",
    "    Phi = []\n",
    "    Low_idx = []\n",
    "    High_idx = []\n",
    "    \n",
    "    # create the diagonal record matrix\n",
    "    Diag = []\n",
    "    \n",
    "\n",
    "    for i in range(rows-1, 0, -1):\n",
    "        list_i = all_list[i-1]\n",
    "        row = U[i, :]\n",
    "        \n",
    "        for j in range(i):\n",
    "            pair = list_i[j]\n",
    "            \n",
    "            \n",
    "            # a is the number to be eliminated, b is the number to eliminate the previous one\n",
    "            a = row[pair[0]]\n",
    "            b = row[pair[1]]\n",
    "            \n",
    "            \n",
    "#             if i % 3 != 0:\n",
    "#                 if j == i-1:\n",
    "#                     a = row[pair[1]]\n",
    "#                     b = row[pair[0]]\n",
    "                \n",
    "                \n",
    "            # choose the elimination method by position\n",
    "            if pair[0] < pair[1]: \n",
    "                theta, phi = left_elimination(a,b)\n",
    "\n",
    "                # write down the parameter\n",
    "                Theta.append(theta)\n",
    "                Phi.append(phi)\n",
    "                Low_idx.append(pair[0])\n",
    "                High_idx.append(pair[1])\n",
    "\n",
    "                # create the rotation\n",
    "                r = rotation(theta, phi, rows, pair[0], pair[1])\n",
    "        \n",
    "\n",
    "                # update Unitary\n",
    "                U = np.dot(U, r)\n",
    "                U= np.where(np.abs(U) < threshold, 0, U)\n",
    "\n",
    "            else:\n",
    "                theta, phi = right_elimination(b,a)\n",
    "\n",
    "                # write down the parameter\n",
    "                Theta.append(theta)\n",
    "                Phi.append(phi)\n",
    "                Low_idx.append(pair[1])\n",
    "                High_idx.append(pair[0])\n",
    "\n",
    "                # create the rotation\n",
    "                r = rotation(theta, phi, rows, pair[1], pair[0])\n",
    "\n",
    "                # update Unitary\n",
    "                U = np.dot(U, r)\n",
    "                U= np.where(np.abs(U) < threshold, 0, U)\n",
    "\n",
    "            row = U[i, :]\n",
    "            \n",
    "#             if (np.count_nonzero(row) == 1):\n",
    "            if j == i-1:\n",
    "                entry = U[i, pair[1]]\n",
    "                U[:, pair[1]] = 0\n",
    "                U[i, :] = 0\n",
    "                U[i, pair[1]] = entry\n",
    "                flag = 0\n",
    "    \n",
    "    # do the permutation, and record\n",
    "    U, Permutation = permutation(U)\n",
    "    \n",
    "    # find the phase shift\n",
    "    for i in range(rows):\n",
    "        x = U[i,i]/np.abs(U[i,i])\n",
    "        phi_x = phase(x)\n",
    "        Diag.append(phi_x)\n",
    "        U[i,i] = U[i,i]*(np.cos(phi_x)-np.sin(phi_x)*1j)\n",
    "    \n",
    "    \n",
    "    return U, Theta, Phi, Low_idx, High_idx, Diag, Permutation"
   ]
  },
  {
   "cell_type": "markdown",
   "id": "2c797e2d",
   "metadata": {},
   "source": [
    "Step3: Gate drop"
   ]
  },
  {
   "cell_type": "code",
   "execution_count": 12,
   "id": "87465142",
   "metadata": {
    "execution": {
     "iopub.execute_input": "2023-08-01T16:39:29.175956Z",
     "iopub.status.busy": "2023-08-01T16:39:29.175612Z",
     "iopub.status.idle": "2023-08-01T16:39:29.178223Z",
     "shell.execute_reply": "2023-08-01T16:39:29.177817Z"
    }
   },
   "outputs": [],
   "source": [
    "# Step1 probability\n",
    "def calculate_probability_sequence(angles, threshold, N):\n",
    "    abs_angles = np.abs(angles)\n",
    "    angles1 = abs_angles/(threshold)\n",
    "    angles2 = angles1**N\n",
    "    total_magnitude = np.sum(angles2)\n",
    "    probabilities = angles2 / total_magnitude\n",
    "    return probabilities"
   ]
  },
  {
   "cell_type": "code",
   "execution_count": 13,
   "id": "867c0332",
   "metadata": {
    "execution": {
     "iopub.execute_input": "2023-08-01T16:39:29.180134Z",
     "iopub.status.busy": "2023-08-01T16:39:29.179793Z",
     "iopub.status.idle": "2023-08-01T16:39:29.183333Z",
     "shell.execute_reply": "2023-08-01T16:39:29.182924Z"
    }
   },
   "outputs": [],
   "source": [
    "# sequence is the origianl angel sequence, probability is calculate using calculate_probability_sequence(angles), percentage is the proportion you want to preserve\n",
    "def pick_entries_with_indices(sequence, probabilities, proportion):\n",
    "    \n",
    "    N = len(sequence)\n",
    "    num_entries = np.floor(N*proportion).astype(int)\n",
    "    \n",
    "    idx_sequence = np.arange(N).astype(int)\n",
    "    \n",
    "    if np.count_nonzero(probabilities) < num_entries:\n",
    "        num_entries = np.count_nonzero(probabilities)\n",
    "    \n",
    "    picked_indices = np.random.choice(idx_sequence, size=num_entries, replace=False, p=probabilities)\n",
    "    picked_entries = [sequence[index] for index in picked_indices]\n",
    "\n",
    "    # Sort the picked entries and indices based on the indices\n",
    "    picked_entries, picked_indices = zip(*sorted(zip(picked_entries, picked_indices), key=lambda x: x[1]))\n",
    "    \n",
    "    modified_sequence = [entry if index in picked_indices else 0 for index, entry in enumerate(sequence)]\n",
    "\n",
    "    return modified_sequence"
   ]
  },
  {
   "cell_type": "markdown",
   "id": "22b271e9",
   "metadata": {},
   "source": [
    "Step4: Matric Reconstruction"
   ]
  },
  {
   "cell_type": "code",
   "execution_count": 14,
   "id": "b30f9083",
   "metadata": {
    "execution": {
     "iopub.execute_input": "2023-08-01T16:39:29.185400Z",
     "iopub.status.busy": "2023-08-01T16:39:29.185058Z",
     "iopub.status.idle": "2023-08-01T16:39:29.187701Z",
     "shell.execute_reply": "2023-08-01T16:39:29.187309Z"
    }
   },
   "outputs": [],
   "source": [
    "def make_entries_zero(Array, threshold):\n",
    "    array = Array.copy()\n",
    "    for i in range(len(array)):\n",
    "        if np.abs(array[i]) < threshold:\n",
    "            array[i] = 0\n",
    "    return array"
   ]
  },
  {
   "cell_type": "code",
   "execution_count": 15,
   "id": "6029d275",
   "metadata": {
    "execution": {
     "iopub.execute_input": "2023-08-01T16:39:29.189562Z",
     "iopub.status.busy": "2023-08-01T16:39:29.189221Z",
     "iopub.status.idle": "2023-08-01T16:39:29.192225Z",
     "shell.execute_reply": "2023-08-01T16:39:29.191801Z"
    }
   },
   "outputs": [],
   "source": [
    "# give rotation matrix with idx_1 < idx_2\n",
    "def reconstruct_rotation(theta, phi, n, idx_1, idx_2):\n",
    "    I = np.eye(n, dtype=complex)\n",
    "    I[idx_1,idx_1] = np.cos(theta)*(np.cos(phi)+np.sin(phi)*1j)\n",
    "    I[idx_1,idx_2] = -np.sin(theta)\n",
    "    I[idx_2,idx_1] = np.sin(theta)*(np.cos(phi)+np.sin(phi)*1j)\n",
    "    I[idx_2,idx_2] = np.cos(theta)\n",
    "    \n",
    "    return I"
   ]
  },
  {
   "cell_type": "code",
   "execution_count": 16,
   "id": "f95103d3",
   "metadata": {
    "execution": {
     "iopub.execute_input": "2023-08-01T16:39:29.194153Z",
     "iopub.status.busy": "2023-08-01T16:39:29.193839Z",
     "iopub.status.idle": "2023-08-01T16:39:29.197777Z",
     "shell.execute_reply": "2023-08-01T16:39:29.197320Z"
    }
   },
   "outputs": [],
   "source": [
    "def matrix_reconstruct(Theta, Phi, Low_idx, High_idx, Diag, Permutation, N):\n",
    "    \n",
    "    M = len(Theta)\n",
    "    \n",
    "    per_theta = (len([x for x in Theta if np.abs(x) == 0]) / len(Theta)) * 100\n",
    "#     print(\"theta reduce\")\n",
    "#     print(per_theta)\n",
    "    \n",
    "    per_phi = (len([x for x in Phi if np.abs(x) == 0]) / len(Phi)) * 100\n",
    "#     print(\"phi reduce\")\n",
    "#     print(per_phi)\n",
    "\n",
    "#     new_theta = Theta\n",
    "#     new_phi = Phi\n",
    "    \n",
    "    V = np.eye(N, dtype=complex)\n",
    "    \n",
    "    # rotation\n",
    "    for i in range(M):\n",
    "        r = reconstruct_rotation(Theta[i], Phi[i], N, Low_idx[i], High_idx[i])\n",
    "        V = np.dot(r, V)\n",
    "        \n",
    "    # phase shift\n",
    "    for i in range(N):\n",
    "        V[i,:] = V[i,:]*(np.cos(Diag[i])+np.sin(Diag[i])*1j)\n",
    "        \n",
    "    # permutation\n",
    "    V = np.dot(Permutation, V)\n",
    "    \n",
    "    return V"
   ]
  },
  {
   "cell_type": "code",
   "execution_count": null,
   "id": "08e40086",
   "metadata": {},
   "outputs": [],
   "source": []
  },
  {
   "cell_type": "markdown",
   "id": "9062bfeb",
   "metadata": {},
   "source": [
    "Accuracy"
   ]
  },
  {
   "cell_type": "code",
   "execution_count": 17,
   "id": "23772846",
   "metadata": {
    "execution": {
     "iopub.execute_input": "2023-08-01T16:39:29.199525Z",
     "iopub.status.busy": "2023-08-01T16:39:29.199255Z",
     "iopub.status.idle": "2023-08-01T16:39:29.201887Z",
     "shell.execute_reply": "2023-08-01T16:39:29.201463Z"
    }
   },
   "outputs": [],
   "source": [
    "# function to calculate the approximation accuracy\n",
    "def accuracy(U,U_app):\n",
    "    I = np.dot(U,np.conjugate(U_app).transpose())\n",
    "    N, N = I.shape\n",
    "    acc = np.trace(I)/N\n",
    "    return acc"
   ]
  },
  {
   "cell_type": "code",
   "execution_count": 18,
   "id": "140a48af",
   "metadata": {
    "execution": {
     "iopub.execute_input": "2023-08-01T16:39:29.203633Z",
     "iopub.status.busy": "2023-08-01T16:39:29.203287Z",
     "iopub.status.idle": "2023-08-01T16:39:29.207095Z",
     "shell.execute_reply": "2023-08-01T16:39:29.206634Z"
    }
   },
   "outputs": [],
   "source": [
    "def unitary_accuracy(M, U1, dec_list, maps, len_list, n, proportion1, th, N):\n",
    "    \n",
    "    N, N = U1.shape\n",
    "    \n",
    "    # mapping\n",
    "    if maps:\n",
    "        U1_map, col_per_matrix, row_per_matrix = mapping(U1, len_list, n)\n",
    "    else:\n",
    "        U1_map = U1\n",
    "        \n",
    "    # get the decomposition information of U1\n",
    "    _, Theta1, Phi1, Low_idx1, High_idx1, Diag1, Permutation1 = U_decompose_plus(U1_map, dec_list)\n",
    "    \n",
    "    # modify Theta\n",
    "    Theta_prob1 = calculate_probability_sequence(Theta1, th, N)\n",
    "    \n",
    "    k = 0\n",
    "    acc1 = []\n",
    "    while k < M:\n",
    "\n",
    "        # get the new Theta from the probability distribution\n",
    "        new_Theta1 = pick_entries_with_indices(Theta1, Theta_prob1, proportion1)\n",
    "        new_Phi1 = Phi1\n",
    "        \n",
    "        # reconstruction of U2 using new angel\n",
    "        U1_map_app = matrix_reconstruct(new_Theta1, new_Phi1, Low_idx1, High_idx1, Diag1, Permutation1, N)\n",
    "        # approximation accuracy\n",
    "        acc1_t = accuracy(U1_map,U1_map_app)\n",
    "        acc1.append(acc1_t)\n",
    "        \n",
    "        k = k+1\n",
    "        \n",
    "    acc1_mean = np.mean(acc1)\n",
    "    print(\"mean accuracy for U1:\", acc1_mean)    "
   ]
  },
  {
   "cell_type": "markdown",
   "id": "b5d5de89",
   "metadata": {},
   "source": [
    "Reduce counting"
   ]
  },
  {
   "cell_type": "code",
   "execution_count": 19,
   "id": "bf9b6b62",
   "metadata": {
    "execution": {
     "iopub.execute_input": "2023-08-01T16:39:29.209064Z",
     "iopub.status.busy": "2023-08-01T16:39:29.208736Z",
     "iopub.status.idle": "2023-08-01T16:39:29.211196Z",
     "shell.execute_reply": "2023-08-01T16:39:29.210799Z"
    }
   },
   "outputs": [],
   "source": [
    "def count_numbers_less_than(numbers, threshold):\n",
    "    count = 0\n",
    "    for number in numbers:\n",
    "        if np.abs(number) < threshold:\n",
    "            count += 1\n",
    "    return count"
   ]
  },
  {
   "cell_type": "markdown",
   "id": "93726d0c",
   "metadata": {},
   "source": [
    "Convert sample to nodes"
   ]
  },
  {
   "cell_type": "code",
   "execution_count": 20,
   "id": "c1eb16db",
   "metadata": {
    "execution": {
     "iopub.execute_input": "2023-08-01T16:39:29.213127Z",
     "iopub.status.busy": "2023-08-01T16:39:29.212803Z",
     "iopub.status.idle": "2023-08-01T16:39:29.215360Z",
     "shell.execute_reply": "2023-08-01T16:39:29.214952Z"
    }
   },
   "outputs": [],
   "source": [
    "# convert sample to nodes\n",
    "def convert_binary_to_nodes(binary_array):\n",
    "    nodes_array = []\n",
    "\n",
    "    for i in range(len(binary_array)):\n",
    "        if binary_array[i] == 1:\n",
    "            nodes_array.append(i)\n",
    "\n",
    "    return nodes_array"
   ]
  },
  {
   "cell_type": "code",
   "execution_count": null,
   "id": "6e004834",
   "metadata": {},
   "outputs": [],
   "source": []
  },
  {
   "cell_type": "markdown",
   "id": "0e1000e6",
   "metadata": {},
   "source": [
    "Step5: Sampling dense subgraph"
   ]
  },
  {
   "cell_type": "code",
   "execution_count": 21,
   "id": "4b954071",
   "metadata": {
    "execution": {
     "iopub.execute_input": "2023-08-01T16:39:29.217348Z",
     "iopub.status.busy": "2023-08-01T16:39:29.217023Z",
     "iopub.status.idle": "2023-08-01T16:39:29.227267Z",
     "shell.execute_reply": "2023-08-01T16:39:29.226858Z"
    }
   },
   "outputs": [],
   "source": [
    "# define the sampleing function\n",
    "# G is the graph\n",
    "# G_dense_dic contains the information that tells the densest value of k nodes, k from 1 to N\n",
    "# M is the total sampling numbers\n",
    "# A is the adjacency matrix\n",
    "# dec_list: a list give the decomposition order  \n",
    "# mapping: \"on\" or \"off\", coreesponding to 1 or 0\n",
    "# len_list: a list for mapping\n",
    "# n: a compare number for mapping\n",
    "# all_modes: (q[0], ..., q[N-1])\n",
    "# proportion: 0~1 for U2\n",
    "# loss is the photon number loss\n",
    "# qdrift_kind: 0: defualt, 1:cut\n",
    "def graph_sampling_plus(G, G_dense_dic, M, S, U, dec_list, maps, len_list, n, proportion, th, N, loss, kind):\n",
    "    \n",
    "#     # takagi decomposition to get Squeezing and Unitary\n",
    "#     S, U = sf.decompositions.takagi(A)\n",
    "    \n",
    "    N, N = U.shape\n",
    "    \n",
    "    S_max = np.max(S)\n",
    "    S = S/(S_max+0.2)\n",
    "    S = np.arctanh(S)\n",
    "    \n",
    "    # mapping\n",
    "    if maps:\n",
    "        U_map, col_per_matrix, row_per_matrix = mapping(U, len_list, n)\n",
    "    else:\n",
    "        U_map = U\n",
    "        col_per_matrix = np.eye(N)\n",
    "        row_per_matrix = np.eye(N)\n",
    "    \n",
    "    # get the decomposition information of U\n",
    "    _, Theta, Phi, Low_idx, High_idx, Diag, Permutation = U_decompose_plus(U_map, dec_list)\n",
    "    \n",
    "    # modify Theta\n",
    "    Theta_prob = calculate_probability_sequence(Theta, th, N)\n",
    "    \n",
    "    \n",
    "    \n",
    "    k = 0\n",
    "    sample = []\n",
    "    acc = []\n",
    "    confusion_list = []\n",
    "    clique = 0\n",
    "    while k < M:\n",
    "#         print(k)\n",
    "#         if k % 1000 == 0:\n",
    "#             print(k)\n",
    "        \n",
    "        # get the new Theta from the probability distribution\n",
    "        new_Theta = pick_entries_with_indices(Theta, Theta_prob, proportion)\n",
    "#         new_Theta = Theta\n",
    "        new_Phi = Phi\n",
    "        \n",
    "        # reconstruction of U using new angel\n",
    "        U_map_app = matrix_reconstruct(new_Theta, new_Phi, Low_idx, High_idx, Diag, Permutation, N)\n",
    "        # approximation accuracy\n",
    "        acc_t = accuracy(U_map,U_map_app)\n",
    "        acc.append(acc_t)\n",
    "        \n",
    "        \n",
    "        # construct the circuit\n",
    "        prog = sf.Program(N)\n",
    "        eng = sf.Engine('gaussian')\n",
    "        with prog.context as q:\n",
    "            \n",
    "            # r squeezing\n",
    "            for i, s in enumerate(S):\n",
    "                ops.Sgate(s) | q[i]\n",
    "            \n",
    "            # mapping's column transformation\n",
    "            ops.Interferometer(col_per_matrix) | (q[0], q[1], q[2], q[3], q[4], q[5], q[6], q[7], q[8], q[9], q[10], q[11], q[12], q[13], q[14], q[15], q[16], q[17], q[18], q[19], q[20], q[21], q[22], q[23])\n",
    "            \n",
    "            \n",
    "            # interferometer U\n",
    "            for i in range(len(new_Theta)):\n",
    "                ops.Rgate(new_Phi[i])       | q[Low_idx[i]]\n",
    "                ops.BSgate(new_Theta[i], 0) | (q[Low_idx[i]], q[High_idx[i]])\n",
    "                if np.abs(new_Theta[i]) > 0:\n",
    "                    ops.LossChannel(loss) | q[Low_idx[i]]\n",
    "                    ops.LossChannel(loss) | q[High_idx[i]]\n",
    "                \n",
    "            for i in range(N):\n",
    "                ops.Rgate(Diag[i])       | q[i]\n",
    "                \n",
    "                \n",
    "            # mapping's row transformation\n",
    "            ops.Interferometer(row_per_matrix) | (q[0], q[1], q[2], q[3], q[4], q[5], q[6], q[7], q[8], q[9], q[10], q[11], q[12], q[13], q[14], q[15], q[16], q[17], q[18], q[19], q[20], q[21], q[22], q[23])\n",
    "            \n",
    "            \n",
    "            # measurement\n",
    "            ops.MeasureThreshold() | q\n",
    "            \n",
    "\n",
    "        \n",
    "        results = eng.run(prog, shots=1)\n",
    "        sample_t = results.samples\n",
    "        sample.append(sample_t[0])\n",
    "#         print(sample_t)\n",
    "        \n",
    "        # change the sample to the right form\n",
    "        sample_sub_t = convert_binary_to_nodes(sample_t[0])\n",
    "        sample_sub_t = [str(num) for num in sample_sub_t]\n",
    "#         print(sample_sub_t)\n",
    "        \n",
    "        # calculate is this sample_sub's desity  \n",
    "        if (len(sample_sub_t)>=10):\n",
    "            subgraph = G.subgraph(sample_sub_t)\n",
    "            density = calculate_density(subgraph)\n",
    "#             density = subgraph.search([sample_sub_t], G, len(sample_sub_t), len(sample_sub_t), max_count=1)[len(sample_sub_t)][0][0]\n",
    "#             print(density)\n",
    "        else: \n",
    "            density = 0\n",
    "        \n",
    "        # find the subgraph size\n",
    "        size_t = len(sample_sub_t)\n",
    "#         print(size_t)\n",
    "\n",
    "        # find out if it is the densest subgraph in this size\n",
    "        if density >= G_dense_dic[size_t]-1e-5:\n",
    "            confusion_list.append(1)\n",
    "#             print(kind, size_t)\n",
    "            if density == 1:\n",
    "                clique = clique + 1\n",
    "#             print(density)\n",
    "#             print(size_t)\n",
    "        else: \n",
    "            confusion_list.append(0)\n",
    "        \n",
    "        k = k+1\n",
    "        \n",
    "    # calculate the frequency that successfully find the dense sub graph\n",
    "    \n",
    "    acc_mean = np.mean(acc)\n",
    "#     print(\"mean accuracy for U:\", acc_mean)\n",
    "    \n",
    "    metric = confusion_list.count(1)/len(confusion_list)\n",
    "#     print(\"successfully find dense subgraph:\", metric)\n",
    "#     print(clique)\n",
    "\n",
    "    # manipulate the samples\n",
    "    zero = np.zeros(N)\n",
    "    for i in range(len(sample)):\n",
    "        sample[i] = np.concatenate((sample[i], zero))\n",
    "    sample_list = []\n",
    "    for a in sample:\n",
    "        b = list(a)\n",
    "        c = [int(num) for num in b]\n",
    "        sample_list.append(c)\n",
    "    \n",
    "        \n",
    "    return sample_list, metric"
   ]
  },
  {
   "cell_type": "code",
   "execution_count": null,
   "id": "cc78c4d1",
   "metadata": {},
   "outputs": [],
   "source": []
  },
  {
   "cell_type": "markdown",
   "id": "77912b50",
   "metadata": {},
   "source": [
    "Create benchmark for dense subgraph"
   ]
  },
  {
   "cell_type": "code",
   "execution_count": 22,
   "id": "f2ce08b1",
   "metadata": {
    "execution": {
     "iopub.execute_input": "2023-08-01T16:39:29.229246Z",
     "iopub.status.busy": "2023-08-01T16:39:29.228916Z",
     "iopub.status.idle": "2023-08-01T16:39:29.231683Z",
     "shell.execute_reply": "2023-08-01T16:39:29.231246Z"
    }
   },
   "outputs": [],
   "source": [
    "def generate_random_graph(nodes, probability):\n",
    "    G = nx.Graph()\n",
    "    G.add_nodes_from(nodes)\n",
    "\n",
    "    for i in nodes:\n",
    "        for j in nodes:\n",
    "            if i != j and random.random() < probability:\n",
    "                G.add_edge(i, j)\n",
    "\n",
    "    return G"
   ]
  },
  {
   "cell_type": "code",
   "execution_count": 23,
   "id": "f671d1e3",
   "metadata": {
    "execution": {
     "iopub.execute_input": "2023-08-01T16:39:29.233397Z",
     "iopub.status.busy": "2023-08-01T16:39:29.233072Z",
     "iopub.status.idle": "2023-08-01T16:39:29.235555Z",
     "shell.execute_reply": "2023-08-01T16:39:29.235138Z"
    }
   },
   "outputs": [],
   "source": [
    "def calculate_density(subgraph):\n",
    "    num_nodes = len(subgraph.nodes())\n",
    "    num_edges = len(subgraph.edges())\n",
    "    return 2 * num_edges / (num_nodes * (num_nodes - 1))"
   ]
  },
  {
   "cell_type": "code",
   "execution_count": 24,
   "id": "a800e485",
   "metadata": {
    "execution": {
     "iopub.execute_input": "2023-08-01T16:39:29.237332Z",
     "iopub.status.busy": "2023-08-01T16:39:29.236997Z",
     "iopub.status.idle": "2023-08-01T16:39:29.240304Z",
     "shell.execute_reply": "2023-08-01T16:39:29.239864Z"
    }
   },
   "outputs": [],
   "source": [
    "def find_highest_density_subgraph(G):\n",
    "    \n",
    "    highest_density = 0.0\n",
    "    highest_density_subgraph = None\n",
    "    N = len(G)\n",
    "    \n",
    "    density_iter = [1.0, 1.0]\n",
    "    for k_nodes in range(2, N+1):  # Iterate over all possible subgraph sizes\n",
    "#         print(k_nodes)\n",
    "        subgraphs = combinations(G.nodes(), k_nodes)  # Generate all combinations of nodes\n",
    "        highest_density = 0\n",
    "        \n",
    "#         highest_density = 0.5\n",
    "        \n",
    "        for nodes in subgraphs:\n",
    "            subgraph = G.subgraph(nodes)  # Create a subgraph from the selected nodes\n",
    "            density = calculate_density(subgraph)\n",
    "            if density > highest_density:\n",
    "                highest_density = density\n",
    "                \n",
    "        print(highest_density)\n",
    "        density_iter.append(highest_density)\n",
    "        \n",
    "#     density_iter.append(1.0)\n",
    "\n",
    "    return density_iter"
   ]
  },
  {
   "cell_type": "code",
   "execution_count": 25,
   "id": "36f0c2c1",
   "metadata": {
    "execution": {
     "iopub.execute_input": "2023-08-01T16:39:29.242170Z",
     "iopub.status.busy": "2023-08-01T16:39:29.241849Z",
     "iopub.status.idle": "2023-08-01T16:39:29.244322Z",
     "shell.execute_reply": "2023-08-01T16:39:29.243877Z"
    }
   },
   "outputs": [],
   "source": [
    "# give a dictionary that contains the information that the densest density for k nodes\n",
    "def create_density_dictionary(density_iter):\n",
    "    density_dict = {}\n",
    "    for position, density in enumerate(density_iter):\n",
    "        density_dict[position] = density\n",
    "    return density_dict"
   ]
  },
  {
   "cell_type": "code",
   "execution_count": 26,
   "id": "33fe6c09",
   "metadata": {
    "execution": {
     "iopub.execute_input": "2023-08-01T16:39:29.246238Z",
     "iopub.status.busy": "2023-08-01T16:39:29.245915Z",
     "iopub.status.idle": "2023-08-01T16:39:29.247982Z",
     "shell.execute_reply": "2023-08-01T16:39:29.247541Z"
    }
   },
   "outputs": [],
   "source": [
    "# # Generate G\n",
    "# G = generate_random_graph(range(24), 0.79)"
   ]
  },
  {
   "cell_type": "code",
   "execution_count": 31,
   "id": "455969ba",
   "metadata": {
    "execution": {
     "iopub.execute_input": "2023-08-01T16:39:29.249913Z",
     "iopub.status.busy": "2023-08-01T16:39:29.249602Z",
     "iopub.status.idle": "2023-08-01T16:39:29.252435Z",
     "shell.execute_reply": "2023-08-01T16:39:29.251999Z"
    }
   },
   "outputs": [],
   "source": [
    "# # Write the graph as an adjacency list\n",
    "# nx.write_adjlist(G, \"graph.adjlist\")\n",
    "\n",
    "# Read the graph from the adjacency list\n",
    "G = nx.read_adjlist(\"graph.adjlist\")"
   ]
  },
  {
   "cell_type": "code",
   "execution_count": 32,
   "id": "6031537a",
   "metadata": {
    "execution": {
     "iopub.execute_input": "2023-08-01T16:39:29.254324Z",
     "iopub.status.busy": "2023-08-01T16:39:29.253998Z",
     "iopub.status.idle": "2023-08-01T16:39:29.403168Z",
     "shell.execute_reply": "2023-08-01T16:39:29.402734Z"
    }
   },
   "outputs": [
    {
     "data": {
      "image/png": "[encoded data removed]",
      "text/plain": [
       "<Figure size 640x480 with 1 Axes>"
      ]
     },
     "metadata": {},
     "output_type": "display_data"
    }
   ],
   "source": [
    "pos = nx.spring_layout(G)  # Layout algorithm for node positioning\n",
    "nx.draw(G, pos, with_labels=True, node_color='lightblue', edge_color='gray', font_weight='bold')\n",
    "\n",
    "plt.title(\"Graph\")\n",
    "plt.show()"
   ]
  },
  {
   "cell_type": "code",
   "execution_count": 33,
   "id": "b5f15fd3",
   "metadata": {
    "execution": {
     "iopub.execute_input": "2023-08-01T16:39:29.405708Z",
     "iopub.status.busy": "2023-08-01T16:39:29.405340Z",
     "iopub.status.idle": "2023-08-01T16:39:29.407944Z",
     "shell.execute_reply": "2023-08-01T16:39:29.407526Z"
    }
   },
   "outputs": [],
   "source": [
    "# Obtain the adjacency matrix of the graph G\n",
    "A = nx.to_numpy_array(G)"
   ]
  },
  {
   "cell_type": "code",
   "execution_count": 34,
   "id": "73260596",
   "metadata": {
    "execution": {
     "iopub.execute_input": "2023-08-01T16:39:29.409874Z",
     "iopub.status.busy": "2023-08-01T16:39:29.409604Z",
     "iopub.status.idle": "2023-08-01T16:39:29.412287Z",
     "shell.execute_reply": "2023-08-01T16:39:29.411828Z"
    }
   },
   "outputs": [],
   "source": [
    "S, U = sf.decompositions.takagi(A)"
   ]
  },
  {
   "cell_type": "code",
   "execution_count": 35,
   "id": "85053e23",
   "metadata": {
    "execution": {
     "iopub.execute_input": "2023-08-01T16:39:29.414223Z",
     "iopub.status.busy": "2023-08-01T16:39:29.413884Z",
     "iopub.status.idle": "2023-08-01T16:39:29.416583Z",
     "shell.execute_reply": "2023-08-01T16:39:29.416173Z"
    }
   },
   "outputs": [],
   "source": [
    "S, U = sf.decompositions.takagi(A)\n",
    "S_max = np.max(S)\n",
    "S = S/(S_max+0.2)"
   ]
  },
  {
   "cell_type": "code",
   "execution_count": 36,
   "id": "25d816c2",
   "metadata": {
    "execution": {
     "iopub.execute_input": "2023-08-01T16:39:29.418391Z",
     "iopub.status.busy": "2023-08-01T16:39:29.418066Z",
     "iopub.status.idle": "2023-08-01T16:39:29.420914Z",
     "shell.execute_reply": "2023-08-01T16:39:29.420508Z"
    }
   },
   "outputs": [
    {
     "name": "stdout",
     "output_type": "stream",
     "text": [
      "54.38346108746366\n"
     ]
    }
   ],
   "source": [
    "n = 0\n",
    "for s in S:\n",
    "    n = n+s**2/(1-s**2)\n",
    "print(n)"
   ]
  },
  {
   "cell_type": "code",
   "execution_count": 37,
   "id": "5d15099e",
   "metadata": {
    "execution": {
     "iopub.execute_input": "2023-08-01T16:39:29.422642Z",
     "iopub.status.busy": "2023-08-01T16:39:29.422369Z",
     "iopub.status.idle": "2023-08-01T16:39:29.424896Z",
     "shell.execute_reply": "2023-08-01T16:39:29.424493Z"
    }
   },
   "outputs": [],
   "source": [
    "S, U = sf.decompositions.takagi(A)"
   ]
  },
  {
   "cell_type": "code",
   "execution_count": 38,
   "id": "5b5b575b",
   "metadata": {
    "execution": {
     "iopub.execute_input": "2023-08-01T16:39:29.426571Z",
     "iopub.status.busy": "2023-08-01T16:39:29.426308Z",
     "iopub.status.idle": "2023-08-01T16:39:29.429367Z",
     "shell.execute_reply": "2023-08-01T16:39:29.428956Z"
    }
   },
   "outputs": [
    {
     "data": {
      "text/plain": [
       "0.9456521739130435"
      ]
     },
     "execution_count": 38,
     "metadata": {},
     "output_type": "execute_result"
    }
   ],
   "source": [
    "calculate_density(G)"
   ]
  },
  {
   "cell_type": "markdown",
   "id": "18b0e2e2",
   "metadata": {},
   "source": [
    "Calculate the information of this graph"
   ]
  },
  {
   "cell_type": "code",
   "execution_count": 39,
   "id": "dabeeead",
   "metadata": {
    "execution": {
     "iopub.execute_input": "2023-08-01T16:39:29.431314Z",
     "iopub.status.busy": "2023-08-01T16:39:29.430991Z",
     "iopub.status.idle": "2023-08-01T16:39:29.433155Z",
     "shell.execute_reply": "2023-08-01T16:39:29.432750Z"
    }
   },
   "outputs": [],
   "source": [
    "# function that find the densest subgraph in graph G of all size k\n",
    "# density_iter = find_highest_density_subgraph(G)"
   ]
  },
  {
   "cell_type": "markdown",
   "id": "30fd1c98",
   "metadata": {},
   "source": [
    "This is the copy of that outcome"
   ]
  },
  {
   "cell_type": "code",
   "execution_count": 40,
   "id": "47284020",
   "metadata": {
    "execution": {
     "iopub.execute_input": "2023-08-01T16:39:29.435051Z",
     "iopub.status.busy": "2023-08-01T16:39:29.434739Z",
     "iopub.status.idle": "2023-08-01T16:39:29.437288Z",
     "shell.execute_reply": "2023-08-01T16:39:29.436883Z"
    }
   },
   "outputs": [],
   "source": [
    "density_iter = [1.0, 1.0, 1.0, 1.0, 1.0, 1.0, 1.0, 1.0, 1.0, 1.0, 1.0, 1.0, 1.0, 1.0, 1.0, 1.0, 1.0, 1.0, 0.993464, 0.988304, 0.984210, 0.976190, 0.969696, 0.960473, 0.945652]"
   ]
  },
  {
   "cell_type": "code",
   "execution_count": 41,
   "id": "ed4573d5",
   "metadata": {
    "execution": {
     "iopub.execute_input": "2023-08-01T16:39:29.439151Z",
     "iopub.status.busy": "2023-08-01T16:39:29.438841Z",
     "iopub.status.idle": "2023-08-01T16:39:29.441019Z",
     "shell.execute_reply": "2023-08-01T16:39:29.440614Z"
    }
   },
   "outputs": [],
   "source": [
    "density_dict = create_density_dictionary(density_iter)"
   ]
  },
  {
   "cell_type": "code",
   "execution_count": 42,
   "id": "9a64d792",
   "metadata": {
    "execution": {
     "iopub.execute_input": "2023-08-01T16:39:29.442854Z",
     "iopub.status.busy": "2023-08-01T16:39:29.442540Z",
     "iopub.status.idle": "2023-08-01T16:39:29.444965Z",
     "shell.execute_reply": "2023-08-01T16:39:29.444550Z"
    }
   },
   "outputs": [
    {
     "name": "stdout",
     "output_type": "stream",
     "text": [
      "{0: 1.0, 1: 1.0, 2: 1.0, 3: 1.0, 4: 1.0, 5: 1.0, 6: 1.0, 7: 1.0, 8: 1.0, 9: 1.0, 10: 1.0, 11: 1.0, 12: 1.0, 13: 1.0, 14: 1.0, 15: 1.0, 16: 1.0, 17: 1.0, 18: 0.993464, 19: 0.988304, 20: 0.98421, 21: 0.97619, 22: 0.969696, 23: 0.960473, 24: 0.945652}\n"
     ]
    }
   ],
   "source": [
    "print(density_dict)"
   ]
  },
  {
   "cell_type": "markdown",
   "id": "bed94841",
   "metadata": {},
   "source": [
    "dec_list1: 1D"
   ]
  },
  {
   "cell_type": "code",
   "execution_count": 43,
   "id": "d639998d",
   "metadata": {
    "execution": {
     "iopub.execute_input": "2023-08-01T16:39:29.446714Z",
     "iopub.status.busy": "2023-08-01T16:39:29.446402Z",
     "iopub.status.idle": "2023-08-01T16:39:29.449900Z",
     "shell.execute_reply": "2023-08-01T16:39:29.449507Z"
    }
   },
   "outputs": [],
   "source": [
    "list_order = [[0,1], [1,2], [2,3], [3,4], [4,5], [5,6], [6,7], [7,8], [8,9], [9,10], [10,11], [11,12], [12,13], [13,14], [14,15], [15,16], [16,17], [17,18], [18,19], [19,20], [20,21], [21,22], [22,23]]\n",
    "dec_list1 = [list_order, list_order, list_order, list_order, list_order, list_order, list_order, list_order, list_order, list_order, list_order, list_order, list_order, list_order, list_order, list_order, list_order, list_order, list_order, list_order, list_order, list_order, list_order]"
   ]
  },
  {
   "cell_type": "markdown",
   "id": "603a06b1",
   "metadata": {},
   "source": [
    "len_list1: 1D"
   ]
  },
  {
   "cell_type": "code",
   "execution_count": 44,
   "id": "6882725d",
   "metadata": {
    "execution": {
     "iopub.execute_input": "2023-08-01T16:39:29.451784Z",
     "iopub.status.busy": "2023-08-01T16:39:29.451513Z",
     "iopub.status.idle": "2023-08-01T16:39:29.453708Z",
     "shell.execute_reply": "2023-08-01T16:39:29.453304Z"
    }
   },
   "outputs": [],
   "source": [
    "len_list1 = [24]"
   ]
  },
  {
   "cell_type": "markdown",
   "id": "fcee5562",
   "metadata": {},
   "source": [
    "dec_list2: 2D"
   ]
  },
  {
   "cell_type": "code",
   "execution_count": 45,
   "id": "d23b1416",
   "metadata": {
    "execution": {
     "iopub.execute_input": "2023-08-01T16:39:29.455523Z",
     "iopub.status.busy": "2023-08-01T16:39:29.455199Z",
     "iopub.status.idle": "2023-08-01T16:39:29.468209Z",
     "shell.execute_reply": "2023-08-01T16:39:29.467671Z"
    }
   },
   "outputs": [],
   "source": [
    "list_order23 = [[0,1], [9,1], [10,1], [1,2], [11,2], [2,3], [12,3], [3,4], [15,14], [14,4], [13,4], [4,5], [16,5], [17,5], [5,6], [18,6], [19,6], [6,7], [20,7], [21,7], [7,8], [22,8], [8,23]]\n",
    "list_order22 = [[0,1], [9,1], [10,1], [1,2], [11,2], [2,3], [12,3], [3,4], [15,14], [14,4], [13,4], [4,5], [16,5], [17,5], [5,6], [18,6], [19,6], [6,7], [20,7], [21,7], [7,8], [8,22]]\n",
    "list_order21 = [[0,1], [9,1], [10,1], [1,2], [11,2], [2,3], [12,3], [3,4], [15,14], [14,4], [13,4], [4,5], [16,5], [17,5], [5,6], [18,6], [19,6], [6,7], [20,7], [21,7], [7,8]]\n",
    "list_order20 = [[0,1], [9,1], [10,1], [1,2], [11,2], [2,3], [12,3], [3,4], [15,14], [14,4], [13,4], [4,5], [16,5], [17,5], [5,6], [18,6], [19,6], [6,7], [20,7], [7,21]]\n",
    "list_order19 = [[0,1], [9,1], [10,1], [1,2], [11,2], [2,3], [12,3], [3,4], [15,14], [14,4], [13,4], [4,5], [16,5], [17,5], [5,6], [18,6], [19,6], [6,7], [7,20]]\n",
    "list_order18 = [[0,1], [9,1], [10,1], [1,2], [11,2], [2,3], [12,3], [3,4], [15,14], [14,4], [13,4], [4,5], [16,5], [17,5], [5,6], [18,6], [19,6], [6,7]]\n",
    "list_order17 = [[0,1], [9,1], [10,1], [1,2], [11,2], [2,3], [12,3], [3,4], [15,14], [14,4], [13,4], [4,5], [16,5], [17,5], [5,6], [18,6], [6,19]]\n",
    "list_order16 = [[0,1], [9,1], [10,1], [1,2], [11,2], [2,3], [12,3], [3,4], [15,14], [14,4], [13,4], [4,5], [16,5], [17,5], [5,6], [6,18]]\n",
    "list_order15 = [[0,1], [9,1], [10,1], [1,2], [11,2], [2,3], [12,3], [3,4], [15,14], [14,4], [13,4], [4,5], [16,5], [17,5], [5,6]]\n",
    "list_order14 = [[0,1], [9,1], [10,1], [1,2], [11,2], [2,3], [12,3], [3,4], [15,14], [14,4], [13,4], [4,5], [16,5], [5,17]]\n",
    "list_order13 = [[0,1], [9,1], [10,1], [1,2], [11,2], [2,3], [12,3], [3,4], [15,14], [14,4], [13,4], [4,5], [5,16]]\n",
    "list_order12 = [[0,1], [9,1], [10,1], [1,2], [11,2], [2,3], [12,3], [3,4], [15,14], [14,4], [13,4], [4,5]]\n",
    "list_order11 = [[0,1], [9,1], [10,1], [1,2], [11,2], [2,3], [12,3], [3,4], [15,14], [14,4], [4,13]]\n",
    "list_order10 = [[0,1], [9,1], [10,1], [1,2], [11,2], [2,3], [12,3], [3,4], [4,14], [14,15]]\n",
    "list_order9 = [[0,1], [9,1], [10,1], [1,2], [11,2], [2,3], [12,3], [3,4], [4,14]]\n",
    "list_order8 = [[0,1], [9,1], [10,1], [1,2], [11,2], [2,3], [12,3], [3,4]]\n",
    "list_order7 = [[0,1], [9,1], [10,1], [1,2], [11,2], [2,3], [3,12]]\n",
    "list_order6 = [[0,1], [9,1], [10,1], [1,2], [11,2], [2,3]]\n",
    "list_order5 = [[0,1], [9,1], [10,1], [1,2], [2,11]]\n",
    "list_order4 = [[0,1], [9,1], [10,1], [1,2]]\n",
    "list_order3 = [[0,1], [9,1], [1,10]]\n",
    "list_order2 = [[0,1], [1,9]]\n",
    "list_order1 = [[0,1]]\n",
    "\n",
    "\n",
    "dec_list2 = [list_order1, list_order2, list_order3, list_order4, list_order5, list_order6, list_order7, list_order8, list_order9, list_order10, list_order11, list_order12, list_order13, list_order14, list_order15, list_order16, list_order17, list_order18, list_order19, list_order20, list_order21, list_order22, list_order23]"
   ]
  },
  {
   "cell_type": "markdown",
   "id": "15e6dbe1",
   "metadata": {},
   "source": [
    "len_list2: 2D"
   ]
  },
  {
   "cell_type": "code",
   "execution_count": 46,
   "id": "7b6886e2",
   "metadata": {
    "execution": {
     "iopub.execute_input": "2023-08-01T16:39:29.470136Z",
     "iopub.status.busy": "2023-08-01T16:39:29.469869Z",
     "iopub.status.idle": "2023-08-01T16:39:29.472298Z",
     "shell.execute_reply": "2023-08-01T16:39:29.471861Z"
    }
   },
   "outputs": [],
   "source": [
    "len_list2 = [9,1,1,1,1,2,1,1,1,1,1,1,1,1,1]"
   ]
  },
  {
   "cell_type": "code",
   "execution_count": null,
   "id": "701a95ac",
   "metadata": {},
   "outputs": [],
   "source": []
  },
  {
   "cell_type": "code",
   "execution_count": null,
   "id": "77948866",
   "metadata": {},
   "outputs": [],
   "source": []
  },
  {
   "cell_type": "code",
   "execution_count": null,
   "id": "e0cc9fed",
   "metadata": {},
   "outputs": [],
   "source": []
  },
  {
   "cell_type": "markdown",
   "id": "839225b1",
   "metadata": {},
   "source": [
    "Base Sampling"
   ]
  },
  {
   "cell_type": "code",
   "execution_count": 47,
   "id": "b5bd9972",
   "metadata": {},
   "outputs": [
    {
     "name": "stderr",
     "output_type": "stream",
     "text": [
      "/tmp/ipykernel_1001619/2223956829.py:23: RuntimeWarning: divide by zero encountered in scalar divide\n",
      "/tmp/ipykernel_1001619/2223956829.py:26: RuntimeWarning: divide by zero encountered in scalar divide\n",
      "/tmp/ipykernel_1001619/2223956829.py:19: RuntimeWarning: The iteration is not making good progress, as measured by the \n",
      "  improvement from the last ten iterations.\n"
     ]
    },
    {
     "ename": "KeyboardInterrupt",
     "evalue": "",
     "output_type": "error",
     "traceback": [
      "\u001b[0;31m---------------------------------------------------------------------------\u001b[0m",
      "\u001b[0;31mKeyboardInterrupt\u001b[0m                         Traceback (most recent call last)",
      "Cell \u001b[0;32mIn[47], line 2\u001b[0m\n\u001b[1;32m      1\u001b[0m start_time \u001b[38;5;241m=\u001b[39m time\u001b[38;5;241m.\u001b[39mtime()\n\u001b[0;32m----> 2\u001b[0m sample_list_base, acc_base \u001b[38;5;241m=\u001b[39m \u001b[43mgraph_sampling_plus\u001b[49m\u001b[43m(\u001b[49m\u001b[43mG\u001b[49m\u001b[43m,\u001b[49m\u001b[43m \u001b[49m\u001b[43mdensity_dict\u001b[49m\u001b[43m,\u001b[49m\u001b[43m \u001b[49m\u001b[38;5;241;43m20000\u001b[39;49m\u001b[43m,\u001b[49m\u001b[43m \u001b[49m\u001b[43mS\u001b[49m\u001b[43m,\u001b[49m\u001b[43m \u001b[49m\u001b[43mU\u001b[49m\u001b[43m,\u001b[49m\u001b[43m \u001b[49m\u001b[43mdec_list1\u001b[49m\u001b[43m,\u001b[49m\u001b[43m \u001b[49m\u001b[38;5;241;43m0\u001b[39;49m\u001b[43m,\u001b[49m\u001b[43m \u001b[49m\u001b[43mlen_list1\u001b[49m\u001b[43m,\u001b[49m\u001b[43m \u001b[49m\u001b[38;5;241;43m12\u001b[39;49m\u001b[43m,\u001b[49m\u001b[43m \u001b[49m\u001b[38;5;241;43m1\u001b[39;49m\u001b[43m,\u001b[49m\u001b[43m \u001b[49m\u001b[38;5;241;43m1\u001b[39;49m\u001b[43m,\u001b[49m\u001b[43m \u001b[49m\u001b[38;5;241;43m1\u001b[39;49m\u001b[43m,\u001b[49m\u001b[43m \u001b[49m\u001b[38;5;241;43m1\u001b[39;49m\u001b[43m,\u001b[49m\u001b[43m \u001b[49m\u001b[38;5;124;43m'\u001b[39;49m\u001b[38;5;124;43mbase:\u001b[39;49m\u001b[38;5;124;43m'\u001b[39;49m\u001b[43m)\u001b[49m\n\u001b[1;32m      3\u001b[0m end_time \u001b[38;5;241m=\u001b[39m time\u001b[38;5;241m.\u001b[39mtime()\n\u001b[1;32m      4\u001b[0m execution_time_base \u001b[38;5;241m=\u001b[39m end_time \u001b[38;5;241m-\u001b[39m start_time\n",
      "Cell \u001b[0;32mIn[21], line 97\u001b[0m, in \u001b[0;36mgraph_sampling_plus\u001b[0;34m(G, G_dense_dic, M, S, U, dec_list, maps, len_list, n, proportion, th, N, loss, kind)\u001b[0m\n\u001b[1;32m     92\u001b[0m     \u001b[38;5;66;03m# measurement\u001b[39;00m\n\u001b[1;32m     93\u001b[0m     ops\u001b[38;5;241m.\u001b[39mMeasureThreshold() \u001b[38;5;241m|\u001b[39m q\n\u001b[0;32m---> 97\u001b[0m results \u001b[38;5;241m=\u001b[39m \u001b[43meng\u001b[49m\u001b[38;5;241;43m.\u001b[39;49m\u001b[43mrun\u001b[49m\u001b[43m(\u001b[49m\u001b[43mprog\u001b[49m\u001b[43m,\u001b[49m\u001b[43m \u001b[49m\u001b[43mshots\u001b[49m\u001b[38;5;241;43m=\u001b[39;49m\u001b[38;5;241;43m1\u001b[39;49m\u001b[43m)\u001b[49m\n\u001b[1;32m     98\u001b[0m sample_t \u001b[38;5;241m=\u001b[39m results\u001b[38;5;241m.\u001b[39msamples\n\u001b[1;32m     99\u001b[0m sample\u001b[38;5;241m.\u001b[39mappend(sample_t[\u001b[38;5;241m0\u001b[39m])\n",
      "File \u001b[0;32m~/Desktop/bose/venv/lib/python3.10/site-packages/strawberryfields/engine.py:570\u001b[0m, in \u001b[0;36mLocalEngine.run\u001b[0;34m(self, program, args, compile_options, **kwargs)\u001b[0m\n\u001b[1;32m    565\u001b[0m         \u001b[38;5;28;01mif\u001b[39;00m c\u001b[38;5;241m.\u001b[39mop\u001b[38;5;241m.\u001b[39mmeasurement_deps \u001b[38;5;129;01mand\u001b[39;00m eng_run_options[\u001b[38;5;124m\"\u001b[39m\u001b[38;5;124mshots\u001b[39m\u001b[38;5;124m\"\u001b[39m] \u001b[38;5;241m>\u001b[39m \u001b[38;5;241m1\u001b[39m:\n\u001b[1;32m    566\u001b[0m             \u001b[38;5;28;01mraise\u001b[39;00m \u001b[38;5;167;01mNotImplementedError\u001b[39;00m(\n\u001b[1;32m    567\u001b[0m                 \u001b[38;5;124m\"\u001b[39m\u001b[38;5;124mFeed-forwarding of measurements cannot be used together with multiple shots.\u001b[39m\u001b[38;5;124m\"\u001b[39m\n\u001b[1;32m    568\u001b[0m             )\n\u001b[0;32m--> 570\u001b[0m \u001b[38;5;28;01mreturn\u001b[39;00m \u001b[38;5;28;43msuper\u001b[39;49m\u001b[43m(\u001b[49m\u001b[43m)\u001b[49m\u001b[38;5;241;43m.\u001b[39;49m\u001b[43m_run\u001b[49m\u001b[43m(\u001b[49m\n\u001b[1;32m    571\u001b[0m \u001b[43m    \u001b[49m\u001b[43mprogram_lst\u001b[49m\u001b[43m,\u001b[49m\u001b[43m \u001b[49m\u001b[43margs\u001b[49m\u001b[38;5;241;43m=\u001b[39;49m\u001b[43margs\u001b[49m\u001b[43m,\u001b[49m\u001b[43m \u001b[49m\u001b[43mcompile_options\u001b[49m\u001b[38;5;241;43m=\u001b[39;49m\u001b[43mcompile_options\u001b[49m\u001b[43m,\u001b[49m\u001b[43m \u001b[49m\u001b[38;5;241;43m*\u001b[39;49m\u001b[38;5;241;43m*\u001b[39;49m\u001b[43meng_run_options\u001b[49m\n\u001b[1;32m    572\u001b[0m \u001b[43m\u001b[49m\u001b[43m)\u001b[49m\n",
      "File \u001b[0;32m~/Desktop/bose/venv/lib/python3.10/site-packages/strawberryfields/engine.py:306\u001b[0m, in \u001b[0;36mBaseEngine._run\u001b[0;34m(self, program, args, compile_options, **kwargs)\u001b[0m\n\u001b[1;32m    303\u001b[0m p\u001b[38;5;241m.\u001b[39mbind_params(args)\n\u001b[1;32m    304\u001b[0m p\u001b[38;5;241m.\u001b[39mlock()\n\u001b[0;32m--> 306\u001b[0m _, \u001b[38;5;28mself\u001b[39m\u001b[38;5;241m.\u001b[39msamples, \u001b[38;5;28mself\u001b[39m\u001b[38;5;241m.\u001b[39msamples_dict \u001b[38;5;241m=\u001b[39m \u001b[38;5;28;43mself\u001b[39;49m\u001b[38;5;241;43m.\u001b[39;49m\u001b[43m_run_program\u001b[49m\u001b[43m(\u001b[49m\u001b[43mp\u001b[49m\u001b[43m,\u001b[49m\u001b[43m \u001b[49m\u001b[38;5;241;43m*\u001b[39;49m\u001b[38;5;241;43m*\u001b[39;49m\u001b[43mkwargs\u001b[49m\u001b[43m)\u001b[49m\n\u001b[1;32m    307\u001b[0m \u001b[38;5;28mself\u001b[39m\u001b[38;5;241m.\u001b[39mrun_progs\u001b[38;5;241m.\u001b[39mappend(p)\n\u001b[1;32m    309\u001b[0m \u001b[38;5;28;01mif\u001b[39;00m \u001b[38;5;28misinstance\u001b[39m(p, TDMProgram) \u001b[38;5;129;01mand\u001b[39;00m received_rolled:\n",
      "File \u001b[0;32m~/Desktop/bose/venv/lib/python3.10/site-packages/strawberryfields/engine.py:430\u001b[0m, in \u001b[0;36mLocalEngine._run_program\u001b[0;34m(self, prog, **kwargs)\u001b[0m\n\u001b[1;32m    427\u001b[0m \u001b[38;5;28;01mfor\u001b[39;00m cmd \u001b[38;5;129;01min\u001b[39;00m prog\u001b[38;5;241m.\u001b[39mcircuit:\n\u001b[1;32m    428\u001b[0m     \u001b[38;5;28;01mtry\u001b[39;00m:\n\u001b[1;32m    429\u001b[0m         \u001b[38;5;66;03m# try to apply it to the backend and, if op is a measurement, store it in values\u001b[39;00m\n\u001b[0;32m--> 430\u001b[0m         val \u001b[38;5;241m=\u001b[39m \u001b[43mcmd\u001b[49m\u001b[38;5;241;43m.\u001b[39;49m\u001b[43mop\u001b[49m\u001b[38;5;241;43m.\u001b[39;49m\u001b[43mapply\u001b[49m\u001b[43m(\u001b[49m\u001b[43mcmd\u001b[49m\u001b[38;5;241;43m.\u001b[39;49m\u001b[43mreg\u001b[49m\u001b[43m,\u001b[49m\u001b[43m \u001b[49m\u001b[38;5;28;43mself\u001b[39;49m\u001b[38;5;241;43m.\u001b[39;49m\u001b[43mbackend\u001b[49m\u001b[43m,\u001b[49m\u001b[43m \u001b[49m\u001b[38;5;241;43m*\u001b[39;49m\u001b[38;5;241;43m*\u001b[39;49m\u001b[43mkwargs\u001b[49m\u001b[43m)\u001b[49m\n\u001b[1;32m    431\u001b[0m         \u001b[38;5;28;01mif\u001b[39;00m val \u001b[38;5;129;01mis\u001b[39;00m \u001b[38;5;129;01mnot\u001b[39;00m \u001b[38;5;28;01mNone\u001b[39;00m:\n\u001b[1;32m    432\u001b[0m             \u001b[38;5;28;01mfor\u001b[39;00m i, r \u001b[38;5;129;01min\u001b[39;00m \u001b[38;5;28menumerate\u001b[39m(cmd\u001b[38;5;241m.\u001b[39mreg):\n",
      "File \u001b[0;32m~/Desktop/bose/venv/lib/python3.10/site-packages/strawberryfields/ops.py:325\u001b[0m, in \u001b[0;36mMeasurement.apply\u001b[0;34m(self, reg, backend, **kwargs)\u001b[0m\n\u001b[1;32m    322\u001b[0m \u001b[38;5;28;01mif\u001b[39;00m _shots \u001b[38;5;129;01mis\u001b[39;00m \u001b[38;5;28;01mNone\u001b[39;00m:\n\u001b[1;32m    323\u001b[0m     \u001b[38;5;28;01mreturn\u001b[39;00m \u001b[38;5;28;01mNone\u001b[39;00m\n\u001b[0;32m--> 325\u001b[0m values \u001b[38;5;241m=\u001b[39m \u001b[38;5;28;43msuper\u001b[39;49m\u001b[43m(\u001b[49m\u001b[43m)\u001b[49m\u001b[38;5;241;43m.\u001b[39;49m\u001b[43mapply\u001b[49m\u001b[43m(\u001b[49m\u001b[43mreg\u001b[49m\u001b[43m,\u001b[49m\u001b[43m \u001b[49m\u001b[43mbackend\u001b[49m\u001b[43m,\u001b[49m\u001b[43m \u001b[49m\u001b[38;5;241;43m*\u001b[39;49m\u001b[38;5;241;43m*\u001b[39;49m\u001b[43mkwargs\u001b[49m\u001b[43m)\u001b[49m\n\u001b[1;32m    327\u001b[0m \u001b[38;5;66;03m# store the results in the register reference objects\u001b[39;00m\n\u001b[1;32m    328\u001b[0m \u001b[38;5;28;01mfor\u001b[39;00m v, r \u001b[38;5;129;01min\u001b[39;00m \u001b[38;5;28mzip\u001b[39m(np\u001b[38;5;241m.\u001b[39mtranspose(values), reg):\n",
      "File \u001b[0;32m~/Desktop/bose/venv/lib/python3.10/site-packages/strawberryfields/ops.py:228\u001b[0m, in \u001b[0;36mOperation.apply\u001b[0;34m(self, reg, backend, **kwargs)\u001b[0m\n\u001b[1;32m    226\u001b[0m temp \u001b[38;5;241m=\u001b[39m [rr\u001b[38;5;241m.\u001b[39mind \u001b[38;5;28;01mfor\u001b[39;00m rr \u001b[38;5;129;01min\u001b[39;00m reg]\n\u001b[1;32m    227\u001b[0m \u001b[38;5;66;03m# call the child class specialized _apply method\u001b[39;00m\n\u001b[0;32m--> 228\u001b[0m \u001b[38;5;28;01mreturn\u001b[39;00m \u001b[38;5;28;43mself\u001b[39;49m\u001b[38;5;241;43m.\u001b[39;49m\u001b[43m_apply\u001b[49m\u001b[43m(\u001b[49m\u001b[43mtemp\u001b[49m\u001b[43m,\u001b[49m\u001b[43m \u001b[49m\u001b[43mbackend\u001b[49m\u001b[43m,\u001b[49m\u001b[43m \u001b[49m\u001b[38;5;241;43m*\u001b[39;49m\u001b[38;5;241;43m*\u001b[39;49m\u001b[43mkwargs\u001b[49m\u001b[43m)\u001b[49m\n",
      "File \u001b[0;32m~/Desktop/bose/venv/lib/python3.10/site-packages/strawberryfields/ops.py:1222\u001b[0m, in \u001b[0;36mMeasureThreshold._apply\u001b[0;34m(self, reg, backend, shots, **kwargs)\u001b[0m\n\u001b[1;32m   1221\u001b[0m \u001b[38;5;28;01mdef\u001b[39;00m \u001b[38;5;21m_apply\u001b[39m(\u001b[38;5;28mself\u001b[39m, reg, backend, shots\u001b[38;5;241m=\u001b[39m\u001b[38;5;241m1\u001b[39m, \u001b[38;5;241m*\u001b[39m\u001b[38;5;241m*\u001b[39mkwargs):\n\u001b[0;32m-> 1222\u001b[0m     \u001b[38;5;28;01mreturn\u001b[39;00m \u001b[43mbackend\u001b[49m\u001b[38;5;241;43m.\u001b[39;49m\u001b[43mmeasure_threshold\u001b[49m\u001b[43m(\u001b[49m\u001b[43mreg\u001b[49m\u001b[43m,\u001b[49m\u001b[43m \u001b[49m\u001b[43mshots\u001b[49m\u001b[38;5;241;43m=\u001b[39;49m\u001b[43mshots\u001b[49m\u001b[43m,\u001b[49m\u001b[43m \u001b[49m\u001b[43mselect\u001b[49m\u001b[38;5;241;43m=\u001b[39;49m\u001b[38;5;28;43mself\u001b[39;49m\u001b[38;5;241;43m.\u001b[39;49m\u001b[43mselect\u001b[49m\u001b[43m,\u001b[49m\u001b[43m \u001b[49m\u001b[38;5;241;43m*\u001b[39;49m\u001b[38;5;241;43m*\u001b[39;49m\u001b[43mkwargs\u001b[49m\u001b[43m)\u001b[49m\n",
      "File \u001b[0;32m~/Desktop/bose/venv/lib/python3.10/site-packages/strawberryfields/backends/gaussianbackend/backend.py:260\u001b[0m, in \u001b[0;36mGaussianBackend.measure_threshold\u001b[0;34m(self, modes, shots, select, **kwargs)\u001b[0m\n\u001b[1;32m    258\u001b[0m reduced_cov \u001b[38;5;241m=\u001b[39m cov[ix_(modes_idxs, modes_idxs)]\n\u001b[1;32m    259\u001b[0m reduced_mean \u001b[38;5;241m=\u001b[39m mean[modes_idxs]\n\u001b[0;32m--> 260\u001b[0m samples \u001b[38;5;241m=\u001b[39m \u001b[43mtorontonian_sample_state\u001b[49m\u001b[43m(\u001b[49m\u001b[43mmu\u001b[49m\u001b[38;5;241;43m=\u001b[39;49m\u001b[43mreduced_mean\u001b[49m\u001b[43m,\u001b[49m\u001b[43m \u001b[49m\u001b[43mcov\u001b[49m\u001b[38;5;241;43m=\u001b[39;49m\u001b[43mreduced_cov\u001b[49m\u001b[43m,\u001b[49m\u001b[43m \u001b[49m\u001b[43msamples\u001b[49m\u001b[38;5;241;43m=\u001b[39;49m\u001b[43mshots\u001b[49m\u001b[43m)\u001b[49m\n\u001b[1;32m    262\u001b[0m \u001b[38;5;28;01mreturn\u001b[39;00m samples\n",
      "File \u001b[0;32m~/Desktop/bose/venv/lib/python3.10/site-packages/thewalrus/samples.py:574\u001b[0m, in \u001b[0;36mtorontonian_sample_state\u001b[0;34m(cov, samples, mu, hbar, max_photons, fanout, cutoff, parallel)\u001b[0m\n\u001b[1;32m    571\u001b[0m     \u001b[38;5;28;01mreturn\u001b[39;00m np\u001b[38;5;241m.\u001b[39mvstack(results)\n\u001b[1;32m    573\u001b[0m params \u001b[38;5;241m=\u001b[39m [cov, samples, mu, hbar, max_photons, fanout, cutoff]\n\u001b[0;32m--> 574\u001b[0m \u001b[38;5;28;01mreturn\u001b[39;00m \u001b[43m_torontonian_sample\u001b[49m\u001b[43m(\u001b[49m\u001b[43mparams\u001b[49m\u001b[43m)\u001b[49m\n",
      "File \u001b[0;32m~/Desktop/bose/venv/lib/python3.10/site-packages/thewalrus/samples.py:524\u001b[0m, in \u001b[0;36m_torontonian_sample\u001b[0;34m(args)\u001b[0m\n\u001b[1;32m    521\u001b[0m j \u001b[38;5;241m=\u001b[39m \u001b[38;5;241m0\u001b[39m\n\u001b[1;32m    523\u001b[0m \u001b[38;5;28;01mwhile\u001b[39;00m j \u001b[38;5;241m<\u001b[39m samples:\n\u001b[0;32m--> 524\u001b[0m     result \u001b[38;5;241m=\u001b[39m \u001b[43mgenerate_torontonian_sample\u001b[49m\u001b[43m(\u001b[49m\n\u001b[1;32m    525\u001b[0m \u001b[43m        \u001b[49m\u001b[43mcov\u001b[49m\u001b[43m,\u001b[49m\u001b[43m \u001b[49m\u001b[43mmu\u001b[49m\u001b[43m,\u001b[49m\u001b[43m \u001b[49m\u001b[43mhbar\u001b[49m\u001b[38;5;241;43m=\u001b[39;49m\u001b[43mhbar\u001b[49m\u001b[43m,\u001b[49m\u001b[43m \u001b[49m\u001b[43mmax_photons\u001b[49m\u001b[38;5;241;43m=\u001b[39;49m\u001b[43mmax_photons\u001b[49m\u001b[43m,\u001b[49m\u001b[43m \u001b[49m\u001b[43mfanout\u001b[49m\u001b[38;5;241;43m=\u001b[39;49m\u001b[43mfanout\u001b[49m\u001b[43m,\u001b[49m\u001b[43m \u001b[49m\u001b[43mcutoff\u001b[49m\u001b[38;5;241;43m=\u001b[39;49m\u001b[43mcutoff\u001b[49m\n\u001b[1;32m    526\u001b[0m \u001b[43m    \u001b[49m\u001b[43m)\u001b[49m\n\u001b[1;32m    527\u001b[0m     \u001b[38;5;28;01mif\u001b[39;00m result \u001b[38;5;241m!=\u001b[39m \u001b[38;5;241m-\u001b[39m\u001b[38;5;241m1\u001b[39m:\n\u001b[1;32m    528\u001b[0m         samples_array\u001b[38;5;241m.\u001b[39mappend(result)\n",
      "File \u001b[0;32m~/Desktop/bose/venv/lib/python3.10/site-packages/thewalrus/samples.py:451\u001b[0m, in \u001b[0;36mgenerate_torontonian_sample\u001b[0;34m(cov, mu, hbar, max_photons, fanout, cutoff)\u001b[0m\n\u001b[1;32m    449\u001b[0m \u001b[38;5;28;01mfor\u001b[39;00m k \u001b[38;5;129;01min\u001b[39;00m \u001b[38;5;28mrange\u001b[39m(\u001b[38;5;241m1\u001b[39m, fanout):\n\u001b[1;32m    450\u001b[0m     gamma_fanout[k, :] \u001b[38;5;241m=\u001b[39m gamma_fanout[k \u001b[38;5;241m-\u001b[39m \u001b[38;5;241m1\u001b[39m, :] \u001b[38;5;241m-\u001b[39m het_alpha_fanout[mode, k] \u001b[38;5;241m*\u001b[39m B[:, mode]\n\u001b[0;32m--> 451\u001b[0m lhafs \u001b[38;5;241m=\u001b[39m \u001b[43mloop_hafnian_batch_gamma\u001b[49m\u001b[43m(\u001b[49m\n\u001b[1;32m    452\u001b[0m \u001b[43m    \u001b[49m\u001b[43mB\u001b[49m\u001b[43m[\u001b[49m\u001b[43m:\u001b[49m\u001b[43m \u001b[49m\u001b[43mmode\u001b[49m\u001b[43m \u001b[49m\u001b[38;5;241;43m+\u001b[39;49m\u001b[43m \u001b[49m\u001b[38;5;241;43m1\u001b[39;49m\u001b[43m,\u001b[49m\u001b[43m \u001b[49m\u001b[43m:\u001b[49m\u001b[43m \u001b[49m\u001b[43mmode\u001b[49m\u001b[43m \u001b[49m\u001b[38;5;241;43m+\u001b[39;49m\u001b[43m \u001b[49m\u001b[38;5;241;43m1\u001b[39;49m\u001b[43m]\u001b[49m\u001b[43m,\u001b[49m\n\u001b[1;32m    453\u001b[0m \u001b[43m    \u001b[49m\u001b[43mgamma_fanout\u001b[49m\u001b[43m[\u001b[49m\u001b[43m:\u001b[49m\u001b[43m,\u001b[49m\u001b[43m \u001b[49m\u001b[43m:\u001b[49m\u001b[43m \u001b[49m\u001b[43mmode\u001b[49m\u001b[43m \u001b[49m\u001b[38;5;241;43m+\u001b[39;49m\u001b[43m \u001b[49m\u001b[38;5;241;43m1\u001b[39;49m\u001b[43m]\u001b[49m\u001b[43m,\u001b[49m\n\u001b[1;32m    454\u001b[0m \u001b[43m    \u001b[49m\u001b[43mdet_pattern\u001b[49m\u001b[43m[\u001b[49m\u001b[43m:\u001b[49m\u001b[43mmode\u001b[49m\u001b[43m]\u001b[49m\u001b[43m,\u001b[49m\n\u001b[1;32m    455\u001b[0m \u001b[43m    \u001b[49m\u001b[43mcutoff\u001b[49m\u001b[43m,\u001b[49m\n\u001b[1;32m    456\u001b[0m \u001b[43m\u001b[49m\u001b[43m)\u001b[49m\n\u001b[1;32m    457\u001b[0m probs \u001b[38;5;241m=\u001b[39m (lhafs \u001b[38;5;241m*\u001b[39m lhafs\u001b[38;5;241m.\u001b[39mconj())\u001b[38;5;241m.\u001b[39mreal \u001b[38;5;241m/\u001b[39m fac(det_outcomes)\n\u001b[1;32m    459\u001b[0m \u001b[38;5;28;01mfor\u001b[39;00m k \u001b[38;5;129;01min\u001b[39;00m \u001b[38;5;28mrange\u001b[39m(fanout):\n",
      "File \u001b[0;32m~/Desktop/bose/venv/lib/python3.10/site-packages/thewalrus/loop_hafnian_batch_gamma.py:259\u001b[0m, in \u001b[0;36mloop_hafnian_batch_gamma\u001b[0;34m(A, D, fixed_reps, N_cutoff, glynn)\u001b[0m\n\u001b[1;32m    257\u001b[0m     Ax \u001b[38;5;241m=\u001b[39m Anz[np\u001b[38;5;241m.\u001b[39mix_(edges, edges)]\u001b[38;5;241m.\u001b[39mastype(np\u001b[38;5;241m.\u001b[39mcomplex128)\n\u001b[1;32m    258\u001b[0m     Dx \u001b[38;5;241m=\u001b[39m Dnz[:, edges]\u001b[38;5;241m.\u001b[39mastype(np\u001b[38;5;241m.\u001b[39mcomplex128)\n\u001b[0;32m--> 259\u001b[0m     \u001b[38;5;28;01mreturn\u001b[39;00m \u001b[43m_calc_loop_hafnian_batch_gamma_even\u001b[49m\u001b[43m(\u001b[49m\n\u001b[1;32m    260\u001b[0m \u001b[43m        \u001b[49m\u001b[43mAx\u001b[49m\u001b[43m,\u001b[49m\u001b[43m \u001b[49m\u001b[43mDx\u001b[49m\u001b[43m,\u001b[49m\u001b[43m \u001b[49m\u001b[43mfixed_m_reps\u001b[49m\u001b[43m,\u001b[49m\u001b[43m \u001b[49m\u001b[43mbatch_max\u001b[49m\u001b[43m,\u001b[49m\u001b[43m \u001b[49m\u001b[43modd_cutoff\u001b[49m\u001b[43m,\u001b[49m\u001b[43m \u001b[49m\u001b[43mglynn\u001b[49m\u001b[38;5;241;43m=\u001b[39;49m\u001b[43mglynn\u001b[49m\n\u001b[1;32m    261\u001b[0m \u001b[43m    \u001b[49m\u001b[43m)\u001b[49m\n\u001b[1;32m    262\u001b[0m edges \u001b[38;5;241m=\u001b[39m add_batch_edges_odd(fixed_edges, oddmode)\n\u001b[1;32m    263\u001b[0m Ax \u001b[38;5;241m=\u001b[39m Anz[np\u001b[38;5;241m.\u001b[39mix_(edges, edges)]\u001b[38;5;241m.\u001b[39mastype(np\u001b[38;5;241m.\u001b[39mcomplex128)\n",
      "File \u001b[0;32m~/Desktop/bose/venv/lib/python3.10/site-packages/numba/core/serialize.py:30\u001b[0m, in \u001b[0;36m_numba_unpickle\u001b[0;34m(address, bytedata, hashed)\u001b[0m\n\u001b[1;32m     26\u001b[0m \u001b[38;5;66;03m# Keep unpickled object via `numba_unpickle` alive.\u001b[39;00m\n\u001b[1;32m     27\u001b[0m _unpickled_memo \u001b[38;5;241m=\u001b[39m {}\n\u001b[0;32m---> 30\u001b[0m \u001b[38;5;28;01mdef\u001b[39;00m \u001b[38;5;21m_numba_unpickle\u001b[39m(address, bytedata, hashed):\n\u001b[1;32m     31\u001b[0m \u001b[38;5;250m    \u001b[39m\u001b[38;5;124;03m\"\"\"Used by `numba_unpickle` from _helperlib.c\u001b[39;00m\n\u001b[1;32m     32\u001b[0m \n\u001b[1;32m     33\u001b[0m \u001b[38;5;124;03m    Parameters\u001b[39;00m\n\u001b[0;32m   (...)\u001b[0m\n\u001b[1;32m     42\u001b[0m \u001b[38;5;124;03m        unpickled object\u001b[39;00m\n\u001b[1;32m     43\u001b[0m \u001b[38;5;124;03m    \"\"\"\u001b[39;00m\n\u001b[1;32m     44\u001b[0m     key \u001b[38;5;241m=\u001b[39m (address, hashed)\n",
      "\u001b[0;31mKeyboardInterrupt\u001b[0m: "
     ]
    }
   ],
   "source": [
    "start_time = time.time()\n",
    "sample_list_base, acc_base = graph_sampling_plus(G, density_dict, 20000, S, U, dec_list1, 0, len_list1, 12, 1, 1, 1, 1, 'base:')\n",
    "end_time = time.time()\n",
    "execution_time_base = end_time - start_time"
   ]
  },
  {
   "cell_type": "code",
   "execution_count": null,
   "id": "ba7e5759",
   "metadata": {},
   "outputs": [],
   "source": [
    "# create path for sample_base\n",
    "path_sample_base = 'sample_base.csv'\n",
    "# Open the file in write mode and create a CSV writer\n",
    "with open(path_sample_base, 'w', newline='') as file:\n",
    "    writer = csv.writer(file)\n",
    "\n",
    "    # Write the list as a single row in the CSV file\n",
    "    writer.writerow(sample_list_base)"
   ]
  },
  {
   "cell_type": "code",
   "execution_count": null,
   "id": "bd1db595",
   "metadata": {},
   "outputs": [],
   "source": []
  },
  {
   "cell_type": "markdown",
   "id": "0006b1d6",
   "metadata": {},
   "source": [
    "Sampling"
   ]
  },
  {
   "cell_type": "code",
   "execution_count": null,
   "id": "a3b919c7",
   "metadata": {
    "execution": {
     "iopub.execute_input": "2023-08-01T16:39:29.474209Z",
     "iopub.status.busy": "2023-08-01T16:39:29.473885Z",
     "iopub.status.idle": "2023-08-01T16:39:29.476242Z",
     "shell.execute_reply": "2023-08-01T16:39:29.475805Z"
    }
   },
   "outputs": [],
   "source": [
    "acc_000 = []\n",
    "acc_001 = []\n",
    "acc_101 = []\n",
    "acc_111 = []\n",
    "M = 10000"
   ]
  },
  {
   "cell_type": "code",
   "execution_count": null,
   "id": "49e84894",
   "metadata": {
    "execution": {
     "iopub.execute_input": "2023-08-01T16:39:29.478152Z",
     "iopub.status.busy": "2023-08-01T16:39:29.477831Z",
     "iopub.status.idle": "2023-08-01T16:39:29.480075Z",
     "shell.execute_reply": "2023-08-01T16:39:29.479677Z"
    }
   },
   "outputs": [],
   "source": [
    "time1 = []\n",
    "time2 = []\n",
    "time3 = []\n",
    "time4 = []"
   ]
  },
  {
   "cell_type": "code",
   "execution_count": null,
   "id": "4db00272",
   "metadata": {
    "execution": {
     "iopub.execute_input": "2023-08-01T16:39:29.482069Z",
     "iopub.status.busy": "2023-08-01T16:39:29.481745Z",
     "iopub.status.idle": "2023-08-01T16:39:29.483993Z",
     "shell.execute_reply": "2023-08-01T16:39:29.483596Z"
    }
   },
   "outputs": [],
   "source": [
    "sample_000 = []\n",
    "sample_001 = []\n",
    "sample_101 = []\n",
    "sample_111 = []"
   ]
  },
  {
   "cell_type": "code",
   "execution_count": null,
   "id": "96ec6216",
   "metadata": {},
   "outputs": [],
   "source": [
    "loss_range = [0.99, 0.98, 0.97, 0.96, 0.95, 0.94, 0.93, 0.92, 0.91, 0.9]"
   ]
  },
  {
   "cell_type": "code",
   "execution_count": null,
   "id": "902529ee",
   "metadata": {
    "execution": {
     "iopub.execute_input": "2023-08-01T16:39:29.494595Z",
     "iopub.status.busy": "2023-08-01T16:39:29.494259Z",
     "iopub.status.idle": "2023-08-01T22:34:27.498886Z",
     "shell.execute_reply": "2023-08-01T22:34:27.498378Z"
    }
   },
   "outputs": [],
   "source": [
    "# setting: e1--000, e2--001, e3--101, e4--111\n",
    "# the proportion of gate we use are 1 for e1, 0.957 for e2, 0.87 for e3, and 0.736 for e4\n",
    "# then matrix approximation accuracy is 0.999 for e2, 0.99996 for e3 and e4 (verify at the end of notebook)\n",
    "\n",
    "for loss in loss_range:\n",
    "    \n",
    "    # 000\n",
    "    start_time = time.time()\n",
    "    sample_list1, acc1 = graph_sampling_plus(G, density_dict, M, S, U, dec_list1, 0, len_list1, 12, 1, 1, 1, loss, '000:')\n",
    "    end_time = time.time()\n",
    "    execution_time1 = end_time - start_time\n",
    "    time1.append(execution_time1)\n",
    "    sample_000.append(sample_list1)\n",
    "    acc_000.append(acc1)\n",
    "    \n",
    "    # 001\n",
    "    start_time = time.time()\n",
    "    sample_list2, acc2 = graph_sampling_plus(G, density_dict, M, S, U, dec_list1, 0, len_list1, 12, 0.957, 0.13, 100, loss, '001:')\n",
    "    end_time = time.time()\n",
    "    execution_time2 = end_time - start_time\n",
    "    time2.append(execution_time2)\n",
    "    sample_001.append(sample_list2)\n",
    "    acc_001.append(acc2)\n",
    "    \n",
    "    # 101\n",
    "    start_time = time.time()\n",
    "    sample_list3, acc3 = graph_sampling_plus(G, density_dict, M, S, U, dec_list2, 0, len_list2, 12, 0.87, 0.02, 100, loss, '101:')\n",
    "    end_time = time.time()\n",
    "    execution_time3 = end_time - start_time\n",
    "    time3.append(execution_time3)\n",
    "    sample_101.append(sample_list3)\n",
    "    acc_101.append(acc3)\n",
    "    \n",
    "    # 111\n",
    "    start_time = time.time()\n",
    "    sample_list4, acc4 = graph_sampling_plus(G, density_dict, M, S, U, dec_list2, 1, len_list2, 9, 0.736, 0.025, 100, loss, '111:')\n",
    "    end_time = time.time()\n",
    "    execution_time4 = end_time - start_time\n",
    "    time4.append(execution_time4)\n",
    "    sample_111.append(sample_list4)\n",
    "    acc_111.append(acc4)"
   ]
  },
  {
   "cell_type": "code",
   "execution_count": null,
   "id": "a1e4468e",
   "metadata": {},
   "outputs": [],
   "source": []
  },
  {
   "cell_type": "code",
   "execution_count": null,
   "id": "aa948e04",
   "metadata": {
    "execution": {
     "iopub.execute_input": "2023-08-01T22:34:27.637741Z",
     "iopub.status.busy": "2023-08-01T22:34:27.637456Z",
     "iopub.status.idle": "2023-08-01T22:34:27.882336Z",
     "shell.execute_reply": "2023-08-01T22:34:27.881737Z"
    }
   },
   "outputs": [],
   "source": [
    "# create path for sample_000\n",
    "path_sample_000 = 'sample_000.csv'\n",
    "# Open the file in write mode and create a CSV writer\n",
    "with open(path_sample_000, 'w', newline='') as file:\n",
    "    writer = csv.writer(file)\n",
    "\n",
    "    # Write the list as a single row in the CSV file\n",
    "    writer.writerow(sample_000)\n",
    "    \n",
    "# create path for sample_001\n",
    "path_sample_001 = 'sample_001.csv'\n",
    "# Open the file in write mode and create a CSV writer\n",
    "with open(path_sample_001, 'w', newline='') as file:\n",
    "    writer = csv.writer(file)\n",
    "\n",
    "    # Write the list as a single row in the CSV file\n",
    "    writer.writerow(sample_001)\n",
    "    \n",
    "# create path for sample_101\n",
    "path_sample_101 = 'sample_101.csv'\n",
    "# Open the file in write mode and create a CSV writer\n",
    "with open(path_sample_101, 'w', newline='') as file:\n",
    "    writer = csv.writer(file)\n",
    "\n",
    "    # Write the list as a single row in the CSV file\n",
    "    writer.writerow(sample_101)\n",
    "    \n",
    "# create path for sample_111\n",
    "path_sample_111 = 'sample_111.csv'\n",
    "# Open the file in write mode and create a CSV writer\n",
    "with open(path_sample_111, 'w', newline='') as file:\n",
    "    writer = csv.writer(file)\n",
    "\n",
    "    # Write the list as a single row in the CSV file\n",
    "    writer.writerow(sample_111)"
   ]
  },
  {
   "cell_type": "code",
   "execution_count": null,
   "id": "752cf8cc",
   "metadata": {},
   "outputs": [],
   "source": []
  },
  {
   "cell_type": "markdown",
   "id": "d68dd280",
   "metadata": {},
   "source": [
    "Calculate the JSD, picture 1 in densesubgraph, Fig. 11."
   ]
  },
  {
   "cell_type": "code",
   "execution_count": null,
   "id": "215e5e62",
   "metadata": {},
   "outputs": [],
   "source": [
    "def jensen_shannon_divergence(p, q):\n",
    "    \"\"\"\n",
    "    Calculate the Jensen-Shannon Divergence (JSD) between two probability distributions.\n",
    "\n",
    "    Parameters:\n",
    "        p (numpy array): Probability distribution P as a 1D numpy array.\n",
    "        q (numpy array): Probability distribution Q as a 1D numpy array.\n",
    "\n",
    "    Returns:\n",
    "        float: The Jensen-Shannon Divergence (JSD) between P and Q in nats.\n",
    "    \"\"\"\n",
    "    # Ensure that the input arrays have the same length\n",
    "    if len(p) != len(q):\n",
    "        raise ValueError(\"Input arrays must have the same length.\")\n",
    "\n",
    "    # Normalize the input arrays to ensure they are valid probability distributions\n",
    "    p = p / np.sum(p)\n",
    "    q = q / np.sum(q)\n",
    "\n",
    "    # Calculate the average distribution (M) as the element-wise average of P and Q\n",
    "    m = 0.5 * (p + q)\n",
    "    \n",
    "    # Count the number of zero entries\n",
    "    zero_count = np.count_nonzero(m == 0)\n",
    "\n",
    "    # Print the result\n",
    "    if zero_count>0:\n",
    "        print('error: m has zero entry')\n",
    "\n",
    "\n",
    "    kl_pm = 0\n",
    "    for i, p_i in enumerate(p):\n",
    "        if p[i] != 0:\n",
    "            kl_pm = kl_pm + p[i]*np.log(p[i] / m[i])\n",
    "            \n",
    "    kl_qm = 0\n",
    "    for i, q_i in enumerate(q):\n",
    "        if q[i] != 0:\n",
    "            kl_qm = kl_qm + q[i]*np.log(q[i] / m[i])\n",
    "    \n",
    "\n",
    "    # Calculate the Jensen-Shannon Divergence (JSD) in nats\n",
    "    jsd = 0.5 * (kl_pm + kl_qm)\n",
    "\n",
    "    return jsd"
   ]
  },
  {
   "cell_type": "code",
   "execution_count": null,
   "id": "8b990a4a",
   "metadata": {},
   "outputs": [],
   "source": [
    "def process_sample(sample):\n",
    "    # Remove 0 from the sample\n",
    "    sample_without_zeros = [element for element in sample if element != 0]\n",
    "    # Sort the sample in descending order\n",
    "    sorted_sample = sorted(sample_without_zeros, reverse=True)\n",
    "    return sorted_sample"
   ]
  },
  {
   "cell_type": "code",
   "execution_count": null,
   "id": "84669255",
   "metadata": {},
   "outputs": [],
   "source": [
    "# the element in base_sample and sample should be str\n",
    "def calculate_jsd(base_sample, sample):\n",
    "    \n",
    "    for i, s in enumerate(base_sample):\n",
    "        # Example string representing a list\n",
    "        string_representation = s\n",
    "\n",
    "        # Convert the string to a list using ast.literal_eval()\n",
    "        try:\n",
    "            result_list = ast.literal_eval(string_representation)\n",
    "        except ValueError as e:\n",
    "            # If the string is not a valid Python literal, handle the exception\n",
    "            print(f\"Error: {e}\")\n",
    "            result_list = None\n",
    "            \n",
    "        s = process_sample(result_list)\n",
    "        \n",
    "        string_list = str(s)\n",
    "        \n",
    "        base_sample[i] = string_list\n",
    "        \n",
    "    for i, s in enumerate(sample):\n",
    "        # Example string representing a list\n",
    "        string_representation = s\n",
    "\n",
    "        # Convert the string to a list using ast.literal_eval()\n",
    "        try:\n",
    "            result_list = ast.literal_eval(string_representation)\n",
    "        except ValueError as e:\n",
    "            # If the string is not a valid Python literal, handle the exception\n",
    "            print(f\"Error: {e}\")\n",
    "            result_list = None\n",
    "            \n",
    "        s = process_sample(result_list)\n",
    "        \n",
    "        string_list = str(s)\n",
    "        \n",
    "        sample[i] = string_list\n",
    "        \n",
    "        \n",
    "    \n",
    "    # Combine the two lists and convert to a set to remove duplicates\n",
    "    combined_set = set(base_sample + sample)\n",
    "\n",
    "    # Convert the set back to a list to get a distinct list\n",
    "    distinct_sample = list(combined_set)\n",
    "    \n",
    "    # Calculate the probability for base_sample\n",
    "    probability_list1 = []\n",
    "    total_elements1 = len(base_sample)\n",
    "    element_count1 = Counter(base_sample)\n",
    "    for element in distinct_sample:\n",
    "        occurrences = element_count1[element] if element in element_count1 else 0\n",
    "        probability = occurrences / total_elements1\n",
    "        probability_list1.append(probability)\n",
    "        \n",
    "    # Calculate the probability for sample\n",
    "    probability_list2 = []\n",
    "    total_elements2 = len(sample)\n",
    "    element_count2 = Counter(sample)\n",
    "    for element in distinct_sample:\n",
    "        occurrences = element_count2[element] if element in element_count2 else 0\n",
    "        probability = occurrences / total_elements2\n",
    "        probability_list2.append(probability) \n",
    "        \n",
    "    # Calculate the Jensen-Shannon Divergence (JSD) between P and Q\n",
    "    jsd_result = jensen_shannon_divergence(probability_list1, probability_list2)\n",
    "#     print(\"Jensen-Shannon Divergence:\", jsd_result)   \n",
    "    \n",
    "    return jsd_result"
   ]
  },
  {
   "cell_type": "code",
   "execution_count": null,
   "id": "bfdead4b",
   "metadata": {},
   "outputs": [],
   "source": [
    "# Function to calculate the mean value for a group of 3 numbers\n",
    "def calculate_mean(group):\n",
    "    return sum(group) / len(group)"
   ]
  },
  {
   "cell_type": "code",
   "execution_count": null,
   "id": "2fd887ab",
   "metadata": {},
   "outputs": [],
   "source": []
  },
  {
   "cell_type": "code",
   "execution_count": null,
   "id": "de3cd56d",
   "metadata": {},
   "outputs": [],
   "source": [
    "# create path for base_sample\n",
    "path_sample_base = 'sample_base.csv'\n",
    "# Open the file in read mode and create a CSV reader\n",
    "with open(path_sample_base, 'r') as file:\n",
    "    reader = csv.reader(file)\n",
    "\n",
    "    # Read the first row from the CSV file\n",
    "    row = next(reader)\n",
    "\n",
    "    # Convert the row elements to integers (if needed)\n",
    "    sample_base_read = [element for element in row] \n",
    "    \n",
    "x_axis = [0.01, 0.02, 0.03, 0.04, 0.05, 0.06, 0.07, 0.08, 0.09, 0.1]"
   ]
  },
  {
   "cell_type": "code",
   "execution_count": null,
   "id": "d9bea8c6",
   "metadata": {},
   "outputs": [],
   "source": [
    "# create path for sample\n",
    "path_sample = 'sample_000.csv'\n",
    "# Open the file in read mode and create a CSV reader\n",
    "with open(path_sample, 'r') as file:\n",
    "    reader = csv.reader(file)\n",
    "\n",
    "    # Read the first row from the CSV file\n",
    "    row = next(reader)\n",
    "\n",
    "    # Convert the row elements to integers (if needed)\n",
    "    sample_read1 = [element for element in row]\n",
    "    \n",
    "\n",
    "# create path for sample\n",
    "path_sample = 'sample_001.csv'\n",
    "# Open the file in read mode and create a CSV reader\n",
    "with open(path_sample, 'r') as file:\n",
    "    reader = csv.reader(file)\n",
    "\n",
    "    # Read the first row from the CSV file\n",
    "    row = next(reader)\n",
    "\n",
    "    # Convert the row elements to integers (if needed)\n",
    "    sample_read2 = [element for element in row]\n",
    "    \n",
    "# create path for sample\n",
    "path_sample = 'sample_101.csv'\n",
    "# Open the file in read mode and create a CSV reader\n",
    "with open(path_sample, 'r') as file:\n",
    "    reader = csv.reader(file)\n",
    "\n",
    "    # Read the first row from the CSV file\n",
    "    row = next(reader)\n",
    "\n",
    "    # Convert the row elements to integers (if needed)\n",
    "    sample_read3 = [element for element in row]\n",
    "    \n",
    "# create path for sample\n",
    "path_sample = 'sample_111.csv'\n",
    "# Open the file in read mode and create a CSV reader\n",
    "with open(path_sample, 'r') as file:\n",
    "    reader = csv.reader(file)\n",
    "\n",
    "    # Read the first row from the CSV file\n",
    "    row = next(reader)\n",
    "\n",
    "    # Convert the row elements to integers (if needed)\n",
    "    sample_read4 = [element for element in row]\n",
    "    \n",
    "    \n",
    "\n",
    "jsd1 = []\n",
    "\n",
    "for i, sample in enumerate(sample_read1):\n",
    "    \n",
    "    # Your string representation of the list of lists\n",
    "    string_representation = sample_read1[i]\n",
    "\n",
    "    # Convert the string to an actual list of lists\n",
    "    try:\n",
    "        list_of_lists = ast.literal_eval(string_representation)\n",
    "    except ValueError as e:\n",
    "        # If the string_representation is not a valid Python literal, ValueError will be raised.\n",
    "        print(\"Error:\", e)\n",
    "        list_of_lists = None\n",
    "    \n",
    "    string_list = [str(sub_list) for sub_list in list_of_lists]\n",
    "    \n",
    "    jsd = calculate_jsd(sample_base_read, string_list)\n",
    "    \n",
    "    jsd1.append(jsd)\n",
    "    \n",
    "#     print(jsd)\n",
    "    \n",
    "jsd2 = []\n",
    "\n",
    "for i, sample in enumerate(sample_read2):\n",
    "    \n",
    "    # Your string representation of the list of lists\n",
    "    string_representation = sample_read2[i]\n",
    "\n",
    "    # Convert the string to an actual list of lists\n",
    "    try:\n",
    "        list_of_lists = ast.literal_eval(string_representation)\n",
    "    except ValueError as e:\n",
    "        # If the string_representation is not a valid Python literal, ValueError will be raised.\n",
    "        print(\"Error:\", e)\n",
    "        list_of_lists = None\n",
    "    \n",
    "    string_list = [str(sub_list) for sub_list in list_of_lists]\n",
    "    \n",
    "    jsd = calculate_jsd(sample_base_read, string_list)\n",
    "    \n",
    "    jsd2.append(jsd)\n",
    "    \n",
    "#     print(jsd)\n",
    "    \n",
    "    \n",
    "jsd3 = []\n",
    "\n",
    "for i, sample in enumerate(sample_read3):\n",
    "    \n",
    "    # Your string representation of the list of lists\n",
    "    string_representation = sample_read3[i]\n",
    "\n",
    "    # Convert the string to an actual list of lists\n",
    "    try:\n",
    "        list_of_lists = ast.literal_eval(string_representation)\n",
    "    except ValueError as e:\n",
    "        # If the string_representation is not a valid Python literal, ValueError will be raised.\n",
    "        print(\"Error:\", e)\n",
    "        list_of_lists = None\n",
    "    \n",
    "    string_list = [str(sub_list) for sub_list in list_of_lists]\n",
    "    \n",
    "    jsd = calculate_jsd(sample_base_read, string_list)\n",
    "    \n",
    "    jsd3.append(jsd)\n",
    "    \n",
    "#     print(jsd)\n",
    "    \n",
    "    \n",
    "    \n",
    "jsd4 = []\n",
    "\n",
    "for i, sample in enumerate(sample_read4):\n",
    "    \n",
    "    # Your string representation of the list of lists\n",
    "    string_representation = sample_read4[i]\n",
    "\n",
    "    # Convert the string to an actual list of lists\n",
    "    try:\n",
    "        list_of_lists = ast.literal_eval(string_representation)\n",
    "    except ValueError as e:\n",
    "        # If the string_representation is not a valid Python literal, ValueError will be raised.\n",
    "        print(\"Error:\", e)\n",
    "        list_of_lists = None\n",
    "    \n",
    "    string_list = [str(sub_list) for sub_list in list_of_lists]\n",
    "    \n",
    "    jsd = calculate_jsd(sample_base_read, string_list)\n",
    "    \n",
    "    jsd4.append(jsd)\n",
    "    \n",
    "#     print(jsd)\n",
    "    \n",
    "    \n",
    "plt.figure(figsize=(8, 4))    \n",
    "    \n",
    "# Plot data on each subplot\n",
    "plt.plot(x_axis, jsd1, color='blue', label='baseline', marker='x', markersize=16, linewidth=1)\n",
    "plt.plot(x_axis, jsd2, color='green', label='rotation-cut', marker='^', markersize=16, linewidth=1)\n",
    "plt.plot(x_axis, jsd3, color='orange', label='decomposition-opt', marker='o', markersize=16, linewidth=1)\n",
    "plt.plot(x_axis, jsd4, color='red', label='full-opt', marker='s', markersize=16, linewidth=1)\n",
    "# plt.set_title('6by6 structure', fontsize=15)\n",
    "# plt.xlabel('loss', fontsize=15)\n",
    "# plt.ylabel('JSD-dense', fontsize=15)\n",
    "plt.tick_params(axis='x', labelsize=28)\n",
    "plt.tick_params(axis='y', labelsize=28)\n",
    "# Hide the tick labels on both x and y axes\n",
    "# plt.xticks([])\n",
    "# plt.yticks([])\n",
    "# axs[0, 0].legend(fontsize=12, loc='lower left')  # Set the fontsize for the legend labels to 12\n",
    "# plt.gca().invert_yaxis()  # Invert the y-axis\n",
    "# plt.legend(loc='lower left', fontsize=24)\n",
    "\n",
    "# Save the plot as a PDF\n",
    "output_filename = 'Fig 11.svg'\n",
    "plt.savefig(output_filename, format='svg', bbox_inches='tight')\n",
    "\n",
    "# Show the plot\n",
    "plt.show()"
   ]
  },
  {
   "cell_type": "code",
   "execution_count": null,
   "id": "bb51d659",
   "metadata": {},
   "outputs": [],
   "source": []
  },
  {
   "cell_type": "code",
   "execution_count": null,
   "id": "631a84e1",
   "metadata": {},
   "outputs": [],
   "source": []
  },
  {
   "cell_type": "code",
   "execution_count": null,
   "id": "759a2773",
   "metadata": {},
   "outputs": [],
   "source": []
  },
  {
   "cell_type": "markdown",
   "id": "344ff319",
   "metadata": {},
   "source": [
    "Calculate the approximation accuracy for the four experiment settings, \n",
    "this is just a verification to show our gate drop ratio is reasonable."
   ]
  },
  {
   "cell_type": "code",
   "execution_count": null,
   "id": "7148a3fd",
   "metadata": {},
   "outputs": [],
   "source": [
    "unitary_accuracy(1000, U, dec_list1, 0, len_list1, 12, 1, 1, 100)"
   ]
  },
  {
   "cell_type": "code",
   "execution_count": null,
   "id": "6dd54167",
   "metadata": {},
   "outputs": [],
   "source": [
    "unitary_accuracy(1000, U, dec_list1, 0, len_list1, 12, 0.957, 0.13, 100)"
   ]
  },
  {
   "cell_type": "code",
   "execution_count": null,
   "id": "7becd60d",
   "metadata": {},
   "outputs": [],
   "source": [
    "unitary_accuracy(1000, U, dec_list2, 0, len_list2, 12, 0.87, 0.02, 100)"
   ]
  },
  {
   "cell_type": "code",
   "execution_count": null,
   "id": "21b6d1aa",
   "metadata": {},
   "outputs": [],
   "source": [
    "unitary_accuracy(1000, U, dec_list2, 1, len_list2, 9, 0.736, 0.025, 100)"
   ]
  },
  {
   "cell_type": "code",
   "execution_count": null,
   "id": "4f731f69",
   "metadata": {},
   "outputs": [],
   "source": []
  }
 ],
 "metadata": {
  "kernelspec": {
   "display_name": "Python 3 (ipykernel)",
   "language": "python",
   "name": "python3"
  },
  "language_info": {
   "codemirror_mode": {
    "name": "ipython",
    "version": 3
   },
   "file_extension": ".py",
   "mimetype": "text/x-python",
   "name": "python",
   "nbconvert_exporter": "python",
   "pygments_lexer": "ipython3",
   "version": "3.10.12"
  }
 },
 "nbformat": 4,
 "nbformat_minor": 5
}
